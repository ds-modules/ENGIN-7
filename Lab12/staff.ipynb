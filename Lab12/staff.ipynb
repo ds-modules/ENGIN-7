{
 "cells": [
  {
   "cell_type": "markdown",
   "metadata": {
    "collapsed": true
   },
   "source": [
    "# E7: Introduction to Computer Programming for Scientists and Engineers"
   ]
  },
  {
   "cell_type": "markdown",
   "metadata": {},
   "source": [
    "## Lab Assignment 12"
   ]
  },
  {
   "cell_type": "markdown",
   "metadata": {},
   "source": [
    "For each question, you will have to fill in one or more Python functions. We provide an autograder with a number of test cases that you can use to test your function. Note that the fact that your function works for all test cases thus provided does necessarily guarantee\n",
    "that it will work for all possible test cases relevant to the question. It is your responsibility\n",
    "to test your function thoroughly, to ensure that it will also work in situations not covered\n",
    "by the test cases provided"
   ]
  },
  {
   "cell_type": "code",
   "execution_count": 18,
   "metadata": {
    "collapsed": true
   },
   "outputs": [],
   "source": [
    "# Please run this cell, and do not modify the contents\n",
    "import math\n",
    "import numpy as np\n",
    "import matplotlib.pyplot as plt\n",
    "import scipy.integrate\n",
    "np.seterr(all='ignore');\n",
    "%matplotlib inline\n",
    "# %run lab2_ag.py\n",
    "\n",
    "# THE QUESTION TEXT HAS NOT BEEN CHANGED. TEXT EXAMPLES ARE GIVEN IN MATLAB STILL BUT SOLUTIONS ARE WRITTEN IN PYTHON\n",
    "# In particular, there are many examples given in matlab that can be translated to python"
   ]
  },
  {
   "cell_type": "markdown",
   "metadata": {},
   "source": [
    "## Predefined Functions:\n",
    "Simplified syntax for python to get an ode45-equivalent function"
   ]
  },
  {
   "cell_type": "code",
   "execution_count": 6,
   "metadata": {
    "collapsed": true
   },
   "outputs": [],
   "source": [
    "def ode45(ode_fun, t_span, y0):\n",
    "    '''\n",
    "    TODO: implement variable timestep handling when len(t_span) == 2 to match MATLAB case\n",
    "    Currently just defaults to using dt=3.76 if len(t_span)==2\n",
    "    returns t, y\n",
    "    '''\n",
    "    ode45 = scipy.integrate.ode(ode_fun).set_integrator('dopri5') \n",
    "    ode45.set_initial_value(y0, t_span[0])\n",
    "    y = [y0]\n",
    "    dt = 3.76\n",
    "    if (len(t_span)==2):\n",
    "        t = [t_span[0]]\n",
    "        while (ode45.successful() and t[-1]<t_span[1]-dt):\n",
    "            y.append(ode45.integrate(t[-1]+dt)[0])\n",
    "            t.append(t[-1]+dt)\n",
    "    else:\n",
    "        t = t_span\n",
    "        for i in range(len(t_span) - 1):\n",
    "            y.append(ode45.integrate(t_span[i+1])[0])\n",
    "    return np.array(t), np.array(y)"
   ]
  },
  {
   "cell_type": "markdown",
   "metadata": {},
   "source": [
    "## Question 1: Thermal Dynamics of a Building\n",
    "\n",
    "When designing a building, it is important to be able to model how the outdoor ambient\n",
    "temperature influences the temperature inside the building. To save electricity, energy en-\n",
    "gineers will model several proposed building designs and decide which design would be the\n",
    "most efficient for a given climate. The most important design aspects are often the selection\n",
    "of the HVAC (heating, ventilation, and air conditioning) equipment, the building materials\n",
    "to be used, the orientation of the building, and the window to wall ratio. In this problem,\n",
    "we consider only the building materials and the outdoor ambient temperature to determine\n",
    "the temperature inside a building. Today, well-designed, highly controlled, well-integrated\n",
    "buildings like these are often referred to as \"Smart Buildings\"."
   ]
  },
  {
   "cell_type": "markdown",
   "metadata": {},
   "source": [
    "In this question, we will use a simplified model of a building, represented in Figure 1.\n",
    "\n",
    "<img src=\"resources/E7_Lab12_1.jpg\" style=\"width: 350px;\"/>\n",
    "<center>*Figure 1: Schematic of Building*</center>"
   ]
  },
  {
   "cell_type": "markdown",
   "metadata": {},
   "source": [
    "Here, $t$ is the time, $T_A(t)$ is the outdoor ambient temperature in degrees Fahrenheit, given by\n",
    "equation 1, $T(t)$ is the indoor temperature in degrees Fahrenheit, $R$ is the thermal resistance\n",
    "of the wall, in $\\frac{^\\circ \\text{F hr}}{\\text{Btu}}$ , and $C$ is the thermal capacitance of the wall, in $\\frac{\\text{Btu}}{^\\circ \\text{F}}$. $\\text{Btu}$ is a unit of\n",
    "work and stands for British Thermal Unit, as commonly used in the energy industry. For\n",
    "this problem we will represent the diurnal cycle of the ambient outdoor temperature with a\n",
    "Gaussian function:\n",
    "\n",
    "$$T_A(t) = 60^\\circ F + \\frac{10^\\circ \\text{F hr}}{\\sigma \\sqrt{2\\pi}} \\exp\\Big(\\ \\frac{-(t-\\mu)^2}{2\\sigma^2}\\Big) \\;\\; (1)$$\n",
    "\n",
    "where $T_A$ is the ambient temperature in degrees Fahrenheit, $t$ is the time of day in hours\n",
    "(between 0 and 24), $\\sigma$ = 1 hr, and $\\mu$ = 12 hr. Figure 2 shows $T_A$ versus time of day."
   ]
  },
  {
   "cell_type": "markdown",
   "metadata": {},
   "source": [
    "<img src=\"resources/E7_Lab12_2.jpg\" style=\"width: 500px;\"/>\n",
    "<center>*Figure 2: Daily profile of the ambient outdoor air temperature, TA(t).*</center>"
   ]
  },
  {
   "cell_type": "markdown",
   "metadata": {},
   "source": [
    "We model the thermal dynamics of the building given by the interaction between the ambient\n",
    "temperature and the indoor temperature with the following governing equation:\n",
    "\n",
    "$$\\frac{dT(t)}{dt} = \\frac{1}{RC}(T_A(t)-T(t)) \\qquad\\qquad(2)$$\n",
    "\n",
    "given the initial temperature $T(0) = T_0$. We assume that no heating or air conditioning is\n",
    "running, so in this problem the only controllable design aspects are the properties of the\n",
    "building materials, $R$ and $C$.\n",
    "\n",
    "You do not have to do any unit conversion for this problem (1.1 and 1.2) as all the quantities\n",
    "will be given with consistent units."
   ]
  },
  {
   "cell_type": "markdown",
   "metadata": {},
   "source": [
    "### 1.1: Euler's Method\n",
    "\n",
    "In this question, we will use Euler's method to calculate an approximate solution to Equation 2. Using Euler's method, one can estimate the solution of Equation 2 at time $t_{i+1}$ knowing\n",
    "the solution at time $t_i$:\n",
    "\n",
    "$$T(t_{i+1}) \\approx T(t_i) + \\frac{dT}{dt}\\Big|_{t_i} \\Delta t \\qquad\\qquad (3)$$\n",
    "\n",
    "where $\\Delta t = t_{i+1} -t_i$ is the time step and $\\frac{dT}{dt}\\Big|_{t_i}$ is given by Equation 2. In this problem we use a constant time step when using Euler's method (i.e. $\\Delta t = t_3 - t_2 = t_2 - t_1 = t_{k+1}-t_k)$."
   ]
  },
  {
   "cell_type": "markdown",
   "metadata": {},
   "source": [
    "Write a function `myEulerApprox(delta_t, T 0, R, C)` returning `(T_euler, t_euler)`,\n",
    "where `delta_t`, `T_0`, `R`, and `C` are scalars of class double. `delta_t` ($\\Delta t$ in Equation 3) is the\n",
    "time step, in units of hours. `T_0` is the initial condition (i.e. temperature $T(t = 0)$ at time\n",
    "zero) in $^\\circ F$ inside the building. $R$ is the thermal resistance of the wall in $\\frac{^\\circ \\text{F hr}}{\\text{Btu}}$. `C` is the thermal\n",
    "capacitance of the wall in $\\frac{\\text{Btu}}{^\\circ \\text{F}}$. Your function should use Euler's method to solve Equation 2\n",
    "over the time period 0 to 24 hours, using a constant time step of `delta_t` hours. The ambient\n",
    "outdoor air temperature $T_A$ is given by Equation 1. The function's outputs `T_euler` and\n",
    "`t_euler` represent the temperature in $^\\circ \\text{F}$ in the building estimated using Euler's method,\n",
    "and the time of day in hours at which temperature is estimated. `T_euler` and `t_euler`\n",
    "should be arrays of class double and size $(\\frac{24}{\\Delta t} + 1) \\times 1$. You can assume that `delta_t` is such\n",
    "that the array `0:delta_t:24` contains the value 24."
   ]
  },
  {
   "cell_type": "code",
   "execution_count": 7,
   "metadata": {
    "collapsed": true
   },
   "outputs": [],
   "source": [
    "def myEulerApprox(delta_t, T_0, R, C):\n",
    "    ''' \n",
    "    returns T_euler, t_euler\n",
    "    Inputs:\n",
    "    delta_t: scalar, time-step of the Euler method (hours)\n",
    "    T_0: scalar, initial temperature in the building (°F)\n",
    "    R: scalar, thermal resistance of 1 sq.ft of wall (°F.hr/BTU)\n",
    "    C: scalar, thermal capacitance of 1 sq.ft of wall (BTU/°F)\n",
    "    \n",
    "    Outputs:\n",
    "    T_euler: vector of size (24/delta_t+1)x1, temperature in the building as\n",
    "    estimated by Euler's method (°F)\n",
    "    t_euler: vector of size (24/delta_t+1)x1, time steps at which the\n",
    "    temperature is evaluated (hours)\n",
    "\n",
    "    The function evaluates the temperature inside a building using Euler's\n",
    "    method to approximate the solution of the governing ODE. A Gaussian\n",
    "    distribution of the external temperature is used.\n",
    "    t_euler=(0:delta_t:24)'; MATLAB SYNTAX\n",
    "    t_euler = np.linspace(0,24,24/delta_t + 1) PYTHON SYNTAX\n",
    "    '''\n",
    "    \n",
    "    # converting to python linspace\n",
    "    # note that this will not exactly match MATLAB syntax (0:delta_t:24) if it does not contain 24\n",
    "    # this is a potential issue due to endpoint exclusion by np.arange function\n",
    "    t_euler = np.linspace(0,24,24/delta_t + 1)\n",
    "    \n",
    "    \n",
    "    T_min = 60\n",
    "    Amp = 10\n",
    "    sigma = 1\n",
    "    mu = 12\n",
    "    Ta = (Amp/(sigma*np.sqrt(2*np.pi)))*np.exp(-(np.square(t_euler-mu)/2*np.square(sigma))) + T_min\n",
    "    \n",
    "    # implement Euler's method\n",
    "    T_euler = np.zeros(len(t_euler));\n",
    "    T_euler[0]=T_0;\n",
    "    for i in range(len(T_euler) - 1):\n",
    "        T_euler[i+1]=T_euler[i]+(delta_t/(R*C))*(Ta[i]-T_euler[i])\n",
    "        \n",
    "    return T_euler, t_euler"
   ]
  },
  {
   "cell_type": "markdown",
   "metadata": {},
   "source": [
    "## Published Test Case"
   ]
  },
  {
   "cell_type": "code",
   "execution_count": 8,
   "metadata": {},
   "outputs": [
    {
     "name": "stdout",
     "output_type": "stream",
     "text": [
      "T_Euler: \n",
      " [ 70.          69.5         69.025       68.57375     68.1450625\n",
      "  67.73780938  67.35091891  66.98337296  66.63420506  66.30256172\n",
      "  65.98964956  65.71716256  65.5522898   65.47414645  65.32142449\n",
      "  65.08234875  64.83044723  64.58899179  64.35954294  64.1415658\n",
      "  63.93448751  63.73776313  63.55087498  63.37333123  63.20466467]\n",
      "t_euler: \n",
      " [  0.   1.   2.   3.   4.   5.   6.   7.   8.   9.  10.  11.  12.  13.  14.\n",
      "  15.  16.  17.  18.  19.  20.  21.  22.  23.  24.]\n"
     ]
    },
    {
     "name": "stderr",
     "output_type": "stream",
     "text": [
      "/anaconda/lib/python3.6/site-packages/ipykernel_launcher.py:26: DeprecationWarning: object of type <class 'float'> cannot be safely interpreted as an integer.\n"
     ]
    }
   ],
   "source": [
    "T_euler, t_euler = myEulerApprox(1,70,2,10)\n",
    "print(\"T_Euler: \\n\", T_euler)\n",
    "print(\"t_euler: \\n\", t_euler)"
   ]
  },
  {
   "cell_type": "markdown",
   "metadata": {},
   "source": [
    "## Additional Test Case"
   ]
  },
  {
   "cell_type": "code",
   "execution_count": 9,
   "metadata": {},
   "outputs": [
    {
     "name": "stdout",
     "output_type": "stream",
     "text": [
      "T_Euler2: \n",
      " [ 65.          64.5         64.05        63.645       63.28050001\n",
      "  62.95258384  62.71131642  62.83912706  62.60920532  62.34841862\n",
      "  62.11357676  61.90221908  61.71199718]\n",
      "t_euler2: \n",
      " [  0.   2.   4.   6.   8.  10.  12.  14.  16.  18.  20.  22.  24.]\n"
     ]
    },
    {
     "name": "stderr",
     "output_type": "stream",
     "text": [
      "/anaconda/lib/python3.6/site-packages/ipykernel_launcher.py:26: DeprecationWarning: object of type <class 'float'> cannot be safely interpreted as an integer.\n"
     ]
    }
   ],
   "source": [
    "T2, t2 = myEulerApprox(2,65,2,10)\n",
    "print(\"T_Euler2: \\n\", T2)\n",
    "print(\"t_euler2: \\n\", t2)"
   ]
  },
  {
   "cell_type": "markdown",
   "metadata": {},
   "source": [
    "### 1.2: Python's ODE Solver\n",
    "\n",
    "In this question, we will solve the same ordinary differential equation as in the previous\n",
    "question, but this time using Python's `ode45` solver, which uses a higher-order Runge-Kutta\n",
    "formula. \n",
    "\n",
    "Write a function `myODESolver(delta_t, T 0, R, C)` returning `(T, t, range)`.\n",
    "`delta_t`, `T_0`, `R`, and `C` are the same as for function `myEulerApprox`. Your function\n",
    "should use Python's `ode45` solver to solve Equation 2 over the time period 0 to 24 hours,\n",
    "using a constant time step specified by `delta_t`. The function's outputs `T` and `t` represent\n",
    "the temperature in $^\\circ \\text{F}$ in the building estimated by Python's `ode45` solver, and the time of\n",
    "day in hours at which temperature is estimated. `T` and `t` should be arrays of class double\n",
    "and size $(\\frac{24}{\\Delta t} + 1) \\times 1$. You can assume that `delta_t` is such that the array `0:delta_t:24`\n",
    "contains the value 24. The function's output range should be an array of class double and\n",
    "size $1 \\times 2$ which contains the minimum and maximum temperatures (in that order) in $^\\circ \\text{F}$\n",
    "experienced in the building during the 24-hour simulated time window."
   ]
  },
  {
   "cell_type": "markdown",
   "metadata": {},
   "source": [
    "We can compare the result of Python's `ode45` solver with our results from Euler's method by\n",
    "plugging in the same test values into both functions and plotting them against each other\n",
    "(we will look more into assessing the discrepancies between solution methods in the next\n",
    "problem):\n",
    "\n",
    "```MATLAB\n",
    ">> [T euler, t euler] = myEulerApprox(1, 70, 2, 10);\n",
    ">> [T, t, range] = myODESolver(1, 70, 2, 10);\n",
    ">> figure;\n",
    ">> plot(t euler, T euler, t, T);\n",
    "```\n",
    "\n",
    "<img src=\"resources/E7_Lab12_3.jpg\" style=\"width: 500px;\"/>\n",
    "<center>*Figure 3: Euler's Method vs. Matlab ODE Solver for problem 1*</center>\n"
   ]
  },
  {
   "cell_type": "code",
   "execution_count": 10,
   "metadata": {
    "collapsed": true
   },
   "outputs": [],
   "source": [
    "def myODESolver(delta_t, T_0, R, C):\n",
    "    '''\n",
    "    returs T, t_euler\n",
    "    Inputs:\n",
    "    delta_t: scalar, time-step for solving the ODE (hours)\n",
    "    T_0: scalar, initial temperature in the building (°F)\n",
    "    R: scalar, thermal resistance of 1 sq.ft of wall (°F.hr/BTU)\n",
    "    C: scalar, thermal capacitance of 1 sq.ft of wall (BTU/°F)\n",
    "\n",
    "    Outputs:\n",
    "    T: vector of size (24/delta_t+1)x1, temperature in the building as\n",
    "    estimated by ode45 (°F)\n",
    "    t_euler: vector of size (24/delta_t+1)x1, time steps at which the\n",
    "    temperature is evaluated (hours)\n",
    "    range: vector of size 1x2, containing the minimum and maximum values\n",
    "    reached by T during the time period t (°F)\n",
    "\n",
    "    The function evaluates the temperature inside a building using MATLAB's\n",
    "    ODE solver ode45. A Gaussian distribution of the external temperature\n",
    "    is used.\n",
    "    '''\n",
    "    t = np.linspace(0,24,24/delta_t + 1)\n",
    "    \n",
    "    def myTa(t):\n",
    "        '''\n",
    "        This sub-function calculates the external air temperature distribution, based on a Gaussian model\n",
    "        '''\n",
    "        T_min = 60\n",
    "        Amp = 10\n",
    "        sigma = 1\n",
    "        mu = 12\n",
    "        Ta = (Amp/(sigma*np.sqrt(2*np.pi)))*np.exp(-(np.square(t-mu))/(2*np.square(sigma))) + T_min\n",
    "        return Ta\n",
    "    \n",
    "    # Python equivalent to ode45 see predefined function above\n",
    "    t, T = ode45(lambda t,y: (1/(R*C))*(myTa(t)-y), t, T_0)\n",
    "    range_T = (min(T), max(T))\n",
    "    return T, t, range_T"
   ]
  },
  {
   "cell_type": "markdown",
   "metadata": {},
   "source": [
    "## Published Test Case"
   ]
  },
  {
   "cell_type": "code",
   "execution_count": 11,
   "metadata": {},
   "outputs": [
    {
     "name": "stdout",
     "output_type": "stream",
     "text": [
      "Temperature: \n",
      " [ 65.          64.52418709  64.09365377  63.70409111  63.35161664\n",
      "  63.04378924  62.98438152  62.92431739  62.65650033  62.40371612\n",
      "  62.17497229  61.96799631  61.7807167 ]\n",
      "Time: \n",
      " [  0.   2.   4.   6.   8.  10.  12.  14.  16.  18.  20.  22.  24.]\n",
      "Range: \n",
      " (61.780716700213858, 65.0)\n"
     ]
    },
    {
     "name": "stderr",
     "output_type": "stream",
     "text": [
      "/anaconda/lib/python3.6/site-packages/ipykernel_launcher.py:22: DeprecationWarning: object of type <class 'float'> cannot be safely interpreted as an integer.\n"
     ]
    }
   ],
   "source": [
    "T, t, range_T = myODESolver(2, 65, 2, 10)\n",
    "print(\"Temperature: \\n\", T)\n",
    "print(\"Time: \\n\", t)\n",
    "print(\"Range: \\n\", range_T)"
   ]
  },
  {
   "cell_type": "markdown",
   "metadata": {},
   "source": [
    "## Additional Test Case"
   ]
  },
  {
   "cell_type": "code",
   "execution_count": 12,
   "metadata": {},
   "outputs": [
    {
     "name": "stdout",
     "output_type": "stream",
     "text": [
      "Temperature: \n",
      " [ 70.          69.51229425  69.04837418  68.60707976  68.18730753\n",
      "  67.78800783  67.40818221  67.04688104  66.70321613  66.37694699\n",
      "  66.07647258  65.84679024  65.72844617  65.61520848  65.40724729\n",
      "  65.15387301  64.903151    64.66403662  64.43656901  64.22019499\n",
      "  64.01437365  63.81859033  63.63235549  63.45520342  63.28669116]\n",
      "Time: \n",
      " [  0.   1.   2.   3.   4.   5.   6.   7.   8.   9.  10.  11.  12.  13.  14.\n",
      "  15.  16.  17.  18.  19.  20.  21.  22.  23.  24.]\n",
      "Range: \n",
      " (63.286691159260577, 70.0)\n"
     ]
    },
    {
     "name": "stderr",
     "output_type": "stream",
     "text": [
      "/anaconda/lib/python3.6/site-packages/ipykernel_launcher.py:22: DeprecationWarning: object of type <class 'float'> cannot be safely interpreted as an integer.\n"
     ]
    }
   ],
   "source": [
    "T2, t2, range_T2 = myODESolver(1, 70, 2, 10)\n",
    "print(\"Temperature: \\n\", T2)\n",
    "print(\"Time: \\n\", t2)\n",
    "print(\"Range: \\n\", range_T2)"
   ]
  },
  {
   "cell_type": "markdown",
   "metadata": {},
   "source": [
    "## Comparison Figure:"
   ]
  },
  {
   "cell_type": "code",
   "execution_count": 13,
   "metadata": {},
   "outputs": [
    {
     "data": {
      "text/plain": [
       "<matplotlib.legend.Legend at 0x110b9f2b0>"
      ]
     },
     "execution_count": 13,
     "metadata": {},
     "output_type": "execute_result"
    },
    {
     "data": {
      "image/png": "[encoded data removed]",
      "text/plain": [
       "<matplotlib.figure.Figure at 0x110e969b0>"
      ]
     },
     "metadata": {},
     "output_type": "display_data"
    }
   ],
   "source": [
    "plt.figure(figsize=(10,8))\n",
    "plt.plot(t_euler, T_euler, label='Euler Approximation')\n",
    "plt.plot(t2, T2, label='Ode45 Method')\n",
    "plt.xlabel('Time (hours)')\n",
    "plt.ylabel('Temperature ($^\\circ$F)')\n",
    "plt.legend()"
   ]
  },
  {
   "cell_type": "markdown",
   "metadata": {},
   "source": [
    "## Question 2:\n",
    "\n",
    "Particulate matter air pollution is associated with adverse health effects, including respiratory and cardiovascular diseases and cancer. Airborne particulate matter consists of small\n",
    "(from about 1 nm to about 100 $\\mu$m in diameter) liquid and/or solid particles suspended in\n",
    "air. There are many sources of particulate matter, both indoor and outdoor. Examples of\n",
    "outdoor sources of particulate matter include diesel internal combustion engines and power\n",
    "plants. Examples of indoor sources of particulate matter include cooking and lighted candles."
   ]
  },
  {
   "cell_type": "markdown",
   "metadata": {},
   "source": [
    "The particle mass concentration is the mass of particles per unit volume of air. In this\n",
    "problem, we will only consider particles whose diameter is smaller than 2.5 $\\mu$m. The mass\n",
    "concentration of these particles is often referred to as $\\text{PM}_{2.5}$ (which stands for \"particulate\n",
    "matter < 2.5 $\\mu$m\"). In what follows, we use the term \"particle mass concentration\" to\n",
    "refer to $\\text{PM}_{2.5}$ (although in the general case $\\text{PM}_{2.5}$ is only a part of the total particle mass\n",
    "concentration). In this problem, we will estimate the particle mass concentration inside a\n",
    "house before, during, and after indoor emission events such as cooking."
   ]
  },
  {
   "cell_type": "markdown",
   "metadata": {},
   "source": [
    "In the model that we will use, the particle mass concentration in the house depends on: \n",
    "\n",
    "- the volume of the house\n",
    "- the ventilation system of the house\n",
    "- the particle mass concentration of the air brought in by the ventilation system\n",
    "- the initial particle mass concentration in the house\n",
    "- the rate of deposition of particles onto surfaces (e.g. onto walls)\n",
    "- and the rate of emissions of particles inside the house. "
   ]
  },
  {
   "cell_type": "markdown",
   "metadata": {},
   "source": [
    "Figure 4 represents the different processes that\n",
    "influence the particle mass concentration inside the house.\n",
    "\n",
    "<img src=\"resources/E7_Lab12_4.png\" style=\"width: 400px;\"/>\n",
    "<center>*Figure 4: Model representation of a house for analyzing indoor air quality.*</center>"
   ]
  },
  {
   "cell_type": "markdown",
   "metadata": {},
   "source": [
    "We make the following assumptions:\n",
    "    \n",
    "- The air inside the house is well-mixed. A consequence of this assumption is that, at any\n",
    "given time $t$, the value of the particle mass concentration $C(t)$ is the same everywhere\n",
    "inside the house.\n",
    "- The ventilation system of the house brings in air from the outside at a constant volumetric \n",
    "flow rate of $Q$, and expels air from the house to the outside at the same constant\n",
    "volumetric \n",
    "flow rate $Q$. Volumetric \n",
    "flow rate is expressed as $\\text{volume/time}$, and in this\n",
    "problem you can think of this \n",
    "flow as the volume of air entering or leaving the house\n",
    "per minute (in units of $\\text{m}^3/\\text{min}$).\n",
    "- The particle mass concentration $C_{\\text{vent}}$ of the air brought into the house by the ventilation system is constant with time.\n",
    "- The emission rate of particles $E$ from cooking can vary with time $t$.\n",
    "- The rate of deposition of particles onto the surfaces (e.g. onto walls) can be described\n",
    "by a first-order loss process with rate constant $\\beta$, which is assumed constant with time.\n",
    "- We neglect any process not mentioned above. For example we neglect particle coagulation.\n",
    "- The volume of air $V$ inside the house is constant.\n",
    "- The particle mass concentration at the initial time $t_0$ is $C_0$."
   ]
  },
  {
   "cell_type": "markdown",
   "metadata": {},
   "source": [
    "Using the principle of conservation of mass and the assumptions listed above, one can write\n",
    "the following first-order ordinary differential equation, which describes the time rate of\n",
    "change of particle mass concentration C in the house:\n",
    "\n",
    "$$\\frac{dC}{dt} = \\frac{Q}{V}C_{\\text{vent}} + \\frac{E}{V} - \\frac{Q}{V}C - \\beta C \\qquad\\qquad (4)$$\n",
    "\n",
    "with the following initial condition:\n",
    "\n",
    "$$C(t_0) = C_0 \\qquad \\qquad (5)$$\n",
    "\n",
    "Note that in the ordinary differential equation above (Equation 4) and its initial condition\n",
    "(Equation 5):\n",
    "\n",
    "- $C$ is the unknown function. $C$ is a function of time $t$\n",
    "- $Q$, $V$ , $\\beta$, $C_{\\text{vent}}$, $t_0$, and $C_0$ are known constants and\n",
    "- $E$ is a known function of time $t$.\n",
    "\n",
    "You do not have to do any unit conversion for this problem (2.1 and 2.2) as all the quantities\n",
    "will be given with consistent units."
   ]
  },
  {
   "cell_type": "markdown",
   "metadata": {},
   "source": [
    "### 2.1: Without indoor emissions\n",
    "\n",
    "First, we assume that there are no indoor emissions of particulate matter. In other words,\n",
    "we assume that $E(t) = 0$ for all times $t$. In this case, the analytical solution of Equation 4\n",
    "given the initial condition (Equation 5) is given by:\n",
    "\n",
    "$$C(t) = \\frac{Q}{V}\\tau C_{\\text{vent}} + (C_0-\\frac{Q}{V}\\tau C_{\\text{vent}})e^{-(t-t_0)/\\tau} \\qquad\\qquad (6)$$\n",
    "\n",
    "with:\n",
    "\n",
    "$$\\tau = \\frac{V}{Q+\\beta V} \\qquad\\qquad (7)$$"
   ]
  },
  {
   "cell_type": "markdown",
   "metadata": {},
   "source": [
    "Write a function `myAirQualityNoEmissions(V, Q, beta, C vent, t span, C0)` returning `(t_out, C_ode45, C_analytic, ME, RMSE)`.\n",
    "\n",
    "Your function should calculate the particle mass concentration inside the house over a specified period of time. The input and output arguments of the function are described below:\n",
    "\n",
    "- `V` is a scalar of class double. `V` ($V$ in Equation 4) is the volume of the house. The\n",
    "units of `V` will be $\\text{m}^3$.\n",
    "- `Q` is a scalar of class double. `Q` ($Q$ in Equation 4) is the volumetric \n",
    "ow rate of air\n",
    "through the house imposed by the ventilation system. The units of `Q` will be $\\text{m}^3 \\text{min}^{-1}$.\n",
    "- `beta` is a scalar of class double. `beta` ($\\beta$ in Equation 4) is the rate constant of the\n",
    "first-order deposition of particles onto surfaces (e.g. onto walls). The units of $\\beta$ will\n",
    "be $\\text{min}^{-1}$.\n",
    "- `C_vent` is a scalar of class double. `C_vent` ($C_{\\text{vent}}$) in Equation 4) is the particle mass\n",
    "concentration in the air brought into the house by the ventilation system. The units\n",
    "of `C_vent` will be $\\mu g\\text{m}^{-3}$.\n",
    "- `t_span` is a $1 \\times 2$ vector of class double. The two values of `t_span` indicate the initial\n",
    "and final times (in that order) of the period of time over which the particle mass\n",
    "concentration must be calculated. The units of the values of `t_span` will be minutes.\n",
    "Matlab's `ode45` solver will determine at which specific values of times the particle mass\n",
    "concentration in the house will be calculated.\n",
    "- `C0` (the second character in the variable name is a zero) is a scalar of class double.\n",
    "`C0` ($C_0$ in Equation 5) is the particle mass concentration inside the house at time\n",
    "`t_span(1)`. The units of `C0` will be $\\mu g \\text{m}^{-3}$.\n",
    "- `t_out`, `C_ode45`, and `C_analytic` are column vectors of class double. These three\n",
    "output arguments should have the same size. `t_out` and `C_ode45` are the vector of\n",
    "times and the corresponding solutions, respectively, returned by the Matlab `ode45`\n",
    "solver when used to solve Equation 4 (with $E = 0$) over the time span specified by\n",
    "`t_span` and with the initial condition specified by `C0`. `C_analytic` is the particle mass\n",
    "concentration inside the house calculated using the analytical solution (Equation 6)\n",
    "for each time specified in the vector `t_out`. The units of `t_out` will be $\\text{min}$ and the\n",
    "units of `C_ode45` and `C_analytic` will be $\\mu g \\text{m}^{-3}$.\n",
    "- `ME` and `RMSE` are scalars of class double that contain the mean error ($ME$) and the root\n",
    "mean squared error ($RMSE$), respectively, between the numerical solution (`C_ode45`)\n",
    "and the analytical solution (`C_analytic`)."
   ]
  },
  {
   "cell_type": "markdown",
   "metadata": {},
   "source": [
    "$$\\text{ME} = \\frac{1}{m} \\sum_{i=1}^m (C_{\\text{numerical}}(t_i) - C_{\\text{analytical}}(t_i)) \\qquad\\qquad (8)$$\n",
    "\n",
    "$$\\text{RMSE} = \\sqrt{\\frac{1}{m} \\sum_{i=1}^m (C_{\\text{numerical}}(t_i) - C_{\\text{analytical}}(t_i))^2} \\qquad\\qquad (9)$$\n",
    "\n",
    "In Equations 8 and 9, $m$ is the number of points (in time) for which we have values\n",
    "of the solutions. $C_{\\text{numerical}}$ and $C_{\\text{analytical}}$ are the values of the numerical (from\n",
    "`ode45`) and analytical (from Equation 6) solutions at time $t_i$."
   ]
  },
  {
   "cell_type": "markdown",
   "metadata": {},
   "source": [
    "You can test your function using the following test cases, which should produce a figure\n",
    "similar to Figure 5. In these test cases, we consider a 20 $\\text{m}^2$ ($\\approx 215 \\text{ft}^2$) studio with a $2.5 \\text{m}\n",
    "(\\approx 8.2 \\text{ft})$ ceiling height, which is not ventilated very well ($Q = 0.25 \\text{m}^3 \\text{min}^{-1}$). We set the\n",
    "value of $C_{\\text{vent}}$ to $15 \\mu g \\text{m}^{-3}$. We set the initial particle mass concentration inside the studio\n",
    "to a fairly elevated level ($45 \\mu g \\text{m}^{-3}$) and see how long it takes for the indoor particle mass\n",
    "concentration to reach equilibrium (i.e. how much time it takes to \n",
    "ush out the elevated\n",
    "indoor particle mass concentration). We set $\\beta = 0.01 \\text{min}^{-1}$ and simulate a period of 300\n",
    "minutes.\n",
    "\n",
    "```MATLAB\n",
    ">> V = 50; Q = 0.25; C vent = 15; beta = 0.01;\n",
    ">> t span = [0, 300]; C0 = 45;\n",
    ">> [t out, C ode45, C analytic, ME, RMSE] = ...\n",
    "myAirQualityNoEmissions(V,Q,beta,C vent,t span,C0);\n",
    "% Check the numerical values in your outputs against these:\n",
    ">> t out(1:5)'\n",
    "0 3.7678 7.5357 11.3035 15.0713\n",
    ">> C ode45(1:5)'\n",
    "45.0000 42.8020 40.7248 38.7617 36.9065\n",
    ">> C analytic(1:5)'\n",
    "45.0000 42.8020 40.7248 38.7617 36.9065\n",
    ">> ME\n",
    "􀀀2.6665e􀀀06\n",
    ">> RMSE\n",
    "9.9684e􀀀05\n",
    ">> plot(t out, C analytic, 'b􀀀', t out, C ode45, 'ro')\n",
    ">> xlabel('Time (minutes)')\n",
    ">> ylabel('Particle mass concentration (fnmugg mˆf􀀀3g)')\n",
    "```\n",
    "\n",
    "We now increase the ventilation rate in the studio ($Q = 2 \\text{m}^3 \\text{min}^{-1}$) to simulate a well-ventilated studio, and see how this change influences the time it takes to flush out the\n",
    "elevated indoor particle mass concentration.\n",
    "\n",
    "```MATLAB\n",
    ">> Q = 2;\n",
    ">> [t out, C ode45, C analytic, ME, RMSE] = ...\n",
    "myAirQualityNoEmissions(V,Q,beta,C vent,t span,C0);\n",
    "% Check the numerical values in your outputs against these:\n",
    ">> t out(1:5)'\n",
    "0 1.3701 2.7402 4.1104 5.4805\n",
    ">> C ode45(1:5)'\n",
    "45.0000 42.8150 40.7746 38.8694 37.0904\n",
    ">> C analytic(1:5)'\n",
    "45.0000 42.8150 40.7747 38.8694 37.0904\n",
    ">> ME\n",
    "􀀀6.5186e􀀀05\n",
    ">> RMSE\n",
    "0.0023\n",
    ">> hold on\n",
    ">> plot(t out, C analytic, 'b􀀀􀀀', t out, C ode45, 'rs')\n",
    "```\n",
    "\n",
    "Finally, we set the initial particle mass concentration in the studio to zero. In this scenario,\n",
    "the particle mass concentration in the studio increases with time.\n",
    "\n",
    "```MATLAB\n",
    ">> C0 = 0;\n",
    ">> [t out, C ode45, C analytic, ME, RMSE] = ...\n",
    "myAirQualityNoEmissions(V,Q,beta,C vent,t span,C0);\n",
    "% Check the numerical values in your outputs against these:\n",
    ">> t out(1:5)'\n",
    "1.0e􀀀03 *\n",
    "0 0.0837 0.1675 0.2512 0.3349\n",
    ">> C ode45(1:5)'\n",
    "1.0e􀀀03 *\n",
    "0 0.0502 0.1005 0.1507 0.2009\n",
    ">> C analytic(1:5)'\n",
    "1.0e􀀀03 *\n",
    "0 0.0502 0.1005 0.1507 0.2009\n",
    ">> ME\n",
    "2.6542e􀀀05\n",
    ">> RMSE\n",
    "3.4706e􀀀04\n",
    ">> plot(t out, C analytic, 'b:', t out, C ode45, 'rˆ')\n",
    "```"
   ]
  },
  {
   "cell_type": "markdown",
   "metadata": {},
   "source": [
    "<img src=\"resources/E7_Lab12_5.jpg\" style=\"width: 700px;\"/>\n",
    "<center>*Figure 5: Figure created by the test cases of Problem 2.1 (plus a legend box).*</center>\n",
    "\n",
    "You do not have to submit any answer to the following questions to complete this assignment,\n",
    "but you should think about the answers to improve your understanding of first-order ordinary\n",
    "differential equations:\n",
    "    \n",
    "- On which parameter(s) does the final particle mass concentration (i.e. $C(t)$ as $t \\rightarrow +\\infty$)\n",
    "depend? To answer this question, you can take the limit of Equation 6 as $t \\rightarrow +\\infty$.\n",
    "You can also check your answer with Figure 5.\n",
    "\n",
    "- Which parameter(s) control(s) how rapidly the particle mass concentration converges\n",
    "to its final value?"
   ]
  },
  {
   "cell_type": "code",
   "execution_count": 14,
   "metadata": {
    "collapsed": true
   },
   "outputs": [],
   "source": [
    "def myAirQualityNoEmissions(V, Q, beta, C_vent, t_span, C0):\n",
    "    \"\"\"\n",
    "    returns t_out,C_ode45,C_analytic,ME,RMSE\n",
    "    Inputs:\n",
    "    V: scalar, volume of the room (m3)\n",
    "    Q: scalar, flow rate (m3/min)\n",
    "    beta: scalar, surface deposition rate (/min)\n",
    "    C_vent: scalar, concentration of particles brought by ventilation (μg/m3)\n",
    "    t_span: either a 1x2 vector, initial and final times of the time period\n",
    "    considered, or a 1xn vector containing all the time steps used\n",
    "    to compute evaluate the final concentration (min)\n",
    "    C0: scalar, initial concentration of particles in the room (μg/m3)\n",
    "    \n",
    "    Outputs:\n",
    "    t_out: column vector, time steps used by ode45 (min)\n",
    "    C_ode45: column vector having the same size as t_out, solution returned\n",
    "    by ode45 (μg/m3)\n",
    "    C_analytic: column vector having the same size as t_out, analytical\n",
    "    solution (μg/m3)\n",
    "    ME: scalar, mean error beteen the analytical solution and the numerical\n",
    "    solution\n",
    "    RMSE: scalar, root mean square error between the analytical solution and\n",
    "    the numerical solution\n",
    "    \n",
    "    The function calculates the mass particle concentration in a room after a\n",
    "    given period of time (without internal emissions), using MATLAB's ODE\n",
    "    solver ode45 and an analytical expression of the solution\n",
    "    \"\"\"\n",
    "    tau = V/(Q+beta*V)\n",
    "    t_out, C_ode45 = ode45(lambda t,y: (Q/V)*(C_vent-y) - beta*y, t_span, C0)\n",
    "    C_analytic = Q*C_vent*tau/V+(C0-Q*C_vent*tau/V)*np.exp(-(t_out-t_span[0])/tau)\n",
    "    ME = (1/len(t_out))*sum(C_ode45-C_analytic)\n",
    "    RMSE = np.sqrt((1/len(t_out)))*sum(np.square(C_analytic-C_ode45))\n",
    "    return t_out, C_ode45, C_analytic, ME, RMSE"
   ]
  },
  {
   "cell_type": "code",
   "execution_count": 15,
   "metadata": {},
   "outputs": [
    {
     "name": "stdout",
     "output_type": "stream",
     "text": [
      "t_out_1_5=\n",
      " [  0.     3.76   7.52  11.28  15.04]\n",
      "C_ode45_1_5=\n",
      " [ 45.          42.80643983  40.73317232  38.77360074  36.92149011]\n",
      "C_analytic_1_5=\n",
      " [ 45.          42.80643983  40.73317232  38.77360074  36.92149011]\n",
      "ME=  1.39255437182e-09\n",
      "RMSE=  2.21715226521e-17\n",
      "t_out_1_5=\n",
      " [  0.     3.76   7.52  11.28  15.04]\n",
      "C_ode45_1_5=\n",
      " [ 45.          39.34428537  34.65787715  30.77465036  27.55695152]\n",
      "C_analytic_1_5=\n",
      " [ 45.          39.34428534  34.65787699  30.77465011  27.5569512 ]\n",
      "ME=  7.81749622591e-08\n",
      "RMSE=  1.76289858672e-13\n",
      "t_out_1_5=\n",
      " [  0.     3.76   7.52  11.28  15.04]\n",
      "C_ode45_1_5=\n",
      " [ 0.          2.05662351  3.76077199  5.17285447  6.34292678]\n",
      "C_analytic_1_5=\n",
      " [ 0.          2.05662351  3.760772    5.17285451  6.34292684]\n",
      "ME=  -2.52656059685e-08\n",
      "RMSE=  1.78430853497e-14\n"
     ]
    },
    {
     "data": {
      "text/plain": [
       "[<matplotlib.lines.Line2D at 0x118c06710>]"
      ]
     },
     "execution_count": 15,
     "metadata": {},
     "output_type": "execute_result"
    },
    {
     "data": {
      "image/png": "[encoded data removed]",
      "text/plain": [
       "<matplotlib.figure.Figure at 0x11869a438>"
      ]
     },
     "metadata": {},
     "output_type": "display_data"
    }
   ],
   "source": [
    "V = 50\n",
    "Q = 0.25\n",
    "C_vent = 15\n",
    "beta = 0.01\n",
    "t_span = [0, 300]\n",
    "C0 = 45\n",
    "\n",
    "t_out, C_ode45, C_analytic, ME, RMSE = myAirQualityNoEmissions(V,Q,beta,C_vent,t_span,C0)\n",
    "\n",
    "print(\"t_out_1_5=\\n\", t_out[0:5])\n",
    "print(\"C_ode45_1_5=\\n\", C_ode45[0:5])\n",
    "print(\"C_analytic_1_5=\\n\", C_analytic[0:5])\n",
    "print(\"ME= \", ME)\n",
    "print(\"RMSE= \",RMSE)\n",
    "\n",
    "plt.figure(figsize=(10,8))\n",
    "plt.plot(t_out, C_analytic, 'b-')\n",
    "plt.plot(t_out, C_ode45, 'ro',markerfacecolor='None')\n",
    "\n",
    "Q = 2\n",
    "\n",
    "t_out, C_ode45, C_analytic, ME, RMSE = myAirQualityNoEmissions(V,Q,beta,C_vent,t_span,C0)\n",
    "\n",
    "print(\"t_out_1_5=\\n\", t_out[0:5])\n",
    "print(\"C_ode45_1_5=\\n\", C_ode45[0:5])\n",
    "print(\"C_analytic_1_5=\\n\", C_analytic[0:5])\n",
    "print(\"ME= \", ME)\n",
    "print(\"RMSE= \",RMSE)\n",
    "\n",
    "plt.plot(t_out, C_analytic, 'b-')\n",
    "plt.plot(t_out, C_ode45, 'rs',markerfacecolor='None')\n",
    "\n",
    "C0 = 0\n",
    "\n",
    "t_out, C_ode45, C_analytic, ME, RMSE = myAirQualityNoEmissions(V,Q,beta,C_vent,t_span,C0)\n",
    "\n",
    "print(\"t_out_1_5=\\n\", t_out[0:5])\n",
    "print(\"C_ode45_1_5=\\n\", C_ode45[0:5])\n",
    "print(\"C_analytic_1_5=\\n\", C_analytic[0:5])\n",
    "print(\"ME= \", ME)\n",
    "print(\"RMSE= \",RMSE)\n",
    "\n",
    "plt.plot(t_out, C_analytic, 'b-')\n",
    "plt.plot(t_out, C_ode45, 'r^',markerfacecolor='None')"
   ]
  },
  {
   "cell_type": "markdown",
   "metadata": {},
   "source": [
    "### 2.2: With indoor emissions\n",
    "\n",
    "We now wish to analyze the impact of indoor emissions of particulate matter on the particle\n",
    "mass concentration inside the house. We therefore no longer require that $E(t) = 0$ for all\n",
    "times $t$. Depending on the form of the function $E$, the analytical solution of Equation 4\n",
    "together with its initial condition (Equation 5) might not be known. Numerical methods are\n",
    "often used to find approximate solutions of ordinary differential equations when the analytical\n",
    "solution is unknown. Here we will model the emission rate function as a top-hat function,\n",
    "defined by the three parameters $t_{\\text{start}}$, $t_{\\text{end}}$, and $E_{\\text{value}}$ as (see Figure 6 for an illustration):\n",
    "\n",
    "$$E(t) = \\begin{cases} \\end{cases}$$"
   ]
  },
  {
   "cell_type": "markdown",
   "metadata": {},
   "source": [
    "Write a function `myAirQuality(V, Q, beta, C_vent, t_span, C0, t_start, t_end, E_value)` returning `(t_out, C_ode45)`\n",
    "\n",
    "where:\n",
    "\n",
    "- `V`, `Q`, `beta`, `C_vent`, `t_span`, and `C0` are the same as in Problem 2.1.\n",
    "- `t_start`, `t_end`, and `E_value` are scalars of class double that represent $t_{\\text{start}}$, $t_{\\text{end}}$, and $E_{\\text{value}}$ in Equation 10, respectively. The value of `E_value` will be given in units of $\\mu g \\text{min}^{-1}$.\n",
    "- `t_span` can have one of two formats (your function should work for either):\n",
    "     - The same as in Problem 2.1. In this case, Matlab's `ode45` solver will determine\n",
    "    at which specific values of times the particle mass concentration in the house will\n",
    "    be calculated.\n",
    "    - A $N \\times 1$ array of class double with $N > 2$ that contains the values of the times\n",
    "    (in minutes) at which Matlab's `ode45` solver should calculate the particle mass\n",
    "    concentration.\n",
    "- `t_out` and `C_ode45` are column vectors of class double. These two output arguments\n",
    "should have the same size. `t_out` and `C_ode45` are the vector of times and the corresponding solutions, respectively, returned by the Matlab function `ode45` when used to\n",
    "solve Equation 4 for times specified by t_span, with the initial condition specified by\n",
    "`C0`, and with the emission rate defined as the top-hat function discussed above."
   ]
  },
  {
   "cell_type": "markdown",
   "metadata": {},
   "source": [
    "<img src=\"resources/E7_Lab12_6.jpg\" style=\"width: 600px;\"/>\n",
    "<center>*An illustration of the top-hat emission function used in Problem 2.2.*</center>\n"
   ]
  },
  {
   "cell_type": "markdown",
   "metadata": {},
   "source": [
    "Hint: you may want to define a (sub)-function to calculate the emission rate $E(t)$ for a\n",
    "given time $t$ and parameters $t_{\\text{start}}$, $t_{\\text{end}}$, and $E_{\\text{value}}$.\n",
    "You can find the function `myAirQualityAnalytic.m` (on bCourses) that calculates the analytical solution of Equation 4 together with its initial condition (Equation 5) when $E$ is the\n",
    "top-hat function defined in Equation 10, with the additional assumption that $t_{\\text{start}} > t_0$. \n",
    "\n",
    "See the comments in `myAirQualityAnalytic.m` and the test cases below for more information\n",
    "about how to use this function, if you decide to use it (optional). It is provided to you if you\n",
    "want to further investigate the performance of Matlab's `ode45` solver.\n",
    "\n",
    "You can test your function using the following test cases, which should produce a figure\n",
    "similar to Figure 7. We start with the same studio apartment as in the first test case of\n",
    "Problem 2.1 when it is not ventilated very well ($Q = 0.25 \\text{m}^3 \\text{min}^{-1}$). We set $C_{\\text{vent}}$ to the\n",
    "same value as before. We set the initial particle mass concentration inside the house equal\n",
    "to $C_{\\text{vent}}$. We add an emission event with $t_{\\text{start}} = 30 \\text{min}$, $t_\\text{end} = 45 \\text{min}$, and $E_\\text{value} = 100 \\mu g \\text{min}^{-1}$ to simulate a 15-minute cooking event."
   ]
  },
  {
   "cell_type": "markdown",
   "metadata": {},
   "source": [
    "```MATLAB\n",
    ">> V = 50; Q = 0.25; C vent = 15; beta = 0.01; t span = [0, 300];\n",
    ">> C0 = C vent; E start = 30; E end = 45; E value = 100;\n",
    ">> [t out, C ode45] = myAirQuality(V, Q, beta, C vent, t span, ...\n",
    "C0, E start, E end, E value);\n",
    ">> t = linspace(t span(1), t span(2), 1000)';\n",
    ">> C analytic = myAirQualityAnalytic(V, Q, beta, C vent, t span(1), ...\n",
    "C0, E start, E end, E value, t);\n",
    "% Check the numerical values in your outputs against these:\n",
    ">> t out(10:15)'\n",
    "26.7506 27.7471 28.7437 29.7403 30.7369 31.7335\n",
    ">> C ode45(10:15)'\n",
    "11.6948 11.5954 11.4976 11.4012 12.3755 14.3667\n",
    ">> plot(t, C analytic, 'b􀀀', t out, C ode45, 'ro')\n",
    ">> ylim([0, 40])\n",
    ">> xlabel('Time (minutes)')\n",
    ">> ylabel('Particle mass concentration (fnmugg mˆf􀀀3g)')\n",
    "```\n",
    "\n",
    "We now reduce the duration of the emission episode to 10 minutes.\n",
    "\n",
    "```MATLAB\n",
    ">> E end = 40;\n",
    ">> [t out, C ode45] = myAirQuality(V, Q, beta, C vent, t span, ...\n",
    "C0, E start, E end, E value);\n",
    ">> C analytic = myAirQualityAnalytic(V, Q, beta, C vent, t span(1), ...\n",
    "C0, E start, E end, E value, t);\n",
    "% Check the numerical values in your outputs against these:\n",
    ">> t out(10:15)'\n",
    "57.5951 65.0951 72.5951 80.0951 87.5951 95.0951\n",
    ">> C ode45(10:15)'\n",
    "9.2150 8.7665 8.3658 8.0077 7.6876 7.4016\n",
    ">> hold on\n",
    ">> plot(t, C analytic, 'b􀀀􀀀', t out, C ode45, 'rs')\n",
    "```\n",
    "\n",
    "Note that for the above test case, Matlab's `ode45` solver fails remarkably in approximating\n",
    "the solution to the differential equation (see Figure 7). We can partially fix this issue here\n",
    "by forcing Matlab's `ode45` solver to use more time steps, which helps the solver pick up the\n",
    "abrupt change in emissions due to the top hat function used:\n",
    "\n",
    "```MATLAB\n",
    ">> t ode45 = linspace(t span(1), t span(2), 301)';\n",
    ">> [t out, C ode45] = myAirQuality(V, Q, beta, C vent, t ode45, ...\n",
    "C0, E start, E end, E value);\n",
    ">> plot(t out, C ode45, 'r.')\n",
    "% Check the numerical values in your outputs against these:\n",
    ">> t out(40:45)'\n",
    "39 40 41 42 43 44\n",
    ">> C ode45(40:45)'\n",
    "27.7756 29.1628 29.9508 30.2649 30.2211 29.9219\n",
    "```\n",
    "\n",
    "We now increase the ventilation rate in the studio ($Q = 2 \\text{m}^3 \\text{min}^{-1}$) to simulate a well-\n",
    "ventilated studio, and see how this change affects the particle mass concentration in the\n",
    "studio.\n",
    "\n",
    "```MATLAB\n",
    ">> Q = 2;\n",
    ">> [t out, C ode45] = myAirQuality(V, Q, beta, C vent, t span, ...\n",
    "C0, E start, E end, E value);\n",
    ">> C analytic = myAirQualityAnalytic(V, Q, beta, C vent, t span(1), ...\n",
    "C0, E start, E end, E value, t);\n",
    "% Check the numerical values in your outputs against these:\n",
    ">> t out(10:15)'\n",
    "28.7770 29.1623 29.5475 29.9327 30.3180 30.7032\n",
    ">> C ode45(10:15)'\n",
    "12.7125 12.6989 12.6856 12.6725 13.0723 13.8622\n",
    ">> plot(t, C analytic, 'b:', t out, C ode45, 'rˆ')\n",
    "```\n",
    "\n",
    "Figure 7 illustrates how the solution calculated by Matlab's `ode45` solver can differ from the\n",
    "analytical solution, especially when the solution and/or its derivative vary rapidly with time.\n",
    "You should try to understand the results that are shown on Figure 7.\n",
    "\n",
    "<img src=\"resources/E7_Lab12_7.jpg\" style=\"width: 600px;\"/>\n",
    "<center>*Figure 7: Figure created by the test cases of Problem 2.2 (plus a legend box).*</center>\n",
    "\n",
    "\n",
    "You do not have to submit any answer to the following questions to complete this assignment,\n",
    "but you should think about the answers to improve your understanding of first-order ordinary\n",
    "differential equations:\n",
    "\n",
    "- How does the peak concentration in the studio change when the strength of the ventilation system ($Q$) changes? What about when the duration or strength of the emission episode vary?\n",
    "- The solution of Equation 4 together with its initial condition (Equation 5) with $E$\n",
    "defined as a top-hat function can be derived analytically. Try to derive it. Hint: write\n",
    "three separate solutions: a solution that works for the time interval $t \\le t_\\text{start}$, then\n",
    "a solution that works for the time interval $t_\\text{start} < t \\le t_\\text{end}$, and then a solution that\n",
    "works for the time interval $t > t_\\text{end}$."
   ]
  },
  {
   "cell_type": "code",
   "execution_count": 1,
   "metadata": {
    "collapsed": true
   },
   "outputs": [],
   "source": [
    "# def myAirQuality(V,Q,beta,C_vent,t_span,C0,t_start,t_end,E_value):\n",
    "#     \"\"\"\n",
    "#     returns t_out, C_ode45\n",
    "#     Inputs:\n",
    "#     V: scalar, volume of the room (m3)\n",
    "#     Q: scalar, flow rate (m3/min)\n",
    "#     beta: scalar, surface deposition rate (/min)\n",
    "#     C_vent: scalar, concentration of particles brought by ventilation (μg/m3)\n",
    "#     t_span: either a 1x2 vector, initial and final times of the time period\n",
    "#     considered, or a 1xn vector containing all the time steps used\n",
    "#     to compute evaluate the final concentration (min)\n",
    "#     C0: scalar, initial concentration of particles in the room (μg/m3)\n",
    "#     t_start: scalar, internal emission event starting time (min)\n",
    "#     t_end: scalar, internal emission event ending time (min)\n",
    "#     E_value: scalar, internal emission event magnitude (μg/min)\n",
    "    \n",
    "#     Outputs:\n",
    "#     t_out: column vector, time steps used by ode45 (min)\n",
    "#     C_ode45: column vector having the same size as t_out, solution returned\n",
    "#     by ode45 (μg/m3)\n",
    "    \n",
    "#     The function calculates the mass particle concentration in a room after a\n",
    "#     given period of time (witho internal emissions), using MATLAB's ODE\n",
    "#     solver ode45\n",
    "#     \"\"\"\n",
    "#     def myE(t,t_start,t_end,E_value):\n",
    "#         \"\"\"\n",
    "#         This sub-function calcultes the indoor emissions distribution assumed to\n",
    "#         follow a top-hat behavior\n",
    "#         \"\"\"\n",
    "#         if (t>t_start and t<=t_end):\n",
    "#             E=E_value\n",
    "#         else E=0\n",
    "#         return E\n",
    "#     # TODO: lambda function is not complete Solutions.pdf is cutoff\n",
    "#     t_out, C_ode45 = ode45(lambda t,y: (Q/V)*(C_vent-y)-beta*y+myE(t,t_start,t_end,E_value)/)"
   ]
  },
  {
   "cell_type": "code",
   "execution_count": null,
   "metadata": {
    "collapsed": true
   },
   "outputs": [],
   "source": []
  }
 ],
 "metadata": {
  "anaconda-cloud": {},
  "kernelspec": {
   "display_name": "Python 3",
   "language": "python",
   "name": "python3"
  },
  "language_info": {
   "codemirror_mode": {
    "name": "ipython",
    "version": 3
   },
   "file_extension": ".py",
   "mimetype": "text/x-python",
   "name": "python",
   "nbconvert_exporter": "python",
   "pygments_lexer": "ipython3",
   "version": "3.5.4"
  }
 },
 "nbformat": 4,
 "nbformat_minor": 2
}
