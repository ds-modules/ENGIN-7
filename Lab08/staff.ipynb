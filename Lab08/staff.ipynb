{
 "cells": [
  {
   "cell_type": "markdown",
   "metadata": {
    "collapsed": true
   },
   "source": [
    "# E7: Introduction to Computer Programming for Scientists and Engineers"
   ]
  },
  {
   "cell_type": "markdown",
   "metadata": {},
   "source": [
    "## Lab Assignment 8"
   ]
  },
  {
   "cell_type": "markdown",
   "metadata": {},
   "source": [
    "For each question, you will have to fill in one or more Python functions. We provide an autograder with a number of test cases that you can use to test your function. Note that the fact that your function works for all test cases thus provided does necessarily guarantee\n",
    "that it will work for all possible test cases relevant to the question. It is your responsibility\n",
    "to test your function thoroughly, to ensure that it will also work in situations not covered\n",
    "by the test cases provided"
   ]
  },
  {
   "cell_type": "code",
   "execution_count": 1,
   "metadata": {
    "collapsed": true
   },
   "outputs": [],
   "source": [
    "# Please run this cell, and do not modify the contets\n",
    "import math\n",
    "import numpy as np\n",
    "import matplotlib.pyplot as plt\n",
    "np.seterr(all='ignore');\n",
    "# %run lab2_ag.py"
   ]
  },
  {
   "cell_type": "markdown",
   "metadata": {},
   "source": [
    "## Question 1: Linear Systems: the Basics\n",
    "\n",
    "### 1.1: Solving Linear Systems\n",
    "\n",
    "Shown below is a linear system of 3 equations with 3 unknowns, $x_1$, $x_2$, and $x_3$. The scalar\n",
    "quantities $a_{ij}$ and $b_i$ can be assumed known. Under certain conditions (which we will explore\n",
    "later), there is a unique solution for $x_1$, $x_2$, and $x_3$. Here we will assume that these conditions\n",
    "are met, so you don't have to check them.\n",
    "\n",
    "$$ \\begin{align}\n",
    "a_{11}x_1 + a_{12}x_2 + a_{13}x_3 &= b_1 \\\\\n",
    "a_{21}x_1 + a_{22}x_2 + a_{23}x_3 &= b_1 \\\\\n",
    "a_{31}x_1 + a_{32}x_2 + a_{33}x_3 &= b_1 \n",
    "\\end{align} $$\n",
    "\n",
    "Your job is to write a function `myLinearSolver(A1, b1, A2, b2, A3, b3)`\n",
    "where `A1` is a 1 x 3 double containing the three coeffficients for equation 1 ($a_{11}, a_{12}, a_{13}$) and\n",
    "`b1` is a scalar double representing $b_1$, the right-hand-side of equation 1. Similarly, `A2` and `A3`\n",
    "are 1 x 3 doubles containing the coefficients of equations 2 and 3, respectively. `b2` and `b3`\n",
    "are scalar doubles representing the right-hand-sides of equations 2 and 3, respectively.\n",
    "Your function should have 3 outputs `x1`, `x2`, and `x3`. Each output should be a scalar\n",
    "double. Together, the outputs `x1`, `x2`, and `x3` represent the solution $(x_1, x_2, x_3)$ to equations\n",
    "1-3 above.\n",
    "\n",
    "Your function should use the backslash n operator exactly once. Hint: This function\n",
    "can be completed in as few as 6 lines, not counting comments, header, and \"end\". You may\n",
    "assume that the inputs are of the appropriate class and size."
   ]
  },
  {
   "cell_type": "code",
   "execution_count": null,
   "metadata": {
    "collapsed": true
   },
   "outputs": [],
   "source": [
    "def myLinearSolver(a1, b1, a2, b2, a3, b3):\n",
    "    \"\"\"\n",
    "    >>> myLinearSolver([1,0,-1],1,[0,-1,1],2,[2,1,1],0)\n",
    "    (1.0, -2.0, -0.0)\n",
    "    >>> myLinearSolver([1,1,2],1,[0,1,2],1,[2,2,3],2)\n",
    "    (0.0, 1.0, 0.0)\n",
    "\n",
    "    \"\"\"\n",
    "    A = np.array([a1, a2, a3])\n",
    "    b = np.array([b1, b2, b3])\n",
    "    X = np.linalg.solve(A, b)\n",
    "    return X[0], X[1], X[2]"
   ]
  },
  {
   "cell_type": "code",
   "execution_count": null,
   "metadata": {
    "collapsed": true
   },
   "outputs": [],
   "source": []
  },
  {
   "cell_type": "markdown",
   "metadata": {},
   "source": [
    "### 1.2 Matrix Inversion\n",
    "\n",
    "Write a function `matInv(A)`\n",
    "that returns the inverse of the matrix $A$, i.e., the matrix $B$ such that $AB = I$, where $I$ is the\n",
    "identity matrix. If $A$ is not square or the determinant of $A$ is within $0 \\pm 10^{-10}$, the function\n",
    "should return the empty list `[]`."
   ]
  },
  {
   "cell_type": "code",
   "execution_count": null,
   "metadata": {
    "collapsed": true
   },
   "outputs": [],
   "source": [
    "def matInv(A):\n",
    "    \"\"\"\n",
    "    >>> matInv(np.array([[1,2],[3,4]]))\n",
    "    array([[-2. ,  1. ],\n",
    "           [ 1.5, -0.5]])\n",
    "    >>> matInv(np.array([[1,2],[3,4],[5,6]]))\n",
    "    []\n",
    "    >>> matInv(np.array([[1,0,1],[2,0,2],[1,2,0]]))\n",
    "    []\n",
    "    >>> matInv(np.array([[0,1],[-1,0]]))\n",
    "    array([[-0., -1.],\n",
    "           [ 1.,  0.]])\n",
    "\n",
    "    \"\"\"\n",
    "    x, y = A.shape\n",
    "    if x != y or math.isclose(np.linalg.det(A), 0):\n",
    "        return []\n",
    "    else:\n",
    "        return np.linalg.inv(A)"
   ]
  },
  {
   "cell_type": "code",
   "execution_count": null,
   "metadata": {
    "collapsed": true
   },
   "outputs": [],
   "source": []
  },
  {
   "cell_type": "markdown",
   "metadata": {},
   "source": [
    "## Question 2: Linear Systems: Circuits\n",
    "\n",
    "In this question, we will look at how to model an electric circuit using a system of linear\n",
    "equations to solve for the currents in different parts of the circuits.\n",
    "\n",
    "Fig 1. A circuit with two resistors in series | Fig 2. A circuit with two resistors in parallel\n",
    "- | -\n",
    "![](resources/E7_Lab8_1.jpg) | ![](resources/E7_Lab8_2.jpg)\n",
    "\n",
    "There are two types of simple circuits, series and parallel, as shown above. $R_A$ and $R_B$\n",
    "denote the resistance of resistor $A$ and $B$, respectively. $R$ denotes the overall resistance,\n",
    "and $V$ denotes the voltage difference across the battery. $I_A$ and $I_B$ are the current \n",
    "owing\n",
    "through $A$ and $B$, respectively, and $V_A$ and $V_B$ are the voltage differences across $A$ and $B$.\n",
    "To analyze a circuit, you start at one point in the loop and \"advance\" until you are back\n",
    "where you started. We will guide you through the setup of the equations you need to solve.\n",
    "The following relationships apply to this circuit in series (Figure 1):\n",
    "\n",
    "$R = R_A + R_B$ (total resistance is the sum of the two resistors)\n",
    "\n",
    "$I_A = I_B$ (the current through resistor $A$ is the same as through $B$)\n",
    "\n",
    "$V = V_A + V_B = I_AR_A + I_BR_B$ (the voltage difference across the battery is\n",
    "equal to the sum of voltage differences across resistors $A$ and $B$)\n",
    "\n",
    "Notice that voltage is equal to the product of the resistance and the current ($V = IR$).\n",
    "The following relationships apply to this circuit in parallel (Figure 2):\n",
    "\n",
    "$ \\frac{1}{R} = \\frac{1}{R_A} + \\frac{1}{R_B} $ (the resistances are now inversely related)\n",
    "\n",
    "$V = V_A = V_B = I_AR_A = I_BR_B$ (the voltage difference across the battery is\n",
    "equal to the voltage difference across each resistor)\n",
    "\n",
    "For more on serial and parallel circuits, see links [here](http://www.allaboutcircuits.com/textbook/direct-current/chpt-5/simple-series-circuits/) and [here](http://www.allaboutcircuits.com/textbook/direct-current/chpt-5/simple-parallel-circuits/)."
   ]
  },
  {
   "cell_type": "markdown",
   "metadata": {},
   "source": [
    "As an optional first step, you can solve for the currents $I_A$ and $I_B$ in these simple circuits\n",
    "by hand, for the values given here: $R_A = 3$, $R_B = 6 $, $V = 9 V$. Practice setting up\n",
    "the matrix that goes along with the equations, and see if your matrix solver from question\n",
    "1 gives you the same answer you worked out by hand. You should find that for the circuit\n",
    "in series (Figure 1), $I_A = I_B = 1 A$, and for the circuit in parallel (Figure 2), $I_A = 3 A$,\n",
    "$I_B = 1.5 A$ (where A denotes the unit amperes).\n",
    "\n",
    "Now you are given a more complicated circuit, shown in Figure 3. Don't worry if you\n",
    "have not encountered circuits before. You should ask for help for the physics, since physics is not the main point of the question. You are to write a function that solves for the currents\n",
    "specifically in this circuit, `MyCircuit(V, R1, R2, R3, R4, R5, R6, R7, R8)`. Return the eight currents through resistors 1 to 8, in amperes. $V$ is the battery's voltage, in volts, and $R$'s are the resistances in ohms."
   ]
  },
  {
   "cell_type": "markdown",
   "metadata": {},
   "source": [
    "Hint: Before you start coding, use a pencil and paper to write out a system of equations. Then, also with pencil and paper, rearrange the system of equations into the form $Ax = b$,\n",
    "creating the appropriate matrix $A$ (which is a square matrix), and solution vector $b$ (which\n",
    "is a column vector). Note the order of the outputs of the function: $I_4$ and $I_8$ are not output\n",
    "because they are equal to $I_1$.\n",
    "\n",
    "<img src=\"resources/E7_Lab8_3.jpg\" style=\"width: 400px;\"/>\n",
    "<center>*Figure 3: MyCircuit*</center>\n",
    "\n",
    "Perspective: this problem shows the benefit of programming. Without a computer,\n",
    "you would need to solve a large algebraic system over again any time one of the 9 input values changed (voltage or resistance). Using Python, you can formulate the equations\n",
    "once, write one function, and solve for any variation with only one command."
   ]
  },
  {
   "cell_type": "code",
   "execution_count": null,
   "metadata": {
    "collapsed": true
   },
   "outputs": [],
   "source": [
    "def myCircuit(V, R1, R2, R3, R4, R5, R6, R7, R8):\n",
    "    \"\"\"\n",
    "    >>> myCircuit(10,1,4,4,2,2,1,4,5)\n",
    "    array([ 0.94594595,  0.47297297,  0.47297297,  0.27027027,  0.54054054,\n",
    "            0.13513514])\n",
    "    \"\"\"\n",
    "    A = [[1,-1,-1,0,0,0,0,0],\n",
    "         [0,1,1,-1,0,0,0,0],\n",
    "         [0,0,0,1,-1,-1,-1,0],\n",
    "         [0,0,0,0,1,1,1,-1],\n",
    "         [0,R2,-R3,0,0,0,0,0],\n",
    "         [0,0,0,0,R5,-R6,0,0],\n",
    "         [0,0,0,0,0,R6,-R7,0],\n",
    "         [R1,R2,0,R4,R5,0,0,R8]]\n",
    "    A = np.array(A)\n",
    "    b = np.array([0,0,0,0,0,0,0,V])\n",
    "    I = np.linalg.solve(A,b)\n",
    "    return np.append(I[0:3],(I[4:7]))"
   ]
  },
  {
   "cell_type": "code",
   "execution_count": null,
   "metadata": {
    "collapsed": true
   },
   "outputs": [],
   "source": []
  },
  {
   "cell_type": "markdown",
   "metadata": {},
   "source": [
    "## Question 3: Foot Finding: Methods\n",
    "\n",
    "### 3.1: Newton's Method\n",
    "\n",
    "Write a function `myNewton(f, df, x0, tol)`\n",
    "where `f` is a function handle representing the function $f(x)$, `df` is a function handle to the\n",
    "derivative of $f$, `x0` is an initial estimate of the root, and `tol` is a strictly positive scalar double.\n",
    "The function should return a row vector `R` of class double, where `R(1)` is the initial estimate\n",
    "`x0`, and `R(k+1)` is the estimate of the root of $f$ after $k$ iterations in the Newton Method.\n",
    "\n",
    "The function should also return the absolute error in a row vector `E`, of class double, where\n",
    "`E(k)` is the value of $\\lvert f(R(k)) \\rvert$. The function should return when `E(end) < tol` or after 100\n",
    "iterations have been performed. If $N$ iterations of Newton's method have been performed,\n",
    "the outputs should each have $N +1$ elements. You may assume that the derivative of `f` will\n",
    "not be 0 during any iteration for any of the test cases given. \n",
    "\n",
    "Do not use built-in functions to find the roots. Do not use a while loop."
   ]
  },
  {
   "cell_type": "code",
   "execution_count": null,
   "metadata": {
    "collapsed": true
   },
   "outputs": [],
   "source": [
    "def myNewton(f, df, x0, tol):\n",
    "    \"\"\"\n",
    "    >>> f = lambda x: x**2 - 2\n",
    "    >>> df = lambda x: 2*x\n",
    "    >>> myNewton(f, df, 1, 1e-5)\n",
    "    ([1, 1.5, 1.4166666666666667, 1.4142156862745099], [1, 0.25, 0.006944444444444642, 6.007304882871267e-06])\n",
    "\n",
    "    >>> f = lambda x: math.sin(x) - math.cos(x)\n",
    "    >>> df = lambda x: math.cos(x) + math.sin(x)\n",
    "    >>> myNewton(f, df, 1, 1e-5)\n",
    "    ([1, 0.782041901539138, 0.7853981759997019], [0.30116867893975674, 0.004746462127804163, 1.7822277875723103e-08])\n",
    "\n",
    "    >>> f = lambda x: math.sinh(x) - 1\n",
    "    >>> df = lambda x: math.cosh(x)\n",
    "    >>> myNewton(f, df, -1, 1e-8)\n",
    "    ([-1, 0.4096484296196503, 0.9430603553462776, 0.8827364259018153, 0.8813742438952269, 0.8813735870196955], [2.1752011936438014, 0.578797742601695, 0.08919683435847481, 0.001928274492311477, 9.28962716750803e-07, 2.156053113822054e-13])\n",
    "\n",
    "    \"\"\"\n",
    "    R = [x0]\n",
    "    E = [abs(f(x0))]\n",
    "    for _ in range(100):\n",
    "        if E[-1] < tol:\n",
    "            break\n",
    "        x0 = x0 - f(x0)/df(x0)\n",
    "        R.append(x0)\n",
    "        E.append(abs(f(x0)))\n",
    "    return R, E"
   ]
  },
  {
   "cell_type": "code",
   "execution_count": null,
   "metadata": {
    "collapsed": true
   },
   "outputs": [],
   "source": []
  },
  {
   "cell_type": "markdown",
   "metadata": {},
   "source": [
    "### 3.2: Bisection Method\n",
    "\n",
    "Write a function `myBisection(f, a, b, tol)`\n",
    "where `f` is a function handle, `a` and `b` are scalars such that `a < b`, and `tol` is a strictly\n",
    "positive scalar value. The function should return a row vector, `R` of class double, where\n",
    "`R(k)` is the estimation of the root of `f` after $k$ iterations of the bisection method. The first\n",
    "element of `R` should be the midpoint of the interval defined by the inputs a and b, and counts\n",
    "as the first step of the bisection method. "
   ]
  },
  {
   "cell_type": "markdown",
   "metadata": {},
   "source": [
    "The function should also return a row vector `E`\n",
    "of class double, where `E(k)` is the value of $\\lvert f(R(k)) \\rvert$. The function should return when\n",
    "`E(k) < tol` or after 100 iterations have been performed. If $N$ iterations of the bisection\n",
    "method are performed, the outputs should each have $N$ elements. You may assume that\n",
    "`sign(f(a)) = - sign(f(b))` for the first guess. (When you are testing your function, it\n",
    "will help to plot your function first, so you can pick appropriate values to bracket the root.)\n",
    "\n",
    "**Note**: The inputs `a` and `b` constitute the first iteration of bisection, and therefore `R` and `E`\n",
    "should never be empty. \n",
    "\n",
    "Do not use built-in functions to find the roots. Do not use a while loop."
   ]
  },
  {
   "cell_type": "code",
   "execution_count": null,
   "metadata": {
    "collapsed": true
   },
   "outputs": [],
   "source": [
    "def myBisection(f, a, b, tol):\n",
    "    \"\"\"\n",
    "    >>> f = lambda x: x**2 - 2\n",
    "    >>> myBisection(f, 0, 2, 1e-1)\n",
    "    ([1.0, 1.5, 1.25, 1.375, 1.4375], [1.0, 0.25, 0.4375, 0.109375, 0.06640625])\n",
    "\n",
    "    >>> f = lambda x: math.sin(x) - math.cos(x)\n",
    "    >>> myBisection(f, 0, 2, 1e-2)\n",
    "    ([1.0, 0.5, 0.75, 0.875, 0.8125, 0.78125], [0.30116867893975674, 0.39815702328616975, 0.050050108850486774, 0.12654664407270189, 0.038323093040207756, 0.005866372111545948])\n",
    "\n",
    "    >>> f = lambda x: math.exp(-x) - x**2\n",
    "    >>> myBisection(f, 0, 1, 1e-2)\n",
    "    ([0.5, 0.75, 0.625, 0.6875, 0.71875, 0.703125], [0.3565306597126334, 0.09013344725898531, 0.14463642851899028, 0.030175327970940913, 0.029240485786380888, 0.0006511313011985931])\n",
    "\n",
    "    \"\"\"\n",
    "    g = lambda a, b: (a+b)/2.\n",
    "\n",
    "    R = [g(a,b)]\n",
    "    E = [abs(f(R[0]))]\n",
    "\n",
    "    for i in range(100):\n",
    "        if E[-1] < tol:\n",
    "            break\n",
    "        elif f(g(a,b)) * f(a) > 0.:\n",
    "            a = g(a,b)\n",
    "            R.append(g(a,b))\n",
    "            E.append(abs(f(g(a,b))))\n",
    "        else:\n",
    "            b = g(a,b)\n",
    "            R.append(g(a,b))\n",
    "            E.append(abs(f(g(a,b))))\n",
    "    return R, E"
   ]
  },
  {
   "cell_type": "code",
   "execution_count": null,
   "metadata": {
    "collapsed": true
   },
   "outputs": [],
   "source": []
  },
  {
   "cell_type": "markdown",
   "metadata": {},
   "source": [
    "### 3.3: Further Exploration (Optional)\n",
    "\n",
    "In this question you explored two iterative root finding methods. Each of these functions\n",
    "provides a series of $x$ values as the computer \"zooms in\" on the root. Experiment with\n",
    "different types of functions as well as different initial intervals and estimates, and see how\n",
    "the different root finding methods behave. Do they always converge? How quickly do they converge?"
   ]
  },
  {
   "cell_type": "markdown",
   "metadata": {},
   "source": [
    "To get started, try consider the following function:\n",
    "\n",
    "```PYTHON\n",
    "f = lambda x: x*x*x - 3*x - 5\n",
    "df = lambda x: 3*x*x - 3\n",
    "```\n",
    "\n",
    "You should see \"linear convergence\" for one method and \"quadratic convergence\" for the other (quadratic meaning that the number of correct decimal places approximately doubles with each iteration). \n",
    "\n",
    "You may want to use a log plot to see this result. \n",
    "\n",
    "This section will not be graded, but completing it and thinking about the concepts will help improve your understanding of root finding."
   ]
  },
  {
   "cell_type": "markdown",
   "metadata": {},
   "source": [
    "## Question 4: Root Finding: Fractal generation\n",
    "\n",
    "In this question, we are exploring root finding on the complex number plane. A complex number can be written as:\n",
    "\n",
    "$z = x + yi$\n",
    "\n",
    "where $x$ and $y$ are two real numbers, $i$ is the imaginary number such that $i^2 = -1$, and $z$ is\n",
    "a complex number. Note that $x$ is the real part of $z$ and $y$ is the complex part of $z$."
   ]
  },
  {
   "cell_type": "markdown",
   "metadata": {},
   "source": [
    "Complex number calculations work similarly to real numbers. Below are four examples\n",
    "using $z_1$ and $z_2$ for addition, subtraction, multiplication, and division (to help refresh your\n",
    "memory):\n",
    "\n",
    "$$ \\begin{align}\n",
    "z_1 &= 1 + i \\\\ \n",
    "z_2 &= 3 - 2i \\\\\n",
    "z_1 + z_2 &= 1 + i + 3 - 2i = 4 - i \\\\\n",
    "z_1 - z_2 &= 1 + i - (3 - 2i) = -2 + 3i \\\\\n",
    "z_1z_2 &= (1 + i)(3 - 2i) = 3 - 2i + 3i - i(2i) = 3 + i - 2(i^2) = 3 + i - 2(-1) = 5 + i \\\\\n",
    "\\frac{z_1}{z_2} &= \\frac{1+i}{3-2i} = \\frac{(1+i)(3+2i)}{(3-2i)(3+2i)} = \\frac{3+2i+3i-2}{9+6i-6i-4i^2} = \\frac{1+5i}{13} = \\frac{1}{13} + \\frac{5}{13}i\n",
    "\\end{align}$$\n",
    "\n",
    "Complex numbers can be roots to a polynomial. For instance, for the equation:\n",
    "\n",
    "$$\\begin{align} z^3 + 1 &= 0 \\\\\n",
    "z^3 &= -1 && (7) \\end{align}$$\n",
    "\n",
    "the solutions are: $z_1 = -1$, $z_2 = \\frac{1}{2} + \\frac{\\sqrt{3}}{2}i$, and $z_3 = \\frac{1}{2} - \\frac{\\sqrt{3}}{2}i$. (Try plugging $z_1$, $z_2$ and $z_3$ back\n",
    "into the equation to check for yourself)."
   ]
  },
  {
   "cell_type": "markdown",
   "metadata": {},
   "source": [
    "### 4.1: Exact complex solutions to a polynomial equation\n",
    "\n",
    "In this section, you will learn how to solve for the exact complex solutions to a polynomial in the form of Eq. 8:\n",
    "\n",
    "$$ z^d = 1 \\;\\;\\; \\text{(8)} $$\n",
    "\n",
    "where $d$ is a positive integer. Eq. 8 has $d$ roots. For any complex number, we can transform it into the polar form:\n",
    "\n",
    "$$ z = x + iy = \\lvert z \\rvert (cos \\phi + i sin \\phi) = re^{i\\phi} $$\n",
    "\n",
    "where $x = Re(z)$, the real part of the complex number $z$; $y = Im(z)$, the imaginary part of $z$; $r = \\lvert z \\rvert = \\sqrt{x2 + y2}$, the magnitude of $z$; and $\\phi = arg(z)$, the angle in radians between\n",
    "the x axis on a complex plane and the vector made by $z$. For instance, when $r = 1$, Figure 4\n",
    "shows the argument $\\phi$."
   ]
  },
  {
   "cell_type": "markdown",
   "metadata": {},
   "source": [
    "<img src=\"resources/E7_Lab8_4.jpg\" style=\"width: 300px;\"/>\n",
    "<center>*Figure 4: $z = x + iy = re^{i\\phi}$ on a complex plane. Image from https://sites.google.com/site/greatmathmoments/identity.*</center>"
   ]
  },
  {
   "cell_type": "markdown",
   "metadata": {},
   "source": [
    "Rewriting Eq. 8 in the exponential form, we have:\n",
    "$$\\begin{align} (re^{i\\phi})^d &= e^{2\\pi ni} \\\\\n",
    "r^d (e^{i(\\phi d)}) &= (1)e^{2\\pi ni} && (10) \\end{align}$$\n",
    "\n",
    "where $n$ equals $0, 1, 2, 3, \\dots, d - 1$. Eq. 10 gives us $r^d = 1$ and $\\phi d = 2\\phi n$. Therefore, $r = 1$ and $\\phi = \\frac{2\\pi}{d}n$. "
   ]
  },
  {
   "cell_type": "markdown",
   "metadata": {},
   "source": [
    "So the solutions to Eq. 8 are: $1, e^{i \\frac{2\\pi}{d}}, e^{2i \\frac{2\\pi}{d}}, e^{3i \\frac{2\\pi}{d}}, \\dots, e^{i 2\\pi \\frac{d-1}{d}}$. "
   ]
  },
  {
   "cell_type": "markdown",
   "metadata": {},
   "source": [
    "To practice solving complex polynomial with the polar form, let's look at the polynomial $z_3 = -1$ again (Equation 7). To solve this equation using the polar form, we have:\n",
    "\n",
    "$$\\begin{align} z^3 &= -1 \\\\\n",
    "(re^{i\\phi)})^3 &= e^{(2n+1)\\pi i} && (11) \\end{align}$$\n",
    "\n",
    "where $n$ equals $0,1,2$. Therefore:\n",
    "\n",
    "$$\\begin{align} r^3 &= 1 \\\\\n",
    "3\\phi = (2n+1)\\pi \\end{align}$$"
   ]
  },
  {
   "cell_type": "markdown",
   "metadata": {},
   "source": [
    "Solving for $r$ and $\\phi$:\n",
    "\n",
    "$$\\begin{align} r &= 1 \\\\\n",
    "\\phi &= \\frac{2n+1}{3}\\pi && (12) \\\\\n",
    "&= \\frac{1}{3} \\pi, \\pi, \\frac{5}{3}\\pi \\end{align}$$\n",
    "\n",
    "Therefore, the solutions to $z^3 = -1$ are: $z_1 = e^{i \\frac{1}{3} \\pi} = -\\frac{1}{2} + \\frac{\\sqrt{3}}{2}i$,  $z_2 = e^{\\pi i} = -1$, and $z_3 = e^{i \\frac{5}{3} \\pi} = -\\frac{1}{2} - \\frac{\\sqrt{3}}{2}i$"
   ]
  },
  {
   "cell_type": "markdown",
   "metadata": {
    "collapsed": true
   },
   "source": [
    "For another example, let's look at the polynomial $z^5 = 1$. To solve this equation using the polar form, we have:\n",
    "\n",
    "$$\\begin{align} z^5 &= 1 \\\\\n",
    "(re^{i\\phi})^5 &= e^{(2n)\\pi i} && (13) \\end{align}$$\n",
    "\n",
    "where $n$ equals 0,1,2,3,4. Therefore:\n",
    "\n",
    "$$\\begin{align} z^5 &= 1 \\\\\n",
    "5\\phi &= (2n)\\pi \\end{align}$$\n",
    "\n",
    "Solving for $r$ and $\\phi$:\n",
    "\n",
    "$$\\begin{align} r &= 1 \\\\\n",
    "\\phi &= \\frac{2n}{5}\\pi && (14) \\\\\n",
    "&= 0, \\frac{2}{5} \\pi, \\frac{4}{5} \\pi, \\frac{6}{5} \\pi, \\frac{8}{5} \\pi \\end{align}$$\n",
    "\n",
    "Therefore, the solutions to $z^5 = 1$ are:\n",
    "\n",
    "$$\\begin{align}\n",
    "z_1 &= e^{i0} = 1 + 0i \\\\\n",
    "z_1 &= e^{i\\frac{2}{5}\\pi} = 0.309 + 0.9511i \\\\\n",
    "z_1 &= e^{i\\frac{4}{5}\\pi} = -0.809 + 0.5878i \\\\\n",
    "z_1 &= e^{i\\frac{6}{5}\\pi} = -0.809 - 0.5878i \\\\\n",
    "z_1 &= e^{i\\frac{7}{5}\\pi} = 0.309 - 0.9511i \n",
    "\\end{align}$$"
   ]
  },
  {
   "cell_type": "markdown",
   "metadata": {
    "collapsed": true
   },
   "source": [
    "Now that you know how to solve complex polynomial, write a function `PolynomialExactSolutions(d)`,\n",
    "where `d` is the order of the polynomial from Eq. 8. Your function should output an array of\n",
    "`d` elements that contain the complex solutions to Eq. 8.\n",
    "Note: You need to find $\\phi$ for $n = 0,1,2,\\dots$ using the pattern given above, then transform the\n",
    "polar form to rectangular form ($z = x + yi$). You are not allowed to use any root-finding\n",
    "Python functions in the function `PolynomialExactSolutions(d)`. Your function should output the roots in order, as seen in the test cases below.\n",
    "\n",
    "```Python\n",
    ">>PolynomialExactSolutions(9)\n",
    "```\n",
    "\n",
    "<img src=\"resources/E7_Lab8_5.jpg\" style=\"width: 300px;\"/>"
   ]
  },
  {
   "cell_type": "code",
   "execution_count": null,
   "metadata": {
    "collapsed": true
   },
   "outputs": [],
   "source": [
    "def PolynomialExactSolutions(d):\n",
    "    \"\"\"\n",
    "    >>> PolynomialExactSolutions(3)\n",
    "    [(1+0j), (-0.4999999999999998+0.8660254037844387j), (-0.5000000000000004-0.8660254037844385j)]\n",
    "\n",
    "    >>> PolynomialExactSolutions(9)\n",
    "    [(1+0j), (0.766044443118978+0.6427876096865393j), (0.17364817766693041+0.984807753012208j), (-0.4999999999999998+0.8660254037844387j), (-0.9396926207859083+0.3420201433256689j), (-0.9396926207859084-0.34202014332566866j), (-0.5000000000000004-0.8660254037844385j), (0.17364817766692997-0.9848077530122081j), (0.7660444431189778-0.6427876096865396j)]\n",
    "\n",
    "    >>> PolynomialExactSolutions(4)\n",
    "    [(1+0j), (6.123233995736766e-17+1j), (-1+1.2246467991473532e-16j), (-1.8369701987210297e-16-1j)]\n",
    "\n",
    "    \"\"\"\n",
    "    roots = []\n",
    "    n = [i/(d) for i in range(d+1)][:d+1]\n",
    "    for i in range(d):\n",
    "        phi = 2*cmath.pi*n[i]\n",
    "        # print(phi/cmath.pi)\n",
    "        real = cmath.cos(phi)\n",
    "        img = cmath.sin(phi)\n",
    "        roots.append(real + img * 1j)\n",
    "    return roots"
   ]
  },
  {
   "cell_type": "code",
   "execution_count": null,
   "metadata": {
    "collapsed": true
   },
   "outputs": [],
   "source": []
  },
  {
   "cell_type": "markdown",
   "metadata": {},
   "source": [
    "### 4.2: Convergence using Newton's Method\n",
    "\n",
    "Different starting points on a complex plane, when chosen as the initial guess to Newton's\n",
    "method, will converge to different roots. In this section, even though we know the roots to\n",
    "a complex polynomial, we are trying to see whether Newton's method can reach a root in a\n",
    "given number of iterations, and if yes, which roots these different initial guesses will converge\n",
    "to.\n",
    "\n",
    "Now pick any point on a complex plane, $z$, use it as the initial guess to a root of Eq. 8,\n",
    "and apply Newton's method n times on the complex plane $z$. Write a function `NewtonConv(d, z, n, tol)`\n",
    "where `d` is the order of the polynomial from Eq. 8, `z` is a complex number as the initial guess,\n",
    "`n` is the number of iterations for which we apply Newton's method, and `tol` is the tolerance which determines if the output has converged after `n` iterations of Newton's method. "
   ]
  },
  {
   "cell_type": "markdown",
   "metadata": {},
   "source": [
    "Your function should return a tuple, `(ConvergeOrNot, ConvergeToRoot)`. If the iteration result is within tolerance of a certain root, `ConvergeOrNot` equals 1, and\n",
    "`ConvergeToRoot` is the root it's converging to; if the iteration result is not within tolerance\n",
    "of any roots, `ConvergeOrNot` should be 0, and `ConvergeToRoot` is `NaN`. All output should\n",
    "be of class double.\n",
    "\n",
    "Hint: Call the function `PolynomialExactSolutions` you wrote to generate an array\n",
    "containing the true roots. Since `NewtonConv` relies on `PolynomialExactSolutions`, be extra careful to check that it works correctly before you start `NewtonConv`!"
   ]
  },
  {
   "cell_type": "code",
   "execution_count": null,
   "metadata": {
    "collapsed": true
   },
   "outputs": [],
   "source": [
    "def NewtonConv(d, z, n, tol):\n",
    "    \"\"\"\n",
    "    >>> NewtonConv(3,1+1j,5,0.001)\n",
    "    (0, nan)\n",
    "    >>> NewtonConv(3,1+1j,10,0.001)\n",
    "    (1, (1+0j))\n",
    "    >>> NewtonConv(3,10+10j,10,0.001)\n",
    "    (0, nan)\n",
    "    >>> NewtonConv(3, -10+10j,100,0.001)\n",
    "    (1, (-0.49999999999999978+0.86602540378443871j))\n",
    "    >>> NewtonConv(3,2,100,1e-10)\n",
    "    (1, (1+0j))\n",
    "\n",
    "    \"\"\"\n",
    "    solutions = np.array(PolynomialExactSolutions(d))\n",
    "    for i in range(n):\n",
    "        z = z - ((z**d)-1)/(d*(z**(d-1)))\n",
    "\n",
    "    abs_diff = abs(z - solutions)\n",
    "\n",
    "    # min_diff = min(abs_diff)\n",
    "    # closest_ind = []\n",
    "    # for i in range(len(abs_diff)):\n",
    "    #     if abs_diff[i] == min_diff:\n",
    "    #         closest_ind.append(i)\n",
    "    closest_ind = np.argmin(abs_diff)\n",
    "\n",
    "    # if len(closest_ind) > 0:\n",
    "    #     IsConv = 1\n",
    "    #     ConvTo = np.take(solutions, closest_ind)\n",
    "    if abs_diff[closest_ind] <= tol:\n",
    "        IsConv = 1\n",
    "        ConvTo = solutions[closest_ind]\n",
    "    else:\n",
    "        IsConv = 0\n",
    "        ConvTo = np.nan\n",
    "    return IsConv, ConvTo"
   ]
  },
  {
   "cell_type": "code",
   "execution_count": null,
   "metadata": {
    "collapsed": true
   },
   "outputs": [],
   "source": []
  },
  {
   "cell_type": "markdown",
   "metadata": {},
   "source": [
    "### 4.3: Newton Fractal\n",
    "\n",
    "As you can see from the function `NewtonConv`, different starting points $z$ will converge to\n",
    "different roots. You can color the points on the complex plane according to which root of\n",
    "the polynomial each of them converge to. This will generate a Newton fractal. You can\n",
    "Google \"Newton Fractals\" and look at the pretty pictures. Here you will write a function\n",
    "to generate your own Newton's fractal for polynomials like Eq. 8. \n",
    "\n",
    "Write the function `NewtonFractal(d,n,tol,res,ULcorner,sqrL)` where `d`, `n`, and `tol` are as defined in the function `NewtonConv`, `res` is a scalar double indicating the total number of points in the $x$ and $y$ axis of your plot (resolution), `ULcorner` is a 1-by-2 double array containing the x and y coordinates of the upper-left corner of your\n",
    "plot's domain, and `sqrL` is the length of the square which makes up your domain (your\n",
    "domain will always be a square). (An example domain is illustrated in Figure 6.)\n",
    "\n",
    "<img src=\"resources/E7_Lab8_6.jpg\" style=\"width: 300px;\"/>\n",
    "<center>*Figure 6: The example domain created by input ULcorner=(-1.5,1.5), sqrL=2.5, res=6.*</center>"
   ]
  },
  {
   "cell_type": "markdown",
   "metadata": {},
   "source": [
    "Your function will output two things: a res-by-res matrix containing values $1,2,3,\\dots,d$\n",
    "that refer to which root a point in the plotting domain converges to, or 0 for a point which\n",
    "does not converge to any root. Your function will also output a square image of length sqrL\n",
    "of this matrix, with 0 colored white. You can define the colors of other values $(1,2,3,\\dots,d)$\n",
    "to your own liking. Your *output* has to match the rule of assignment given in the guide\n",
    "below; your plot should have the same title structure, domain size, and axis labels, but it\n",
    "does not need to have the same color scheme.\n",
    "\n",
    "Your plot will show the range of your $x$ and $y$ axes, and have a title indicating `d`, `n`, `tol`,\n",
    "and `res`. Refer to Figure 7 and 8 for plotting examples. You should suppress the call of the\n",
    "function at the command line, as output can be a very large matrix."
   ]
  },
  {
   "cell_type": "markdown",
   "metadata": {},
   "source": [
    "You can follow the guide below to start the problem:\n",
    "1. Define your $x$ and $y$ axis arrays based on `res`, `ULcorner` and `sqrL`. Then use `meshgrid`\n",
    "to generate `X` and `Y`.\n",
    "2. Define `Z` using `X` and `Y`. Every element in `Z` should be a complex number.\n",
    "3. Perform Newton's method `n` times using each value of `Z` as a starting point.\n",
    "4. Find the roots of the polynomial using `PolynomialExactSolutions(d)`. We need to know the exact roots. This is in addition to what we do using Newton's method next.\n",
    "5. Define your output as a matrix of 0's and of same size as `Z`. Loop through every root\n",
    "in `solutions` using a for loop. For each root, check which elements in complex\n",
    "plane `Z` converge to this root, and assign an integer from 1 to $d$ to these elements\n",
    "by recording the integer in the appropriate position in output. For instance, if an\n",
    "element in `Z` converges to the first root output by `PolynomialExactSolutions`, you\n",
    "assign 1 to the same location in output; if it converges to the second root output by\n",
    "`PolynomialExactSolutions`, assign 2 to the same location in output; so on and so\n",
    "forth.\n",
    "6. You end up with the matrix output that has $d$ different integers and may or may not\n",
    "have 0's. (The higher the iteration `n`, the less likely you will get 0's, because Newton's\n",
    "method will have more iterations to get within the tolerance tol of an exact root. But\n",
    "the higher the iteration, the more computing time it takes.)\n",
    "7. Now plot your output. Define your own set of colors associated with the different integers.\n",
    "Zeros should be white."
   ]
  },
  {
   "cell_type": "markdown",
   "metadata": {},
   "source": [
    "# !!!Convert this part to Python"
   ]
  },
  {
   "cell_type": "markdown",
   "metadata": {},
   "source": [
    "To define your own color scheme for a `Z` that contains 0's, you can generate a (d+1)-by-3\n",
    "array, such as:\n",
    "\n",
    "```MATLAB\n",
    "mycolormap=[1 1 1;\n",
    "1 0 0; 0 1 0; 0 0 1;\n",
    "1 1 0; 0 1 1; 1 0 1];\n",
    "% This gives a 7􀀀element array of white, red, green, blue,\n",
    "%yellow, cyan, purple.\n",
    "% OR\n",
    "R=linspace(1,0,d+1); % size of d+1\n",
    "G=R;\n",
    "B=G; % Define a GRAY scale from (1 1 1) to (0 0 0);\n",
    "mycolormap=[R;G;B]';\n",
    "% OR\n",
    "mycolormap=[1 1 1; hsv(d)]; % The first row is white color, and\n",
    "% then pick d number of colors from the built􀀀in palette hsv.\n",
    "% You can also look up other built􀀀in palettes,\n",
    "% such as 'spring','hot','jet', etc.\n",
    "```"
   ]
  },
  {
   "cell_type": "markdown",
   "metadata": {},
   "source": [
    "Then you can use `imagesc` to plot `Z` and apply your colors using `colormap(mycolormap)`.\n",
    "\n",
    "Test case (Figure 7):\n",
    "\n",
    "```MATLAB\n",
    ">>d=7;\n",
    ">>n=200;\n",
    ">>tol=1e􀀀4;\n",
    ">>res=200;\n",
    ">>ULcorner=[􀀀1 1];\n",
    ">>sqrL=2;\n",
    ">>output=NewtonFractal(d,n,tol,res,ULcorner,sqrL);\n",
    "```"
   ]
  },
  {
   "cell_type": "markdown",
   "metadata": {},
   "source": [
    "<img src=\"resources/E7_Lab8_7.jpg\" style=\"width: 300px;\"/>\n",
    "<center>*Figure 7: Example plot with $n = 200$.*</center>\n",
    "\n",
    "Test case (Figure 8):\n",
    "```\n",
    ">>n=25; % Keep d,tol,res,ULcorner,sqrL the same, just change the iterations\n",
    ">>output=NewtonFractal(d,n,tol,res,ULcorner,sqrL);\n",
    "```\n",
    "\n",
    "<img src=\"resources/E7_Lab8_8.jpg\" style=\"width: 300px;\"/>\n",
    "<center>*Figure 8: Example plot with $n = 25$.*</center>\n",
    "\n",
    "Test case (Figure 9):\n",
    "```MATLAB\n",
    ">>d=3;\n",
    ">>n=200;\n",
    ">>tol=1e􀀀5;\n",
    ">>res=500;\n",
    ">>ULcorner=[􀀀1.5 1.5];\n",
    ">>sqrL=3;\n",
    ">>output=NewtonFractal(d,n,tol,res,ULcorner,sqrL);\n",
    "```\n",
    "<img src=\"resources/E7_Lab8_9.jpg\" style=\"width: 300px;\"/>\n",
    "<center>*Figure 9: Example plot with $d = 3$.*</center>\n",
    "\n",
    "Note how Figure 9 compares to Figure 5, both for $z_3 = 1$. It's along the mid-point edge of\n",
    "each pair of roots where fractals get generated.\n",
    "\n",
    "Try varying the size of your domain and look at the intricate details of the fractal. You\n",
    "can zoom in and out by clicking the zoom icons on top of the plot window. As you zoom\n",
    "into particular regions, you will discover the self-similarity of the fractal."
   ]
  },
  {
   "cell_type": "code",
   "execution_count": null,
   "metadata": {
    "collapsed": true
   },
   "outputs": [],
   "source": [
    "def NewtonFractal(d, n, tol, res, ULcorner, sqrL):\n",
    "    x = np.linspace(ULcorner[0], ULcorner[0] + sqrL, res)\n",
    "    y = np.linspace(ULcorner[1], ULcorner[1] + sqrL, res)\n",
    "    X, Y = np.meshgrid(x, y)\n",
    "    Z = X + (1j*Y)\n",
    "\n",
    "    for i in range(n):\n",
    "        Z = Z - ((Z**d)-1)/(d*Z**(d-1))\n",
    "\n",
    "    output = []\n",
    "    solutions = PolynomialExactSolutions(d)\n",
    "\n",
    "    for i in range(d):\n",
    "        root = solutions[i]\n",
    "        Mj = abs(Z - root)\n",
    "        mask = (Mj <= tol) * (i + 1)\n",
    "        output.append(mask)\n",
    "\n",
    "    if not len([x for x in output if x == 0]) == 0:\n",
    "        MyCustomColor = [1, 1, 1, colorsys.hsv(len(np.unique(output)) - 1)]\n",
    "    else:\n",
    "        MyCustomColor = hsv(len(np.unique(output)))"
   ]
  },
  {
   "cell_type": "code",
   "execution_count": null,
   "metadata": {
    "collapsed": true
   },
   "outputs": [],
   "source": []
  },
  {
   "cell_type": "markdown",
   "metadata": {},
   "source": [
    "### Optional: Add shading to Newton's fractal\n",
    "\n",
    "You have plotted Newton fractal with discrete colors. Now, when you Google \"Newton fractal\", you may come across something like Figure 10.\n",
    "\n",
    "<img src=\"resources/E7_Lab8_10.jpg\" style=\"width: 300px;\"/>\n",
    "<center>*Figure 10: A Newton fractal plotted with shading*</center>\n",
    "\n",
    "Note that in Figure 10, there are different shades of red, yellow, green, etc. The colors are\n",
    "determined by which root a guess converges to, as we programmed in NewtonFractal, and\n",
    "the shades are determined by how many iterations are needed to reach the roots. To plot\n",
    "something similar to Figure 10, you count the number of iterations in the function, instead\n",
    "of having the number of iterations as an input variable. "
   ]
  },
  {
   "cell_type": "markdown",
   "metadata": {},
   "source": [
    "Your function may `ShadedNewtonFractal(d,tol,res,ULcorner,sqrL)`,\n",
    "where your output is no longer a matrix containing integer values, but a matrix containing\n",
    "numbers with decimal points that indicate *both* which root an initial guess converges to and\n",
    "how many iterations it takes. The integer part of the number indicates the root, and the\n",
    "decimal part of the number indicates the number of iterations. For instance, 1.005 means\n",
    "it takes 5 iterations to reach the first root; and 4.580 means it takes 580 iterations to reach\n",
    "the fourth root. Then you can play around with `mycolormap` to obtain the right color and\n",
    "shade for each number in output. Only try this part if you finish all the required problems\n",
    "above."
   ]
  },
  {
   "cell_type": "code",
   "execution_count": null,
   "metadata": {
    "collapsed": true
   },
   "outputs": [],
   "source": []
  }
 ],
 "metadata": {
  "anaconda-cloud": {},
  "kernelspec": {
   "display_name": "Python [default]",
   "language": "python",
   "name": "python3"
  },
  "language_info": {
   "codemirror_mode": {
    "name": "ipython",
    "version": 3
   },
   "file_extension": ".py",
   "mimetype": "text/x-python",
   "name": "python",
   "nbconvert_exporter": "python",
   "pygments_lexer": "ipython3",
   "version": "3.5.3"
  }
 },
 "nbformat": 4,
 "nbformat_minor": 1
}
