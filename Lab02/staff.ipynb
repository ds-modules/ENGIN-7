{
 "cells": [
  {
   "cell_type": "markdown",
   "metadata": {
    "collapsed": true
   },
   "source": [
    "# E7: Introduction to Computer Programming for Scientists and Engineers"
   ]
  },
  {
   "cell_type": "markdown",
   "metadata": {},
   "source": [
    "## Lab Assignment 2"
   ]
  },
  {
   "cell_type": "markdown",
   "metadata": {},
   "source": [
    "For each question, you will have to fill in one or more Python functions. We provide an autograder with a number of test cases that you can use to test your function. Note that the fact that your function works for all test cases thus provided does necessarily guarantee\n",
    "that it will work for all possible test cases relevant to the question. It is your responsibility\n",
    "to test your function thoroughly, to ensure that it will also work in situations not covered\n",
    "by the test cases provided"
   ]
  },
  {
   "cell_type": "code",
   "execution_count": 1,
   "metadata": {
    "collapsed": true
   },
   "outputs": [],
   "source": [
    "# Please run this cell, and do not modify the contets\n",
    "import math\n",
    "import numpy as np\n",
    "import matplotlib.pyplot as plt\n",
    "np.seterr(all='ignore');\n",
    "# %run lab2_ag.py"
   ]
  },
  {
   "cell_type": "markdown",
   "metadata": {},
   "source": [
    "## Question 1\n",
    "\n",
    "Write a Python function that calculates the roots of a quadratic equation $ax^2+bx+\n",
    "c = 0$ of unknown $x$, using the quadratic formula below. \n",
    "\n",
    "$$x = \\frac{-b\\pm \\sqrt{b^2-4ac}}{2a}$$"
   ]
  },
  {
   "cell_type": "markdown",
   "metadata": {},
   "source": [
    "The function output should be a two element tuple. The first element should be the root computed by setting the $\\pm$ to $+$, and the second element should be the root computed by setting the $\\pm$ to $-$. You may assume $b2 - 4ac \\ge 0$."
   ]
  },
  {
   "cell_type": "code",
   "execution_count": 2,
   "metadata": {
    "collapsed": true
   },
   "outputs": [],
   "source": [
    "def solve_quadratic(a, b, c):\n",
    "    \"\"\"\n",
    "    >>> solve_quadratic(1, -7, 10)\n",
    "    (5.0, 2.0)\n",
    "    >>> solve_quadratic(5, -23, 2)\n",
    "    (4.511334438749598, 0.08866556125040184)\n",
    "    \"\"\"\n",
    "    disc = math.sqrt(b*b-4.*a*c)\n",
    "    return (-b+disc)/(2.*a), (-b-disc)/(2.*a)"
   ]
  },
  {
   "cell_type": "code",
   "execution_count": null,
   "metadata": {
    "collapsed": true
   },
   "outputs": [],
   "source": []
  },
  {
   "cell_type": "markdown",
   "metadata": {},
   "source": [
    "## Question 2\n",
    "\n",
    "Write a Python function that computes the Euclidean distances between two sets of\n",
    "points. The x-coordinates for the first set of points will be stored in a column vector\n",
    "`X_1`, the y-coordinates for the first set of points in `Y_1`, the x-coordinates for the second\n",
    "set of points will be stored in a column vector `X_2`, the y-coordinates for the second\n",
    "set of points in `Y_2`. `X_1`, `Y_1`, `X_2`, and `Y_2` are $N$ by $1$ arrays where $N$ is the number\n",
    "of points in each set. Note that, for a single pair of points, $(x_1, y_1)$ and $(x_2, y_2)$, the\n",
    "Euclidean distance can be obtained from the distance formula:\n",
    "\n",
    "$$ \\text{Euclidean distance} = \\sqrt{(x_1-x_2)^2 + (y_1-y_2)^2} $$"
   ]
  },
  {
   "cell_type": "code",
   "execution_count": 3,
   "metadata": {
    "collapsed": true
   },
   "outputs": [],
   "source": [
    "def euclidean_distance(x1, y1, x2, y2):\n",
    "    \"\"\"\n",
    "    >>> euclidean_distance(np.array([0,0]),np.array([0,0]),np.array([3,5]),np.array([4,12]))\n",
    "    array([  5.,  13.])\n",
    "    \"\"\"\n",
    "    x = x1 - x2\n",
    "    y = y1 - y2\n",
    "    return np.sqrt(x*x+y*y)"
   ]
  },
  {
   "cell_type": "code",
   "execution_count": null,
   "metadata": {
    "collapsed": true
   },
   "outputs": [],
   "source": []
  },
  {
   "cell_type": "markdown",
   "metadata": {},
   "source": [
    "## Question 3\n",
    "\n",
    "Carbon dating is a method for determining the age of an object containing the ra-\n",
    "dioisotope carbon-14. Since carbon-14 is subject to radioactive decay, the number of\n",
    "carbon-14 atoms in a sample will decay over time according to the following exponential\n",
    "decay law:\n",
    "\n",
    "$$ N(t) = N_0 e^{-\\lambda t} $$\n",
    "\n",
    "where $N_0$ is the number of atoms of the isotope in the original sample, $N(t)$ is the remaining number of atoms after a time $t$, $\\lambda$ is the expoential decay constant and $t$ is the time.\n",
    "\n",
    "Write a function that calculates the remaining fraction of carbon-14 in a sample after\n",
    "a certain amount of time (in years). The remaining fraction is defined as the ratio of\n",
    "the number of atoms at the present time ($N(t)$) to the initial number of atoms ($N_0$).\n",
    "You can re-arrange the decay formula above to find an expression for this ratio.\n",
    "\n",
    "Assume $\\lambda = 0.00012097 \\: \\text{years}^{-1}$."
   ]
  },
  {
   "cell_type": "code",
   "execution_count": 4,
   "metadata": {
    "collapsed": true
   },
   "outputs": [],
   "source": [
    "def c14_dating(time):\n",
    "    \"\"\"\n",
    "    >>> c14_dating(10000)\n",
    "    0.29828675203393595\n",
    "    >>> c14_dating(5730)\n",
    "    0.49999454030978113\n",
    "    \"\"\"\n",
    "    return math.e**(-time*0.00012097)"
   ]
  },
  {
   "cell_type": "code",
   "execution_count": null,
   "metadata": {
    "collapsed": true
   },
   "outputs": [],
   "source": []
  },
  {
   "cell_type": "markdown",
   "metadata": {},
   "source": [
    "## Question 4\n",
    "\n",
    "A ball is launched in the air with initial velocity $v_o$ from an initial position of coordinates $(x_0, y_0)$ as illustrated below: \n",
    "\n",
    "<img src=\"resources/E7_Lab2_1.jpg\" style=\"width: 300px;\"/>\n",
    "<center>*Figure 1: Ball launching at angle $\\theta$ from the x-axis with inital velocity $v_0$*</center>\n",
    "\n",
    "The ball is launched at an angle $\\theta$ (expressed in degrees) from the x-axis. The\n",
    "equations describing the motion (i.e. the position of the ball $(x(t), y(t)$) as a function\n",
    "of time $t$) of the ball are:\n",
    "\n",
    "$$ x(t) = x_0 + v_0 t \\cos(\\theta) $$\n",
    "$$ y(t) = y_0 + v_0 t \\sin(\\theta) - \\frac{1}{2}gt^2 $$\n",
    "\n",
    "where $g$ is the gravitational acceleration ($g = 9.81 m s^22$). Since $\\theta$ is given in degrees,\n",
    "you will want to convert it first into radians before using the `sin` or `cos` functions."
   ]
  },
  {
   "cell_type": "markdown",
   "metadata": {},
   "source": [
    "a. Write a function that calculates the time at which the ball reaches the ground.\n",
    "\n",
    "Note that when the ball hits the ground, $y = 0$. Also, before writing your code,\n",
    "don't forget to use pen and paper to manipulate the equation(s) above and get a\n",
    "mathematical expression for time."
   ]
  },
  {
   "cell_type": "code",
   "execution_count": 5,
   "metadata": {
    "collapsed": true
   },
   "outputs": [],
   "source": [
    "# run this cell to create a global variable g, but make sure you don't have any other global variables also named g\n",
    "g = 9.81"
   ]
  },
  {
   "cell_type": "code",
   "execution_count": 6,
   "metadata": {
    "collapsed": true
   },
   "outputs": [],
   "source": [
    "def proj_time(y0, v0, theta):\n",
    "    \"\"\"\n",
    "    >>> proj_time(0, 15, 40)\n",
    "    1.9657113446071535\n",
    "    \"\"\"\n",
    "    b = v0 * math.sin(np.deg2rad(theta))\n",
    "    time = -(-b - math.sqrt(b**2+2.*g*y0))/g\n",
    "    return time"
   ]
  },
  {
   "cell_type": "code",
   "execution_count": null,
   "metadata": {
    "collapsed": true
   },
   "outputs": [],
   "source": []
  },
  {
   "cell_type": "markdown",
   "metadata": {},
   "source": [
    "b. Write a function that calculates the horizontal distance traveled by the ball before\n",
    "it reaches the ground. You can use the function `proj_time` and the equations of\n",
    "motion."
   ]
  },
  {
   "cell_type": "code",
   "execution_count": 7,
   "metadata": {
    "collapsed": true
   },
   "outputs": [],
   "source": [
    "def proj_distance(y0, v0, theta):\n",
    "        \"\"\"\n",
    "        >>> proj_distance(0, 15, 40)\n",
    "        22.587333784683665\n",
    "        \"\"\"\n",
    "        time = proj_time(y0, v0, theta)\n",
    "        dist = v0 * time * math.cos(np.deg2rad(theta))\n",
    "        return dist"
   ]
  },
  {
   "cell_type": "code",
   "execution_count": null,
   "metadata": {
    "collapsed": true
   },
   "outputs": [],
   "source": []
  },
  {
   "cell_type": "markdown",
   "metadata": {},
   "source": [
    "## Question 5\n",
    "\n",
    "Cell towers and triangulation. Note that part 5b will rely on the function you develop\n",
    "in part 5a."
   ]
  },
  {
   "cell_type": "markdown",
   "metadata": {},
   "source": [
    "a. Write a function that draws a circle centered at the point of coordinates $(x_c, y_c)$\n",
    "and with radius $r_c$."
   ]
  },
  {
   "cell_type": "markdown",
   "metadata": {},
   "source": [
    "Your function should return nothing, but it should plot a circle with a dashed black\n",
    "line for the perimeter and a red point for the center. Multiple function calls, along\n",
    "with the command hold on should plot multiple circles. For example, the code:\n",
    "\n",
    "```PYTHON\n",
    "fig, ax = plt.subplots()\n",
    "ax.set_xlim((-5,5))\n",
    "ax.set_ylim((-5,5))\n",
    "draw_circle(ax, 0, 0, 4)\n",
    "draw_circle(ax, 2, 2, 3)\n",
    "plt.show()\n",
    "```\n",
    "\n",
    "should plot something similar to Figure 2 here:\n",
    "\n",
    "<img src=\"resources/E7_Lab5_1.jpg\" style=\"width: 500px;\"/>\n",
    "<center>*Figure 2*</center>\n",
    "\n",
    "Don't worry about making the plot look exactly like Figure 2."
   ]
  },
  {
   "cell_type": "code",
   "execution_count": 46,
   "metadata": {
    "collapsed": true
   },
   "outputs": [],
   "source": [
    "def draw_circle(ax, xc, yc, rc):\n",
    "    circle = plt.Circle((xc, yc), rc, fill=False, linestyle='--')\n",
    "    ax.plot((xc), (yc), 'o', color = 'red')\n",
    "    ax.add_artist(circle)\n",
    "    # plt.show()"
   ]
  },
  {
   "cell_type": "code",
   "execution_count": 47,
   "metadata": {},
   "outputs": [
    {
     "data": {
      "image/png": "[encoded data removed]",
      "text/plain": [
       "<matplotlib.figure.Figure at 0x1ce23fb0a20>"
      ]
     },
     "metadata": {},
     "output_type": "display_data"
    }
   ],
   "source": [
    "fig, ax = plt.subplots()\n",
    "ax.set_xlim((-5,5))\n",
    "ax.set_ylim((-5,5))\n",
    "draw_circle(ax, 0, 0, 4)\n",
    "draw_circle(ax, 2, 2, 3)\n",
    "plt.show()"
   ]
  },
  {
   "cell_type": "markdown",
   "metadata": {},
   "source": [
    "b. Even without GPS, cell phones can fairly accurately determine their location by\n",
    "using triangulation, the process by which the location can be determined using\n",
    "distance from a set of points with known locations. In the case of a cell phone,\n",
    "the set of known locations are cell towers in the service provider's network infrastructure.\n",
    "\n",
    "For this problem, consider a set of three cell towers: towers 1, 2, and 3. We set\n",
    "up the coordinate system such that towers 1, 2, and 3 are located at the points\n",
    "of coordinates $(0, 0)$, $(0, y_2)$, and $(x_3; y_3)$, respectively, with $0 < y_3 < y_2$ and\n",
    "$x_3 > 0$. Using signal propagation delays from each tower, it is determined that\n",
    "the distance between the cell phone and towers 1, 2, and 3 are $r_1$, $r_2$, and $r_3$,\n",
    "respectively.\n",
    "\n",
    "Write a function that determines the cell phone's position, $(x_{cell}, y_{cell})$, in the\n",
    "coordinate system described above. To facilitate calculations, you may assume\n",
    "that the cell phone's position is constrained by $0 < x_{cell} < x_3$ and $0 < y_{cell} < y_2$.\n",
    "\n",
    "**Don't forget** to work this problem out with pen and paper before you start\n",
    "coding, as this problem will take some algebra!"
   ]
  },
  {
   "cell_type": "markdown",
   "metadata": {},
   "source": [
    "In addition to returning the coordinates of the cell phone, the function should\n",
    "also plot circles of radii $r_1$, $r_2$, and $r_3$ centered at the locations of cell towers 1, 2,\n",
    "and 3, respectively. (Use your function from part a for this.) Finally, the function\n",
    "should plot a triangular point at the cell phone's location."
   ]
  },
  {
   "cell_type": "markdown",
   "metadata": {},
   "source": [
    "Here is an example plot genereated from: \n",
    "\n",
    "```PYTHON\n",
    "triangulate (3, 8, 1, 2.24, 1.41, 7.07)\n",
    "```\n",
    "\n",
    "<img src=\"resources/E7_Lab5_2.png\" style=\"width: 500px;\"/>\n",
    "<center>*Figure 3: Triangulate example*</center>\n"
   ]
  },
  {
   "cell_type": "code",
   "execution_count": 64,
   "metadata": {
    "collapsed": true
   },
   "outputs": [],
   "source": [
    "def triangulate(y2,x3,y3,r1,r2,r3):\n",
    "    yCell = (r1*r1-r2*r2+y2*y2)/(2*y2)\n",
    "    c = x3*x3 + (yCell-y3)**2 - r3*r3\n",
    "    xCell = (2*x3 - math.sqrt(4*x3*x3-4*c))/2\n",
    "    fig, ax = plt.subplots()\n",
    "    ax.set_xlim((-3, 17))\n",
    "    ax.set_ylim((-10, 10))\n",
    "    # circle1 = plt.Circle((0,0), r1, fill=False, linestyle='--')\n",
    "    # circle2 = plt.Circle((0,y2), r2, fill=False, linestyle='--')\n",
    "    # circle3 = plt.Circle((x3,y3), r3, fill=False, linestyle='--')\n",
    "    draw_circle(ax, 0, 0, r1)\n",
    "    draw_circle(ax, 0, y2, r2)\n",
    "    draw_circle(ax, x3, y3, r3)\n",
    "\n",
    "    \n",
    "    ax.plot((xCell), (yCell), '^', color = 'green')\n",
    "    # ax.add_artist(circle1)\n",
    "    # ax.add_artist(circle2)\n",
    "    # ax.add_artist(circle3)\n",
    "    plt.show()\n",
    "    #plt.savefig('E7_lab2_2.png')"
   ]
  },
  {
   "cell_type": "code",
   "execution_count": 65,
   "metadata": {},
   "outputs": [
    {
     "data": {
      "image/png": "[encoded data removed]",
      "text/plain": [
       "<matplotlib.figure.Figure at 0x1ce22a436a0>"
      ]
     },
     "metadata": {},
     "output_type": "display_data"
    }
   ],
   "source": [
    "triangulate(3,8,1,2.24,1.41,7.07)"
   ]
  },
  {
   "cell_type": "markdown",
   "metadata": {},
   "source": [
    "## Snap\n",
    "\n",
    "Snap! (formerly BYOB) is a visual, drag-and-drop programming language, as seen in\n",
    "lecture. Snap! has extended capabilities over Scratch which make it suitable for a\n",
    "serious introduction to computer science for high school or college students (e.g. it is\n",
    "used for CS 10 here at Berkeley). Snap! runs in your browser - if you have any trouble,\n",
    "try a different browser (they recommend Google Chrome)."
   ]
  },
  {
   "cell_type": "markdown",
   "metadata": {},
   "source": [
    "## Question 6\n",
    "\n",
    "Complete [this tutorial](http://beautyjoy.github.io/bjc-r/cur/programming/intro/snap/welcome-to-snap2.html?topic=berkeley_bjc%2Fintro_pair%2F1-introduction.topic&course=cs10_fa15.html&noassignment&noreading&novideo) (from CS 10). In this tutorial you will create an account, try\n",
    "out some test programs, and write your own Kaleidoscope program. (You can ignore\n",
    "the parts about pair programming. Answering the quiz questions may be helpful - but\n",
    "answers are not recorded.) You do not need to submit anything for this problem, but\n",
    "it will be helpful for the next problem."
   ]
  },
  {
   "cell_type": "markdown",
   "metadata": {},
   "source": [
    "## Question 7\n",
    "\n",
    "For the next part, you will create a simulation of a molecule as it travels in a liquid\n",
    "or a gas - this is known as a random walk, which describes the Brownian motion of a\n",
    "molecule. (It may help to read this page on random blocks and this page on randomly\n",
    "moving a character.)"
   ]
  },
  {
   "cell_type": "markdown",
   "metadata": {},
   "source": [
    "a. Think about how you want to structure your code before you start. Your sprite\n",
    "should start from the center and then perform a 2D random walk of a particle.\n",
    "First, change the costume for your sprite from the default arrow shape, by drawing\n",
    "a square or circle (using the Paint tool under the Costumes tab) of a reasonable\n",
    "size.\n",
    "\n",
    "Your sprite should do the following:\n",
    "1. randomly walk forever starting from the center of the stage (stop the program\n",
    "with the red button)\n",
    "2. have a random step size and random direction\n",
    "3. drag the pen around to show its path, and gradually change the pen color as\n",
    "it goes\n",
    "4. play a random note at each step (values between 40 and 90 are good) for 0.1\n",
    "beats\n",
    "5. pause between steps by 0.1 seconds (in addition to playing the note for 0.1\n",
    "beats)\n",
    "6. make sure it bounces back if it hits the edge of the stage"
   ]
  },
  {
   "cell_type": "markdown",
   "metadata": {},
   "source": [
    "For this problem, you will submit:\n",
    "\n",
    "(a) a link to your final Random Walk program (copy the URL). Make sure you have\n",
    "saved your program to the cloud. Submit your URL by filling out this [Google Form](google.com).\n",
    "\n",
    "(b) a pdf named `<Firstname>_<Lastname>_Snap.pdf` that contains a screenshot of\n",
    "your final browser window. You can right click on the Scripts workspace and\n",
    "click `clean' and it will order your blocks neatly. If you need more room you can\n",
    "expand the workspace with the sliding bar."
   ]
  },
  {
   "cell_type": "markdown",
   "metadata": {},
   "source": [
    "A full Snap reference manual can be found [here](http://snap.berkeley.edu/SnapManual.pdf) but you shouldn't need it unless you\n",
    "try to get fancy. If you want more details see [this page](http://beautyjoy.github.io/bjc-r/cur/programming/intro/snap/welcome-to-snap2.html?topic=berkeley_bjc%2Fintro_pair%2F1-introduction.topic&course=cs10_fa15.html&noassignment&noreading&novideo)."
   ]
  },
  {
   "cell_type": "code",
   "execution_count": null,
   "metadata": {
    "collapsed": true
   },
   "outputs": [],
   "source": []
  }
 ],
 "metadata": {
  "anaconda-cloud": {},
  "kernelspec": {
   "display_name": "Python 2",
   "language": "python",
   "name": "python2"
  },
  "language_info": {
   "codemirror_mode": {
    "name": "ipython",
    "version": 2
   },
   "file_extension": ".py",
   "mimetype": "text/x-python",
   "name": "python",
   "nbconvert_exporter": "python",
   "pygments_lexer": "ipython2",
   "version": "2.7.14"
  }
 },
 "nbformat": 4,
 "nbformat_minor": 2
}
