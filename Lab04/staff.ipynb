{
 "cells": [
  {
   "cell_type": "markdown",
   "metadata": {
    "collapsed": true
   },
   "source": [
    "# E7: Introduction to Computer Programming for Scientists and Engineers"
   ]
  },
  {
   "cell_type": "markdown",
   "metadata": {},
   "source": [
    "## Lab Assignment 4"
   ]
  },
  {
   "cell_type": "markdown",
   "metadata": {},
   "source": [
    "For each question, you will have to fill in one or more Python functions. We provide an autograder with a number of test cases that you can use to test your function. Note that the fact that your function works for all test cases thus provided does necessarily guarantee\n",
    "that it will work for all possible test cases relevant to the question. It is your responsibility\n",
    "to test your function thoroughly, to ensure that it will also work in situations not covered\n",
    "by the test cases provided"
   ]
  },
  {
   "cell_type": "code",
   "execution_count": 1,
   "metadata": {
    "collapsed": true
   },
   "outputs": [],
   "source": [
    "# Please run this cell, and do not modify the contets\n",
    "import numpy as np\n",
    "import math\n",
    "np.seterr(all='ignore');\n",
    "# %run lab4_ag.py"
   ]
  },
  {
   "cell_type": "markdown",
   "metadata": {},
   "source": [
    "## Question 1: Interest\n",
    "\n",
    "The interest rate, $r$, on a principal, $P_0$, is a payment for allowing the bank to use\n",
    "an investor's money. Compound interest is accumulated according to the recursive\n",
    "formula $P_n = (1 + r)P_{n-1}$, where $P_n$ is the balance after n compounding periods (e.g.\n",
    "years), and $P_{n-1}$ is the balance after the previous period. The interest rate $r$ is given\n",
    "in decimal, e.g. 0.1, which is 10%. \n",
    "\n",
    "Write a recursive function `mySavingsPlan(P0, rate, goal)` with output `years`. `years` is the number of years it will require for an investor to reach the investment goal defined by `goal` while investing an original amount `P0` at the annual interest rate, and\n",
    "specified by the variable `rate`. For the purpose of this problem, consider the investment\n",
    "balance to change only once per year (i.e. the output years should be a whole number)."
   ]
  },
  {
   "cell_type": "code",
   "execution_count": 2,
   "metadata": {
    "collapsed": true
   },
   "outputs": [],
   "source": [
    "def mySavingsPlan(p0, rate, goal):\n",
    "    \"\"\"\n",
    "    >>> mySavingsPlan(2000, 0.15, 10000)\n",
    "    12\n",
    "    >>> mySavingsPlan(1000, 0.05, 10000)\n",
    "    48\n",
    "    \"\"\"\n",
    "    if p0 > goal:\n",
    "        years = 0\n",
    "    else:\n",
    "        years = 1 + mySavingsPlan(p0*(1+rate), rate, goal)\n",
    "    return years"
   ]
  },
  {
   "cell_type": "code",
   "execution_count": null,
   "metadata": {
    "collapsed": true
   },
   "outputs": [],
   "source": []
  },
  {
   "cell_type": "markdown",
   "metadata": {},
   "source": [
    "## Question 2: Searching\n",
    "\n",
    "Write a Python function `myMin(P)` with output `value, location`, where `P` is a class double (numeric) array. The output value is the minimum value in the array `P` and location is the index of the minimum value. Note that the minimum\n",
    "value could appear more than once. If this is the case, location should specify the\n",
    "indices of all occurrences of the minimum value. You may NOT use the built-in\n",
    "Python command `min` in your function."
   ]
  },
  {
   "cell_type": "code",
   "execution_count": 3,
   "metadata": {
    "collapsed": true
   },
   "outputs": [],
   "source": [
    "def myMin(P):\n",
    "    \"\"\"\n",
    "    >>> myMin([5,4,5,2,6,7,1,8,9])\n",
    "    (1, 6)\n",
    "    >>> myMin([2,3,5,7,2,4,3,2])\n",
    "    (2, [0, 4, 7])\n",
    "    >>> myMin([2,-3,5,-7,2,4,3,2])\n",
    "    (-7, 3)\n",
    "    >>> myMin([2,-3,5,7,2,4,-3,2])\n",
    "    (-3, [1, 6])\n",
    "\n",
    "    :param P: a float array\n",
    "    :return: (min value in P, index of min value(s))\n",
    "    \"\"\"\n",
    "    value = P[0]\n",
    "    location = 0\n",
    "    for i in range(1, len(P)):\n",
    "        if P[i] < value:\n",
    "            value = P[i]\n",
    "            location = i\n",
    "        elif P[i] == value:\n",
    "            if np.isscalar(location):\n",
    "                location = [location, i]\n",
    "            else:\n",
    "                location.append(i)\n",
    "\n",
    "    return value, location"
   ]
  },
  {
   "cell_type": "code",
   "execution_count": null,
   "metadata": {
    "collapsed": true
   },
   "outputs": [],
   "source": []
  },
  {
   "cell_type": "markdown",
   "metadata": {},
   "source": [
    "## Question 3: Rainfall Totals\n",
    "\n",
    "Design a function that computes the total rainfall at a location using daily rainfall\n",
    "measurements entered by a user. The list may contain the number -999 indicating\n",
    "the end of the data from a given period. There may be negative numbers other than\n",
    "-999 in the list which represent erroneous measurements which should be neglected.\n",
    "Produce the total and average of the non-negative values in the list up to the first -999\n",
    "(if there is a -999 value). \n",
    "\n",
    "Your function `myRainfall(rainData)` should return `rainTot, rainAvg`,\n",
    "where `rainData` is a double array of daily rainfall data, `rainTot` is the total rainfall\n",
    "in the period represented by either the entire array `rainData` or the period from the\n",
    "beginning until the first occurrence of -999. `rainAvg` is the average daily rainfall during\n",
    "this period (not counting days with neglected measurements)."
   ]
  },
  {
   "cell_type": "code",
   "execution_count": 4,
   "metadata": {
    "collapsed": true
   },
   "outputs": [],
   "source": [
    "def myRainfall(rainData):\n",
    "    \"\"\"\n",
    "    >>> myRainfall([2,4,-5,1,7,-2,8,-999,4,6,4])\n",
    "    (22, 4.4)\n",
    "    >>> myRainfall([2,4,-5,1,7,-2,8,0,4,6,4])\n",
    "    (36, 4.0)\n",
    "    >>> myRainfall([2,4,-999,1,7,-2,8,-999,4,6,4])\n",
    "    (6, 3.0)\n",
    "    >>> myRainfall([2.3,4.1,-5.4,1.0,7.1,-2,8.0,4.9,6,-999])\n",
    "    (33.4, 4.771428571428571)\n",
    "    >>> myRainfall([0,-999,-5,1,7,-2,8,-999,4,6,2])\n",
    "    (0, 0.0)\n",
    "\n",
    "    :param rainData: a float array, with positive values,\n",
    "                     negative values, or -999, a delimiter\n",
    "    :return: (total rainfall, average rainfall)\n",
    "    \"\"\"\n",
    "    rainTot = 0\n",
    "    count_days = 0\n",
    "\n",
    "    for n in range(len(rainData)):\n",
    "        if rainData[n] == -999:\n",
    "            break\n",
    "\n",
    "        elif rainData[n] >= 0:\n",
    "            rainTot += rainData[n]\n",
    "            count_days += 1\n",
    "\n",
    "    return rainTot, rainTot / float(count_days)"
   ]
  },
  {
   "cell_type": "code",
   "execution_count": null,
   "metadata": {
    "collapsed": true
   },
   "outputs": [],
   "source": []
  },
  {
   "cell_type": "markdown",
   "metadata": {},
   "source": [
    "## Question 4: Random Walk Vacuum Robot\n",
    "\n",
    "In this problem, we are going to study the displacement of a random walk vacuum\n",
    "cleaner robot that randomly wanders around a closed room.\n",
    "\n",
    "- The room is represented by a square grid $[0, L]$ ft x $[0, L]$ ft, so there are $(L+1)^2$ \"grid points,\" each of size 1 ft$^2$ in the room. Each grid point is represented by\n",
    "$(x, y)$ coordinates, where $x$ and $y$ are both integers.\n",
    "\n",
    "- The robot cleans the room by randomly moving from one grid point to another.\n",
    "Whenever the robot stops on a grid point, the area around that grid point is\n",
    "cleaned. The robot also cleans as it moves, meaning that if it moves from $(x, y) =\n",
    "(1, 1)$ to $(x, y) = (1; 3)$, then the points defined by $(x, y) = (1, 1)$, $(1, 2)$, and $(1, 3)$\n",
    "have now all been cleaned. The robot starts in the bottom left corner of the room\n",
    "$((x, y) = (0, 0))$.\n",
    "\n",
    "- The direction and length of each robot movement is determined by two random\n",
    "numbers, which are provided in the input argument `rmat`. The first movement is\n",
    "determined by the first row of rmat, the second movement is determined by the\n",
    "second row, and so on. The first number in each row determines the direction (see\n",
    "table below), and the second number in each row determines the length of each\n",
    "movement. If all rows of rmat have been used and the robot still has not cleaned\n",
    "the entire room, then the values of `rmat` are recycled, starting with the first row.\n",
    "For example, if the robot's current position is $(x, y) = (2; 3)$ and the next row in\n",
    "`rmat` is `1, 3`, then the robot's next position is $(x, y) = (2, 6)$ (if $L \\ge 6$).\n",
    "\n",
    "- If a step would cause the robot to hit a wall, then the robot should not take that\n",
    "step but instead go to the next row of rmat."
   ]
  },
  {
   "cell_type": "markdown",
   "metadata": {},
   "source": [
    "Write a function `RandomWalk(L, rmat)` that outputs `N, path`,\n",
    "where `L` determines the size of the room as described above and `rmat` is a $M$ x $2$\n",
    "matrix of random integers 1 through 4, which will tell the robot where to move.\n",
    "Your function will output `N`, the number of steps it takes for the robot to cover the\n",
    "entire room, as well as `path`, a $(N +1)$ x $2$ matrix where each row contains $(x, y)$\n",
    "coordinates of every step. The first row of path will be `0, 0`, and the second row\n",
    "will have the $(x, y)$ coordinates of the robot after the first step.\n",
    "\n",
    "| Number | Direction |\n",
    "|--------|-----------|\n",
    "| 1      | up (+y)   |\n",
    "| 2      | down (-y) |\n",
    "| 3      | right(+x) |\n",
    "| 4      | left (-x) |"
   ]
  },
  {
   "cell_type": "markdown",
   "metadata": {},
   "source": [
    "You can experiment with the command `np.random.randint` to see how to generate your own\n",
    "matrix of random values. For instance, `np.random.randint(1, 5, shape=(100, 2))` will give a 100 x\n",
    "2 matrix filled with randomly selected integers between 1 and 4. When testing\n",
    "your code, make sure that `rmat` is big enough that the robot doesn't get \"stuck\"\n",
    "in a repeating path that doesn't cover the entire room. The larger `L` you use, the\n",
    "more rows rmat should have. Reasonable values for `L` should range from about 5\n",
    "to 10, along with a few hundred rows in `rmat`.\n",
    "\n",
    "You may also wish to plot the path of the robot to confirm that it has covered\n",
    "all the squares in the room. You do not need to submit this plot."
   ]
  },
  {
   "cell_type": "code",
   "execution_count": 5,
   "metadata": {
    "collapsed": true
   },
   "outputs": [],
   "source": [
    "def RandomWalk(L, rmat):\n",
    "    \"\"\"\n",
    "    >>> rmat = [[4,1],[1,2],[3,2],[1,1],[4,1],[2,1],[2,2],[3,1],[1,1],[2,2]]\n",
    "    >>> RandomWalk(2,rmat)\n",
    "    (8, [[0, 0], [-1, 1], [1, 1], [0, 1], [0, 0], [1, 0], [1, 1], [1, -1], [0, -1]])\n",
    "\n",
    "    :param L: room is L x L\n",
    "    :param rmat: matrix of random integers that determine movement\n",
    "    :return: (number of steps, path)\n",
    "    \"\"\"\n",
    "    def all_one(mat):\n",
    "        length = len(mat[0])\n",
    "        for i in range(len(mat)):\n",
    "            for j in range(length):\n",
    "                if mat[i][j] != 1:\n",
    "                    return False\n",
    "        return True\n",
    "\n",
    "    def isWall(x, y, rmat, rmat_ind, L):\n",
    "        curr = rmat[rmat_ind][0]\n",
    "        dist = rmat[rmat_ind][1]\n",
    "        if curr == 1:\n",
    "            return (y + dist) > L\n",
    "        elif curr == 2:\n",
    "            return (y - dist) < 0\n",
    "        elif curr == 3:\n",
    "            return (x + dist) > L\n",
    "        elif curr == 4:\n",
    "            return (x - dist) < 0\n",
    "\n",
    "    room = np.zeros((L+1, L+1))\n",
    "    x, y = 0, 0\n",
    "    room[0][0] = 1\n",
    "    rmat_ind = 0\n",
    "    N = 0\n",
    "    path = [[0, 0]]\n",
    "\n",
    "    while(not all_one(room)):\n",
    "        if rmat_ind >= len(rmat):\n",
    "            rmat_ind = 0\n",
    "\n",
    "        while isWall(x, y, rmat, rmat_ind, L):\n",
    "            rmat_ind += 1\n",
    "            if rmat_ind >= len(rmat):\n",
    "                rmat_ind = 0\n",
    "\n",
    "        curr = rmat[rmat_ind][0]\n",
    "        dist = rmat[rmat_ind][1]\n",
    "\n",
    "        # print(room, curr, dist, x, y)\n",
    "\n",
    "        if curr == 1:\n",
    "            for i in range(y, y+dist):\n",
    "                room[i][x] = 1\n",
    "            y = y + dist\n",
    "        elif curr == 2:\n",
    "            for i in range(y-dist, y+1):\n",
    "                room[i][x] = 1\n",
    "            y =  y - dist\n",
    "        elif curr == 3:\n",
    "            for i in range(x, x+dist):\n",
    "                room[y][i] = 1\n",
    "            x = x + dist\n",
    "        elif curr == 4:\n",
    "            for i in range(x-dist, x+1):\n",
    "                room[y][i] = 1\n",
    "            x = x - dist\n",
    "\n",
    "        rmat_ind += 1\n",
    "        path.append([x - 1, y - 1])\n",
    "        N += 1\n",
    "\n",
    "    # print(room, curr, dist, x, y)\n",
    "    return N, path"
   ]
  },
  {
   "cell_type": "code",
   "execution_count": null,
   "metadata": {
    "collapsed": true
   },
   "outputs": [],
   "source": []
  },
  {
   "cell_type": "markdown",
   "metadata": {},
   "source": [
    "## Question 5: Fibonacci and Golden Ratio\n",
    "\n",
    "The Fibonacci Sequence can be defined by the recursive relationship $F_N = F{N-1}+F_{N-2}$,\n",
    "where the first two numbers of the sequence by convention are $F1 = 0$ and $F2 = 1$. The\n",
    "sequence is defined for any positive integer $N$. The Fibonacci sequence can also be\n",
    "written using an iterative relationship.\n",
    "\n",
    "(a) Using **recursion**, write a function `FibRec(N)` with output `F`,\n",
    "that returns the Nth number in the Fibonacci sequence, $F_N$. If the input `N` is not\n",
    "a positive integer (positive means that $N > 0$, and integer means the number has\n",
    "no fractional component), the output `F` should be the string \"N must be a positive integer\".\n",
    "If the class of the input `N` is not double, the output `F` should be the string:\n",
    "\"N must be of class double\""
   ]
  },
  {
   "cell_type": "code",
   "execution_count": 6,
   "metadata": {
    "collapsed": true
   },
   "outputs": [],
   "source": [
    "def fibrec(N):\n",
    "    \"\"\"\n",
    "    >>> fibrec(12)\n",
    "    89\n",
    "    >>> fibrec(-3)\n",
    "    'N must be a positive number'\n",
    "    >>> fibrec(23)\n",
    "    17711\n",
    "\n",
    "    :param N: Nth fib number\n",
    "    :return: value of that number\n",
    "    \"\"\"\n",
    "    if N < 1:\n",
    "        F = 'N must be a positive number'\n",
    "    elif N == 1:\n",
    "        F = 0\n",
    "    elif N == 2:\n",
    "        F = 1\n",
    "    else:\n",
    "        F = fibrec(N-1) + fibrec(N-2)\n",
    "    return F"
   ]
  },
  {
   "cell_type": "markdown",
   "metadata": {},
   "source": [
    "(b) Using a **for loop** (no recursion), write a function `FibIter(N)` that returns `F`, the Nth number in the Fibonacci sequence, $F_N$. If the input `N` is not\n",
    "a positive integer (see above), the output `F` should be the string \"N must be a positive integer\".\n",
    "If the class of the input `N` is not double, the output `F` should be the string:\n",
    "\"N must be of class double\""
   ]
  },
  {
   "cell_type": "code",
   "execution_count": 7,
   "metadata": {
    "collapsed": true
   },
   "outputs": [],
   "source": [
    "def fibiter(N):\n",
    "    \"\"\"\n",
    "    >>> fibiter(12)\n",
    "    89\n",
    "    >>> fibiter(-3)\n",
    "    'N must be a positive integer'\n",
    "    >>> fibiter(23)\n",
    "    17711\n",
    "\n",
    "    :param N: same as above\n",
    "    :return: the Nth fibbo number\n",
    "    \"\"\"\n",
    "    f1 = 0\n",
    "    f2 = 1\n",
    "    F = 0\n",
    "    if N < 1:\n",
    "        F = 'N must be a positive integer'\n",
    "    elif N == 1 or N == 2:\n",
    "        F = 1\n",
    "    else:\n",
    "        for n in range(3, N+1):\n",
    "            F = f1 + f2\n",
    "            f1 = f2\n",
    "            f2 = F\n",
    "    return F"
   ]
  },
  {
   "cell_type": "markdown",
   "metadata": {},
   "source": [
    "(c) Write a function to compute the ratio $r = \\frac{F_N}{F_{N-1}}$. Your function `FibRatio(N)` should return `r`,\n",
    "where `r` is the ratio defined above for the values of the Fibonacci Sequence defined\n",
    "by `N`. If `N` is a not an integer greater than or equal to 2, the output `r` should be the\n",
    "string \"N must be an integer greater than 1.\" Your function `FibRatio`\n",
    "should call one of the functions from earlier in this problem. Which one you use\n",
    "is up to you."
   ]
  },
  {
   "cell_type": "markdown",
   "metadata": {},
   "source": [
    "You do not have to submit any answer to the following questions to complete this\n",
    "assignment, but you should think about the answers to improve your understand-\n",
    "ing: How does the computational speed of the iterative and recursive functions\n",
    "compare? How does the speed of each one change for N = 5; 10; 50? Why do you\n",
    "think that is? Compute `FibRatio(N)` for N = 5, 10, 20, 50, and 100. What\n",
    "do you notice?"
   ]
  },
  {
   "cell_type": "code",
   "execution_count": 8,
   "metadata": {
    "collapsed": true
   },
   "outputs": [],
   "source": [
    "def fibratio(N):\n",
    "    \"\"\"\n",
    "    >>> fibratio(10)\n",
    "    1.619047619047619\n",
    "    >>> fibratio(1)\n",
    "    'N must be an integer greater than 1'\n",
    "    >>> fibratio(15)\n",
    "    1.6180257510729614\n",
    "\n",
    "    :param N: Nth fib number\n",
    "    :return: ratio of Nth/N-1th fib numbers\n",
    "    \"\"\"\n",
    "    if N < 2:\n",
    "        r = 'N must be an integer greater than 1'\n",
    "    else:\n",
    "        r = fibiter(N)/fibiter(N-1)\n",
    "    return r"
   ]
  },
  {
   "cell_type": "markdown",
   "metadata": {},
   "source": [
    "(d) Actually, $r = \\frac{F_N}{F_{N-1}}$ converges to a limit called the Golden Ratio whose exact value\n",
    "is $\\phi = (1 + \\sqrt{5}/2)$\n",
    "\n",
    "Write a function `FibApprox(e)` returning `N`, \n",
    "where N is the smallest integer such that $|\\phi - \\frac{F_N}{F_{N-1}}| \\le e$."
   ]
  },
  {
   "cell_type": "code",
   "execution_count": 9,
   "metadata": {
    "collapsed": true
   },
   "outputs": [],
   "source": [
    "def fibapprox(e):\n",
    "    \"\"\"\n",
    "    >>> fibapprox(1e-6)\n",
    "    18\n",
    "    >>> fibapprox(1e-8)\n",
    "    22\n",
    "    >>> fibapprox(1e-4)\n",
    "    13\n",
    "\n",
    "    :param e: margin of error (abs)\n",
    "    :return: smallest integer N such that fibratio converges to golden ratio\n",
    "    \"\"\"\n",
    "    phi = (1.+math.sqrt(5))/2\n",
    "    N = 2\n",
    "    while abs(phi - fibratio(N)) > e:\n",
    "        N += 1\n",
    "    return N"
   ]
  },
  {
   "cell_type": "markdown",
   "metadata": {},
   "source": [
    "## Question 6: Number guessing game\n",
    "\n",
    "This game begins with player one saying something like, \"I'm thinking of an integer between forty and sixty.\" Following a guess by player two, player one responds\n",
    "'higher', 'lower', or 'correct!' as might be the case. Supposing that `N` is the number\n",
    "of possible values (here, twenty-one, since we will consider inclusive intervals), then at\n",
    "most $\\lfloor \\log_2 \\rfloor + 1$ questions should be necessary to determine the number, since each\n",
    "question can halve the search space."
   ]
  },
  {
   "cell_type": "markdown",
   "metadata": {},
   "source": [
    "Suppose player one selects a number between 1 and 30 to be the \"secret number\". Since\n",
    "player one tells player two whether a guess is too low, too high, or correct, player two\n",
    "can start off by guessing in the middle, 15. If the secret number is less than 15, then\n",
    "because player two knows that 15 is too high, player two can eliminate all the numbers\n",
    "from 15 to 30 from further consideration. If the secret number is greater than 15, then\n",
    "player two can eliminate 1 through 15. Either way, player two can eliminate about\n",
    "half the numbers. On the next guess, player two again eliminates half of the remaining\n",
    "numbers, then keeps going, always eliminating half of the remaining numbers until the\n",
    "number is guessed. We call this halving approach a binary search algorithm, and no\n",
    "matter which number from 1 to 30 is the secret number, player two should be able to\n",
    "find the number in at most 5 guesses with this technique (for the range 1 to 30)."
   ]
  },
  {
   "cell_type": "markdown",
   "metadata": {},
   "source": [
    "The function `player1` simulates the actions of player one and has been made available\n",
    "to you to help you familiarize yourself with the game. The function has two input\n",
    "arguments, nmin and nmax which define the range of possible values. To play the game\n",
    "with the range described above, call the function with the command `player1(40, 60)`\n",
    "and enter your guesses when prompted. The only output argument of `player1` is\n",
    "`N_guess`, which is the number of guesses it took to guess the secret number."
   ]
  },
  {
   "cell_type": "markdown",
   "metadata": {},
   "source": [
    "Your job is to write a **recursive** function that simulates the actions of player two\n",
    "in this game. Since the function `player1` requires user interaction in order to run,\n",
    "two difierent functions, `player1initialize` and `player1response` have also been\n",
    "provided. Note that these functions have been encrypted so they cannot be read or\n",
    "edited, but they can be run just like a regular function."
   ]
  },
  {
   "cell_type": "markdown",
   "metadata": {},
   "source": [
    "The function `player1initialize(nmin, nmax)` returns `secret`where `nmin` and `nmax` define the range for the game (just like in `player1`). The output secret is a randomly\n",
    "selected secret number from within the specified range, stored in an encrypted form\n",
    "which can be read by `player1response`.\n",
    "\n",
    "The function `player1response(guess, secret)` returns `msg`. `guess` is a double representing the guess. The input argument `secret` is an encrypted secret number created\n",
    "by `player1initialize`. The output `msg` is a string with three potential values:\n",
    "'higher', 'lower', 'correct', which indicate the relationship between the secret\n",
    "number and the guessed number. Note that when `player1response` is called it will\n",
    "also print a message to the screen telling you if your guess is too high, low or correct,\n",
    "to help you keep track of what is going on; `msg` will only have the three possible values\n",
    "listed above.\n",
    "\n",
    "The function you write is `player2(nmin, nmax, N_guess, secret)`, with output `N_guess`.\n",
    "The inputs `nmin` and `nmax` are integers of class double which define the range of the\n",
    "game just like before. The input argument `N_guess` represents the number of guesses\n",
    "which have taken place. Hint: when you call the function from the command window,\n",
    "the input `N_guess` will always be 0 since no guesses have been used yet. Only when\n",
    "you make recursive calls will it be different. The input argument secret should be\n",
    "taken directly from the output of `player1initialize`. The output argument `N_guess`\n",
    "is the number of guesses which was required to guess the secret number.\n",
    "\n",
    "Note that the statements printed to the screen are a result of calls to `player1response`\n",
    "and do not need to be created by you in your `player2` function. Also note that because\n",
    "the secret number is selected randomly in `player1initialize`, your results won't\n",
    "exactly match the test cases."
   ]
  },
  {
   "cell_type": "code",
   "execution_count": 10,
   "metadata": {
    "collapsed": true
   },
   "outputs": [],
   "source": [
    "def player2(nmin, nmax, N_guess, secret):\n",
    "    \"\"\"\n",
    "    >>> player2(10, 20, 0, 19)\n",
    "    3\n",
    "\n",
    "    :param nmin: lowest possible value\n",
    "    :param nmax: highest possible value\n",
    "    :param N_guess: starting num of guesses\n",
    "    :param secret: secret number\n",
    "    :return: number of guesses\n",
    "    \"\"\"\n",
    "    def player1(guess, secret):\n",
    "        if guess < secret:\n",
    "            msg = 'higher'\n",
    "        elif guess > secret:\n",
    "            msg = 'lower'\n",
    "        else:\n",
    "            msg = 'correct'\n",
    "        return msg\n",
    "\n",
    "    N_guess += 1\n",
    "    guess = round((nmax + nmin)/2)\n",
    "\n",
    "    msg = player1(guess, secret)\n",
    "    if msg == 'higher':\n",
    "        N_guess = player2(guess, nmax, N_guess, secret)\n",
    "    elif msg == 'lower':\n",
    "        N_guess = player2(nmin, guess, N_guess, secret)\n",
    "\n",
    "    return N_guess"
   ]
  },
  {
   "cell_type": "code",
   "execution_count": null,
   "metadata": {
    "collapsed": true
   },
   "outputs": [],
   "source": []
  }
 ],
 "metadata": {
  "anaconda-cloud": {},
  "kernelspec": {
   "display_name": "Python [default]",
   "language": "python",
   "name": "python3"
  },
  "language_info": {
   "codemirror_mode": {
    "name": "ipython",
    "version": 3
   },
   "file_extension": ".py",
   "mimetype": "text/x-python",
   "name": "python",
   "nbconvert_exporter": "python",
   "pygments_lexer": "ipython3",
   "version": "3.5.3"
  }
 },
 "nbformat": 4,
 "nbformat_minor": 2
}
