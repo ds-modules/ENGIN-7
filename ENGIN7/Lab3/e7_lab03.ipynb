{
 "cells": [
  {
   "cell_type": "markdown",
   "metadata": {},
   "source": [
    "# E7: Introduction to Computer Programming for Scientists and Engineers"
   ]
  },
  {
   "cell_type": "markdown",
   "metadata": {},
   "source": [
    "### Lab Assignment 2: Branching"
   ]
  },
  {
   "cell_type": "code",
   "execution_count": 70,
   "metadata": {
    "collapsed": false
   },
   "outputs": [],
   "source": [
    "# Please run this cell, and do not modify the contets\n",
    "from math import *\n",
    "import numpy as np\n",
    "np.seterr(all='ignore');"
   ]
  },
  {
   "cell_type": "markdown",
   "metadata": {},
   "source": [
    "## 1. Coupons\n",
    "\n",
    "In this question, you will write a function that helps customers choose the shopping coupon\n",
    "that yields the best discount on a purchase of their choice. There are three coupons to choose\n",
    "from:\n",
    "\n",
    "1. The consumer can get a 10% discount on the value of the products that they are purchasing.\n",
    "\n",
    "2. If the original value of these products is `$`200 or more, then the consumer can get `$`25 off their purchase.\n",
    "\n",
    "3. If the original value of these products is `$`400 or more, then the consumer can get `$`50 off their purchase.\n",
    "\n",
    "Only one of these coupons can be used at a time."
   ]
  },
  {
   "cell_type": "markdown",
   "metadata": {},
   "source": [
    "Fill in the function below, which determines the best coupon to use given the total value of products that the consumer wishes to buy."
   ]
  },
  {
   "cell_type": "code",
   "execution_count": 15,
   "metadata": {
    "collapsed": false
   },
   "outputs": [],
   "source": [
    "def my_consumer_helper(value):\n",
    "    c1 = value * .1\n",
    "    c2 = 25 if (value >= 200) else 0\n",
    "    c3 = 50 if (value >= 400) else 0\n",
    "    best = max(c1,c2,c3)\n",
    "    print(\"best =\", best)\n",
    "    if best == c1:\n",
    "        return (\"1\", value * .9)\n",
    "    elif best == c2:\n",
    "        return (\"2\", value - 25)\n",
    "    else:\n",
    "        return (\"3\", value - 50)"
   ]
  },
  {
   "cell_type": "code",
   "execution_count": 17,
   "metadata": {
    "collapsed": false
   },
   "outputs": [
    {
     "name": "stdout",
     "output_type": "stream",
     "text": [
      "best = 6.0\n",
      "('1', 54.0)\n",
      "best = 25.0\n",
      "('1', 225.0)\n",
      "best = 50\n",
      "('3', 390)\n",
      "best = 55.0\n",
      "('1', 495.0)\n",
      "best = 100.0\n",
      "('1', 900.0)\n"
     ]
    }
   ],
   "source": [
    "# Test Cases\n",
    "print(my_consumer_helper(60))\n",
    "print(my_consumer_helper(250))\n",
    "print(my_consumer_helper(440))\n",
    "print(my_consumer_helper(550))\n",
    "print(my_consumer_helper(1000))"
   ]
  },
  {
   "cell_type": "code",
   "execution_count": null,
   "metadata": {
    "collapsed": true
   },
   "outputs": [],
   "source": []
  },
  {
   "cell_type": "code",
   "execution_count": null,
   "metadata": {
    "collapsed": true
   },
   "outputs": [],
   "source": []
  }
 ],
 "metadata": {
  "anaconda-cloud": {},
  "kernelspec": {
   "display_name": "Python [conda root]",
   "language": "python",
   "name": "conda-root-py"
  },
  "language_info": {
   "codemirror_mode": {
    "name": "ipython",
    "version": 3
   },
   "file_extension": ".py",
   "mimetype": "text/x-python",
   "name": "python",
   "nbconvert_exporter": "python",
   "pygments_lexer": "ipython3",
   "version": "3.5.2"
  }
 },
 "nbformat": 4,
 "nbformat_minor": 1
}
