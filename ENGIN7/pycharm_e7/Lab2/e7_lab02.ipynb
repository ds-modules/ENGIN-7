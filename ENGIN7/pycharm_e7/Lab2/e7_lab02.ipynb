{
 "cells": [
  {
   "cell_type": "markdown",
   "metadata": {},
   "source": [
    "# E7: Introduction to Computer Programming for Scientists and Engineers"
   ]
  },
  {
   "cell_type": "markdown",
   "metadata": {},
   "source": [
    "### Lab Assignment 2: Functions and Arrays"
   ]
  },
  {
   "cell_type": "markdown",
   "metadata": {},
   "source": [
    "For each question, you will have to fill in one or more Python functions. We provide an autograder with a number of test cases that you can use to test your function. Note that the fact that your function works for all test cases thus provided does necessarily guarantee\n",
    "that it will work for all possible test cases relevant to the question. It is your responsibility\n",
    "to test your function thoroughly, to ensure that it will also work in situations not covered\n",
    "by the test cases provided"
   ]
  },
  {
   "cell_type": "code",
   "execution_count": null,
   "metadata": {
    "collapsed": true
   },
   "outputs": [],
   "source": [
    "Throughout this notebook, we will guide you through solving Physics (kinematics) and 2D "
   ]
  },
  {
   "cell_type": "markdown",
   "metadata": {},
   "source": [
    "For this assignment, we will complete the functions below:\n",
    "1. my_sin_approx\n",
    "2. my_projectile\n",
    "3. my_collision\n",
    "4. my_projection\n",
    "5. array_metrics\n",
    "    1. my_array_metrics_num\n",
    "    2. my_array_metrics_lgcl\n",
    "6. my_polygon_perimeter"
   ]
  },
  {
   "cell_type": "code",
   "execution_count": 109,
   "metadata": {
    "collapsed": false
   },
   "outputs": [
    {
     "name": "stdout",
     "output_type": "stream",
     "text": [
      "loaded autograder!\n"
     ]
    }
   ],
   "source": [
    "# Please run this cell, and do not modify the contets\n",
    "from math import *\n",
    "import numpy as np\n",
    "np.seterr(all='ignore');\n",
    "%run lab2_ag.py"
   ]
  },
  {
   "cell_type": "markdown",
   "metadata": {},
   "source": [
    "## 1. Approximation of the Sine Function\n",
    "\n",
    "In `my_sin_approx(x)`, Calculate the following:\n",
    "\n",
    "**exact**: the \"exact\" value of `sin(x)` calculated by Python's built in math.sin function. Note that in this problem we describe this value as \"exact\" even though it may not be rigorously exact, as we will see later in the semester, when discussing binary representations of numbers.\n",
    "\n",
    "**approx**: the approxation of `sin(x)` calculated using the following Taylor Series approximation:\n",
    "\n",
    "$$sin(x) \\approx x - \\frac{x^3}{3!} + \\frac{x^5}{5!} - \\frac{x^7}{7!}$$\n",
    "\n",
    "**actual_error**: the error made on `sin(x)` when using the approxmaiton isntead of the exact value (i.e. `approx-exact`)\n",
    "\n",
    "**relative_error**: the relative error made on `sin(x)` when using the approximation instead of the exact value (i.e. `(approx-exact)/exact)`)"
   ]
  },
  {
   "cell_type": "markdown",
   "metadata": {},
   "source": [
    "Note that if exact is zero, then the calculation of `relative_error` involves a division by zero. Do not handle these cases any differently than the other cases. We will use numpy floats, which use the values Inf, -Inf, and NaN where appropriate.  <span style=\"color:red\">**TODO:** rewrite</span>"
   ]
  },
  {
   "cell_type": "code",
   "execution_count": 33,
   "metadata": {
    "collapsed": false
   },
   "outputs": [],
   "source": [
    "def my_sin_approx(x):\n",
    "    x = np.float64(x)\n",
    "    \n",
    "    exact = sin(x)\n",
    "    approx = x - (x**3)/factorial(3) + (x**5)/factorial(5) - (x**7)/factorial(7)\n",
    "    actual_error = approx - exact\n",
    "    relative_error = (actual_error/exact)\n",
    "    \n",
    "    return (exact, approx, actual_error, relative_error)"
   ]
  },
  {
   "cell_type": "code",
   "execution_count": 34,
   "metadata": {
    "collapsed": false,
    "scrolled": false
   },
   "outputs": [
    {
     "name": "stderr",
     "output_type": "stream",
     "text": [
      "."
     ]
    },
    {
     "name": "stdout",
     "output_type": "stream",
     "text": [
      "Question 1 Passed!\n"
     ]
    },
    {
     "name": "stderr",
     "output_type": "stream",
     "text": [
      "\n",
      "----------------------------------------------------------------------\n",
      "Ran 1 test in 0.002s\n",
      "\n",
      "OK\n"
     ]
    }
   ],
   "source": [
    "# Run Cell to test\n",
    "run_q1(my_sin_approx)"
   ]
  },
  {
   "cell_type": "markdown",
   "metadata": {},
   "source": [
    "## 2. Inelastic Collision"
   ]
  },
  {
   "cell_type": "markdown",
   "metadata": {
    "collapsed": true
   },
   "source": [
    "Consider the collision of two imperfect billiard balls of equal mass. They are considered imperfect because when one ball hits another, some amount of kinetic energy is lost in the rebound. A collision where some amount of kinetic energy is lost is categorized as \"inelastic\"."
   ]
  },
  {
   "cell_type": "markdown",
   "metadata": {},
   "source": [
    "The ball that billiard players must hit with the cue is called the cue ball. In this question,\n",
    "the cue ball is initially at rest. At time $t = 0$, a player hits the cue ball with the cue, thus\n",
    "imparting it with an initial velocity $\\vec{V}_{\\text{initial}}$. The cue ball then moves towards and eventually\n",
    "collides with another ball, which we call the eight ball. After the collision, the cue ball moves\n",
    "with velocity $\\vec{V}_{\\text{cue}}$ in a direction that forms an angle $\\theta_{\\text{cue}}$ with its original moving direction."
   ]
  },
  {
   "cell_type": "markdown",
   "metadata": {},
   "source": [
    "The eight ball then moves with velocity $\\vec{V}_{\\text{eight}}$ in a direction that makes an angle $\\theta_{\\text{eight}}$ with\n",
    "the original moving direction of the cue ball. Figure 1 illustrates the system before (left\n",
    "panel) and after (right panel) the collision. In this problem, the billiard balls are assumed\n",
    "to be point masses (i.e. they have a mass but their radius is zero)."
   ]
  },
  {
   "cell_type": "markdown",
   "metadata": {},
   "source": [
    "![](lab02_1.jpg)"
   ]
  },
  {
   "cell_type": "markdown",
   "metadata": {},
   "source": [
    "Figure 1: Inelastic collision of two billiard balls. The left panel illustrates the system before\n",
    "the collision. The right panel illustrates the system after the collision. The lengths of the\n",
    "arrows representing the velocities of the balls are not necessarily to scale."
   ]
  },
  {
   "cell_type": "markdown",
   "metadata": {},
   "source": [
    "Momentum is conserved throughout the collision, yielding the following two equations:\n",
    "\n",
    "$$\\begin{align} m\\vec{V}_{\\text{initial}} = m\\vec{V}_{\\text{cue}}\\cos{\\theta_{\\text{cue}}} + m\\vec{V}_{\\text{eight}}\\cos{\\theta_{\\text{eight}}} \\\\ \n",
    "0 = m\\vec{V}_{\\text{cue}}\\sin{\\theta_{\\text{cue}}} - m\\vec{V}_{\\text{eight}}\\sin{\\theta_{\\text{eight}}} \\end{align}$$"
   ]
  },
  {
   "cell_type": "markdown",
   "metadata": {},
   "source": [
    "which can be simplified to (since $m \\ne 0$):\n",
    "\n",
    "$$\\begin{align} \\vec{V}_{\\text{initial}} = \\vec{V}_{\\text{cue}}\\cos{\\theta_{\\text{cue}}} + \\vec{V}_{\\text{eight}}\\cos{\\theta_{\\text{eight}}} \\\\ \n",
    "0 = \\vec{V}_{\\text{cue}}\\sin{\\theta_{\\text{cue}}} - \\vec{V}_{\\text{eight}}\\sin{\\theta_{\\text{eight}}} \\end{align}$$"
   ]
  },
  {
   "cell_type": "markdown",
   "metadata": {},
   "source": [
    "The amount of kinetic energy lost during the collision, $e_{lost}$, is:"
   ]
  },
  {
   "cell_type": "markdown",
   "metadata": {},
   "source": [
    "$$e_{lost} = \\frac{m}{2}V^2_{\\text{initial}} - \\frac{m}{2}V^2_{\\text{cue}} - \\frac{m}{2}V^2_{\\text{eight}}$$"
   ]
  },
  {
   "cell_type": "markdown",
   "metadata": {},
   "source": [
    "Fill in the function `my_collision(m, v_initial, theta_cue, theta_eight)` below:"
   ]
  },
  {
   "cell_type": "code",
   "execution_count": 35,
   "metadata": {
    "collapsed": false
   },
   "outputs": [],
   "source": [
    "def my_collision(m, v_initial, theta_cue, theta_eight):\n",
    "    \n",
    "    theta1 = theta_cue * pi / 180\n",
    "    theta2 = theta_eight * pi / 180\n",
    "    \n",
    "    v_eight = (v_initial) / (cos(theta2) + (sin(theta2) / sin(theta1) * cos(theta1)))\n",
    "    v_cue = v_eight*sin(theta2)/sin(theta1)\n",
    "    e_lost = (m/2) * (v_initial**2 - v_cue**2 - v_eight**2)\n",
    "    \n",
    "    return (v_cue, v_eight, e_lost)"
   ]
  },
  {
   "cell_type": "code",
   "execution_count": 36,
   "metadata": {
    "collapsed": false
   },
   "outputs": [
    {
     "name": "stderr",
     "output_type": "stream",
     "text": [
      "."
     ]
    },
    {
     "name": "stdout",
     "output_type": "stream",
     "text": [
      "Question 2 Passed!\n"
     ]
    },
    {
     "name": "stderr",
     "output_type": "stream",
     "text": [
      "\n",
      "----------------------------------------------------------------------\n",
      "Ran 1 test in 0.002s\n",
      "\n",
      "OK\n"
     ]
    }
   ],
   "source": [
    "# Run Cell to test\n",
    "run_q2(my_collision)"
   ]
  },
  {
   "cell_type": "markdown",
   "metadata": {},
   "source": [
    "## 3. Kinematics of a Projectile"
   ]
  },
  {
   "cell_type": "markdown",
   "metadata": {},
   "source": [
    "In this question, we consider the motion of a projectile in air, as illustrated by Figure 2. The effects of the resistance of air on the projectile (drag) are neglected. Under this assumption, the only force acting on the projectile is the weight of the projectile. The motion of the projectile is two-dimensional. We use $x$ as the coordinate along the horizontal direction and\n",
    "$y$ as the coordinate along the vertical direction. We assume that the projectile is thrown at time $t = 0$ from the origin, i.e. the point of coordinates $(0, 0)$. We assume that the ground is horizontal and located at height $y = 0$."
   ]
  },
  {
   "cell_type": "markdown",
   "metadata": {},
   "source": [
    "![](lab02_2.png)"
   ]
  },
  {
   "cell_type": "markdown",
   "metadata": {},
   "source": [
    "Figure 2: Schematic of the motion of a projectile in air."
   ]
  },
  {
   "cell_type": "markdown",
   "metadata": {},
   "source": [
    "### Initial Velocity\n",
    "\n",
    "The projectile is thrown at time $t = 0$ with a velocity of magnitude $v_0$ and at an angle $\\theta$ with the ground. The horizontal and vertical components of the initial velocity vector, $v_{0x}$ and $v_{0y}$, respectively, are therefore:\n",
    "\n",
    "$$\\begin{align} v_{0x} &= v_0 \\cos(\\theta) \\\\ \n",
    "v_{0y} &= v_0 \\sin(\\theta) \\end{align}$$"
   ]
  },
  {
   "cell_type": "markdown",
   "metadata": {},
   "source": [
    "### Acceleration\n",
    "\n",
    "Newton's second law of motion indicates that the horizontal and vertical components of the acceleration vector, $a_x$ and $a_y$, respectively, are:\n",
    "\n",
    "$$\\begin{align} a_x = 0 \\\\ \n",
    "a_y = -g \\end{align}$$\n",
    "\n",
    "where $g$ is the acceleration of gravity. "
   ]
  },
  {
   "cell_type": "markdown",
   "metadata": {},
   "source": [
    "The horizontal component of the acceleration vector,\n",
    "$a_x$, is zero because no forces act in that direction. Acceleration along the vertical direction\n",
    "is entirely due to the action of gravity. Note that acceleration is constant throughout the flight of the projectile, and its magnitude $a$ is:\n",
    "\n",
    "$$\\begin{align} a &= \\sqrt{a^2_x + a^2_y} \\\\ \n",
    "&= \\left|g\\right| \\\\\n",
    "&= g \\end{align}$$"
   ]
  },
  {
   "cell_type": "markdown",
   "metadata": {},
   "source": [
    "### Velocity\n",
    "\n",
    "The horizontal and vertical components of the velocity vector at time $t$, $v_x(t)$ and $v_y(t)$,\n",
    "respectively, are:\n",
    "\n",
    "$$\\begin{align} v_x(t) = v_0 \\cos(\\theta) \\\\ \n",
    "v_y(t) = v_0 \\sin(\\theta) - gt \\end{align}$$"
   ]
  },
  {
   "cell_type": "markdown",
   "metadata": {},
   "source": [
    "The magnitude $v(t)$ of the velocity vector at time $t$ is:\n",
    "\n",
    "$$v(t) = \\sqrt{v^2_x(t) + v^2_y(t)}$$"
   ]
  },
  {
   "cell_type": "markdown",
   "metadata": {},
   "source": [
    "### Position\n",
    "\n",
    "The position of the projectile at time $t$ can be described by its $x$- and $y$-coordinates at time\n",
    "$t$, respectively:\n",
    "\n",
    "$$\\begin{align} x(t) = v_0 \\cos(\\theta)t \\\\ \n",
    "y(t) = v_0 \\sin(\\theta)t - \\frac{gt^2}{2} \\end{align}$$"
   ]
  },
  {
   "cell_type": "markdown",
   "metadata": {},
   "source": [
    "The distance $d(t)$ at time $t$ between the projectile and the origin is:\n",
    "\n",
    "$$d(t) = \\sqrt{x(t)^2 + _y(t)^2}$$"
   ]
  },
  {
   "cell_type": "markdown",
   "metadata": {},
   "source": [
    "### Time of flight\n",
    "\n",
    "The time during which the projectile is in motion in the air before hitting the ground is\n",
    "called the time of fight. When the projectile hits the ground, its position along the y-axis\n",
    "is $y = 0$. The time of fight $t_f$ is therefore the strictly positive solution of the equation\n",
    "$y(t_f) = 0$:\n",
    "\n",
    "$$\\begin{align} y(t_f) &= 0 \\\\ \n",
    "\\Longleftrightarrow v_0\\sin(\\theta)t_f - \\frac{gt^2_f}{2} &= 0 \\\\\n",
    "\\Longleftrightarrow t_f(v_0\\sin(\\theta) - \\frac{gt_f}{2} &= 0 \\end{align}$$"
   ]
  },
  {
   "cell_type": "markdown",
   "metadata": {},
   "source": [
    "The only non-zero solution to this equation, $i.e.$ the time of flight $t_f$, is:\n",
    "\n",
    "$$t_f = \\frac{2v_0\\sin(\\theta)}{g}$$"
   ]
  },
  {
   "cell_type": "markdown",
   "metadata": {},
   "source": [
    "### Maximum height\n",
    "\n",
    "The projectile reaches its maximum height above ground, $h$, at time $t_h$ given by $v_y(t_h) = 0$.\n",
    "Therefore:\n",
    "\n",
    "$$t_h = \\frac{v_0\\sin(\\theta}{g}$$\n",
    "\n",
    "and:\n",
    "\n",
    "$$\\begin{align} h &= y(t_h) \\\\ \n",
    "&= \\frac{v^2_0\\sin^2(\\theta)}{2g} \\end{align}$$"
   ]
  },
  {
   "cell_type": "markdown",
   "metadata": {},
   "source": [
    "Fill in the function `my_projectile(v0, theta, t)`"
   ]
  },
  {
   "cell_type": "code",
   "execution_count": 70,
   "metadata": {
    "collapsed": true
   },
   "outputs": [],
   "source": [
    "def my_projectile(v0, theta, t):\n",
    "    g = -9.81\n",
    "    \n",
    "    theta = theta*pi/180\n",
    "    v0x = v0*cos(theta)\n",
    "    v0y = v0*sin(theta)\n",
    "    ax = 0\n",
    "    a = sqrt(ax**2+g**2)\n",
    "    vx = v0*cos(theta)\n",
    "    vy = (v0*sin(theta))+g*t\n",
    "    v = sqrt(vx**2+vy**2)\n",
    "    x = v0*cos(theta)*t\n",
    "    y = v0*sin(theta)*t+(g*(t**2)/2)\n",
    "    d = sqrt(x**2+y**2)\n",
    "    tf = 2*v0*sin(theta)/g\n",
    "    h = ((v0*sin(theta))**2)/(2*(-g))\n",
    "    \n",
    "    return (v0x, v0y, ax, g, a, vx, vy, v, x, y, d, tf, h)"
   ]
  },
  {
   "cell_type": "code",
   "execution_count": 71,
   "metadata": {
    "collapsed": false
   },
   "outputs": [
    {
     "name": "stderr",
     "output_type": "stream",
     "text": [
      "."
     ]
    },
    {
     "name": "stdout",
     "output_type": "stream",
     "text": [
      "Question 3 Passed!\n"
     ]
    },
    {
     "name": "stderr",
     "output_type": "stream",
     "text": [
      "\n",
      "----------------------------------------------------------------------\n",
      "Ran 1 test in 0.003s\n",
      "\n",
      "OK\n"
     ]
    }
   ],
   "source": [
    "run_q3(my_projectile)"
   ]
  },
  {
   "cell_type": "markdown",
   "metadata": {},
   "source": [
    "### 4. Vector Projection\n",
    "\n",
    "Consider an integer $n \\ge 2$. $\\mathbb{R}^n$ is the set of vectors of the form $\\vec{x} = (x_1, x_2, \\dots, x_n)$ where\n",
    "all the components $x_i (i = 1, 2, \\dots n)$ of the vector are real numbers. The dot product $\\vec{x} \\cdot \\vec{y}$\n",
    "between two vectors $\\vec{x} = (x_1, x_2, \\dots, x_n)$ and $\\vec{y} = (y_1, y_2, \\dots, y_n)$ of $\\mathbb{R}^n$ is defined as:\n",
    "\n",
    "$$\\vec{x} \\cdot \\vec{y} = x_1y_1 + x_2y_2 + \\dots + x_ny_n$$"
   ]
  },
  {
   "cell_type": "markdown",
   "metadata": {},
   "source": [
    "The projection of vector $\\vec{y}$ onto a non-zero vector $\\vec{x}$ is the vector $\\vec{p} \\in \\mathbb{R}^n$ such that:\n",
    "\n",
    "$$\\vec{p} = \\frac{\\vec{x}\\cdot\\vec{y}}{\\vec{x}\\cdot\\vec{x}}\\vec{x}$$\n"
   ]
  },
  {
   "cell_type": "markdown",
   "metadata": {},
   "source": [
    "Fill in the function `my_projection(x, y)`\n",
    "\n",
    "where x, y, and p are a $1 \\times n$ row vectors that represent vectors of $\\mathbb{R}^n$ and\n",
    "such that $p$ is the projection of vector $y$ onto vector $x$. You can assume that each of these\n",
    "vectors contains at least two elements (i.e. $n \\ge 2$), and that at least one element of $x$ is\n",
    "non-zero."
   ]
  },
  {
   "cell_type": "code",
   "execution_count": 77,
   "metadata": {
    "collapsed": false
   },
   "outputs": [],
   "source": [
    "def my_projection(x, y):\n",
    "    \n",
    "    p = (np.dot(x,y) / np.dot(x,x) * x)\n",
    "\n",
    "    return p"
   ]
  },
  {
   "cell_type": "code",
   "execution_count": 78,
   "metadata": {
    "collapsed": false
   },
   "outputs": [
    {
     "name": "stderr",
     "output_type": "stream",
     "text": [
      "."
     ]
    },
    {
     "name": "stdout",
     "output_type": "stream",
     "text": [
      "Question 4 Passed!\n"
     ]
    },
    {
     "name": "stderr",
     "output_type": "stream",
     "text": [
      "\n",
      "----------------------------------------------------------------------\n",
      "Ran 1 test in 0.003s\n",
      "\n",
      "OK\n"
     ]
    }
   ],
   "source": [
    "# Test cases \n",
    "run_q4(my_projection)"
   ]
  },
  {
   "cell_type": "markdown",
   "metadata": {},
   "source": [
    "### 5. Array Metrics"
   ]
  },
  {
   "cell_type": "markdown",
   "metadata": {},
   "source": [
    "#### 5.1 Numerial Metrics\n",
    "\n",
    "Fill in the function `my_array_metrics_num(arr)` below, where:\n",
    "\n",
    "`arr` is an arbitrary $n \\times m$ array\n",
    "\n",
    "`n_positive, n_negative, n_zero, n_special` represent, respectively, the number of strictly positive, strictly negative, zero, and \"special\" values in `array`. Special values are `Nan, Inf`, and `-Inf`.\n",
    "\n",
    "Note that `Inf` is both positive and \"special\", and `-Inf` is both negative and \"special\"."
   ]
  },
  {
   "cell_type": "code",
   "execution_count": 86,
   "metadata": {
    "collapsed": false
   },
   "outputs": [],
   "source": [
    "def my_array_metrics_num(arr):\n",
    "    \n",
    "    n_positive = sum(sum(arr > 0))\n",
    "    \n",
    "    n_negative = sum(sum(arr < 0))\n",
    "    \n",
    "    n_zero = sum(sum(arr == 0))\n",
    "    \n",
    "    int1 = np.isnan(arr);\n",
    "    intNaN = sum(int1);\n",
    "    int2 = np.isinf(arr);\n",
    "    intinf = sum(int2);\n",
    "    n_special = sum(intNaN) + sum(intinf)\n",
    "    \n",
    "    return(n_positive, n_negative, n_zero, n_special)"
   ]
  },
  {
   "cell_type": "code",
   "execution_count": 87,
   "metadata": {
    "collapsed": false
   },
   "outputs": [
    {
     "name": "stderr",
     "output_type": "stream",
     "text": [
      "."
     ]
    },
    {
     "name": "stdout",
     "output_type": "stream",
     "text": [
      "(3, 1, 2, 0)\n",
      "(2, 2, 1, 2)\n",
      "Question 5.1 Passed!\n"
     ]
    },
    {
     "name": "stderr",
     "output_type": "stream",
     "text": [
      "\n",
      "----------------------------------------------------------------------\n",
      "Ran 1 test in 0.003s\n",
      "\n",
      "OK\n"
     ]
    }
   ],
   "source": [
    "# Testing\n",
    "run_q51(my_array_metrics_num)"
   ]
  },
  {
   "cell_type": "markdown",
   "metadata": {},
   "source": [
    "### Logical Metrics\n",
    "\n",
    "Fill in the function `my_array_metrics_lgcl(arr)` where:\n",
    "    \n",
    "`arr` is an arbitrary $n \\times m$ array.\n",
    "\n",
    "`positive` true if and only if `arr` contains at least one strictly positive value.\n",
    "\n",
    "`negative` is true if and only if `arr` contains at least one strictly negative value.\n",
    "\n",
    "`zero` is true if and only if array contains at least one zero value.\n",
    "\n",
    "`special` true if and only if array contains at least one \"special\" value. Special values are `NaN`, `Inf`, and `-Inf`.\n",
    "\n",
    "Note that `Inf` is both positive and \"special\", and `-Inf` is both negative and \"special\"."
   ]
  },
  {
   "cell_type": "code",
   "execution_count": 89,
   "metadata": {
    "collapsed": true
   },
   "outputs": [],
   "source": [
    "def my_array_metrics_lgcl(arr):\n",
    "    \n",
    "    positive = np.sum(arr > 0).any()\n",
    "    negative = np.sum(arr < 0).any()\n",
    "    zero = np.sum((arr == 0)).any()\n",
    "    special = np.sum(np.isinf(arr)).any() | np.sum(np.isnan(arr)).any()\n",
    "\n",
    "    return [positive, negative, zero, special]"
   ]
  },
  {
   "cell_type": "code",
   "execution_count": 91,
   "metadata": {
    "collapsed": false
   },
   "outputs": [
    {
     "name": "stderr",
     "output_type": "stream",
     "text": [
      "."
     ]
    },
    {
     "name": "stdout",
     "output_type": "stream",
     "text": [
      "Question 5.2 Passed!\n"
     ]
    },
    {
     "name": "stderr",
     "output_type": "stream",
     "text": [
      "\n",
      "----------------------------------------------------------------------\n",
      "Ran 1 test in 0.002s\n",
      "\n",
      "OK\n"
     ]
    }
   ],
   "source": [
    "# Testing\n",
    "run_q52(my_array_metrics_lgcl)"
   ]
  },
  {
   "cell_type": "markdown",
   "metadata": {},
   "source": [
    "## Perimeter of a Polygon\n",
    "\n",
    "Consider a polygon in the $(x, y)$-plane defined by $n$ vertices $V_1, V_2, \\dots, V_n$. Call $(x_i, y_i)$ the\n",
    "coordinates of vertex $V_i$. Figure 3 shows an example of an arbitrary polygon with $n = 6$ sides (i.e. a hexagon)."
   ]
  },
  {
   "cell_type": "markdown",
   "metadata": {},
   "source": [
    "![](lab02_3.png)"
   ]
  },
  {
   "cell_type": "markdown",
   "metadata": {},
   "source": [
    "Figure 3: Example of an arbitrary polygon with $n = 6$ sides (i.e. a hexagon). The 6 vertices\n",
    "of the hexagon are $V_1, V_2, \\dots, V_6$. The coordinates of vertex $V_i$ are $(x_i, y_i)$."
   ]
  },
  {
   "cell_type": "markdown",
   "metadata": {},
   "source": [
    "Fill in the function `my_polygon_perimeter(x,y)` where:\n",
    "    \n",
    "`x` is a $n \\times 1$ column vector that represents the $x$-coordinates of the vertices\n",
    "of the polygon (i.e. $x_1, x_2, \\dots, x_n$, in that order).\n",
    "\n",
    "`y` is a $n \\times 1$ column vector that represents the $y$-coordinates of the vertices\n",
    "of the polygon (i.e. $y_1,y_2, \\dots, y_n$ in that order).\n",
    "\n",
    "`perimeter` is a scalar that represents the perimeter of the polygon.\n",
    "\n",
    "You can assume that the vertices described by the inputs `x` and `y` correspond to a valid\n",
    "polygon whose sides do not intersect."
   ]
  },
  {
   "cell_type": "code",
   "execution_count": 113,
   "metadata": {
    "collapsed": false
   },
   "outputs": [],
   "source": [
    "def my_polygon_perimeter(x,y):\n",
    "    \n",
    "    len_x = len(x)\n",
    "    #len_y = len(y)\n",
    "    \n",
    "    if (len_x < 3):\n",
    "        perimeter = 0\n",
    "    else:\n",
    "        #i = np.linspace(1,len_x,1)\n",
    "        #h = np.linspace(2,len_x,1)\n",
    "        \n",
    "        lengthnorm = 0\n",
    "        for i in range(1, len_x):\n",
    "            lengthnorm += sqrt((x[i]-x[i-1])**2 + (y[i]-y[i-1])**2)\n",
    "        lengthextra = sqrt((x[0]-x[len_x-1])**2 + (y[0]-y[len_x-1])**2)\n",
    "        \n",
    "        perimeter = lengthnorm + lengthextra\n",
    "    return perimeter"
   ]
  },
  {
   "cell_type": "code",
   "execution_count": 114,
   "metadata": {
    "collapsed": false
   },
   "outputs": [
    {
     "name": "stderr",
     "output_type": "stream",
     "text": [
      "."
     ]
    },
    {
     "name": "stdout",
     "output_type": "stream",
     "text": [
      "Question 6 Passed!\n"
     ]
    },
    {
     "name": "stderr",
     "output_type": "stream",
     "text": [
      "\n",
      "----------------------------------------------------------------------\n",
      "Ran 1 test in 0.002s\n",
      "\n",
      "OK\n"
     ]
    }
   ],
   "source": [
    "# Testing\n",
    "run_q6(my_polygon_perimeter)"
   ]
  },
  {
   "cell_type": "code",
   "execution_count": null,
   "metadata": {
    "collapsed": true
   },
   "outputs": [],
   "source": []
  }
 ],
 "metadata": {
  "anaconda-cloud": {},
  "kernelspec": {
   "display_name": "Python 3",
   "language": "python",
   "name": "python3"
  },
  "language_info": {
   "codemirror_mode": {
    "name": "ipython",
    "version": 3
   },
   "file_extension": ".py",
   "mimetype": "text/x-python",
   "name": "python",
   "nbconvert_exporter": "python",
   "pygments_lexer": "ipython3",
   "version": "3.6.1"
  }
 },
 "nbformat": 4,
 "nbformat_minor": 0
}
