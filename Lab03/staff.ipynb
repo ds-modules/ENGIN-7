{
 "cells": [
  {
   "cell_type": "markdown",
   "metadata": {
    "collapsed": true
   },
   "source": [
    "# E7: Introduction to Computer Programming for Scientists and Engineers"
   ]
  },
  {
   "cell_type": "markdown",
   "metadata": {},
   "source": [
    "## Lab Assignment 3"
   ]
  },
  {
   "cell_type": "markdown",
   "metadata": {},
   "source": [
    "For each question, you will have to fill in one or more Python functions. We provide an autograder with a number of test cases that you can use to test your function. Note that the fact that your function works for all test cases thus provided does necessarily guarantee\n",
    "that it will work for all possible test cases relevant to the question. It is your responsibility\n",
    "to test your function thoroughly, to ensure that it will also work in situations not covered\n",
    "by the test cases provided"
   ]
  },
  {
   "cell_type": "code",
   "execution_count": 1,
   "metadata": {
    "collapsed": true
   },
   "outputs": [],
   "source": [
    "# Please run this cell, and do not modify the contets\n",
    "import numpy as np\n",
    "import math\n",
    "import scipy.io as sio\n",
    "np.seterr(all='ignore');\n",
    "# %run lab3_ag.py"
   ]
  },
  {
   "cell_type": "markdown",
   "metadata": {},
   "source": [
    "## Question 1: Array vs. Matrix Multiplication\n",
    "\n",
    "Write a \"smart\" function that multiplies two arrays together in the manner that makes\n",
    "the most sense for their given dimensions.\n",
    "\n",
    "This function should return the result of multiplying the two arrays together using\n",
    "matrix multiplication if their inner dimensions are the same (i.e. `m1` is an $M$ x $N$ matrix\n",
    "and `m2` is a $N$ x $P$ matrix). Alternatively, it should return the result of multiplying\n",
    "the two arrays together using element-wise multiplication if the arrays have the same\n",
    "dimensions in both directions (i.e. `m1` is an $M$ x $N$ matrix and `m2` is a $M$ x $N$ matrix).\n",
    "\n",
    "In the situation that either multiplication can be used, it should return the string\n",
    "multiplication ambiguous, and if neither multiplication can be used, it should return\n",
    "the string no valid multiplication. \n",
    "\n",
    "The function should consider multiplying `m1`\n",
    "by `m2`, and not consider the possibility of multiplying `m2` by `m1`. The function should\n",
    "also be able to handle the case when one or both inputs are scalar, and return the\n",
    "appropriate product."
   ]
  },
  {
   "cell_type": "code",
   "execution_count": 2,
   "metadata": {
    "collapsed": true
   },
   "outputs": [],
   "source": [
    "def mySmartMultiply(m1, m2):\n",
    "    \"\"\"\n",
    "    >>> mySmartMultiply(1,2)\n",
    "    2\n",
    "    >>> mySmartMultiply(np.array([[2,3,3],[4,5,5]]),np.array([[1,2],[3,4],[5,5]]))\n",
    "    array([[26, 31],\n",
    "           [44, 53]])\n",
    "    >>> mySmartMultiply(np.array([[2,3],[3,4],[5,5]]),np.array([[1,2],[3,4],[5,5]]))\n",
    "    array([[ 2,  6],\n",
    "           [ 9, 16],\n",
    "           [25, 25]])\n",
    "    >>> mySmartMultiply(np.array([[2,5],[8,3]]),np.array([[5,1],[3,2]]))\n",
    "    'multiplication ambiguous'\n",
    "    >>> mySmartMultiply(np.array([[2],[8]]),np.array([[5,1],[3,2]]))\n",
    "    'no valid multiplication'\n",
    "    \"\"\"\n",
    "    if np.isscalar(m1) or np.isscalar(m2):\n",
    "        return m1*m2\n",
    "\n",
    "    size_m1 = m1.shape\n",
    "    size_m2 = m2.shape\n",
    "    # print(size_m1,size_m2)\n",
    "    if size_m1[1] == size_m2[0]:\n",
    "        if np.array_equal(size_m1, size_m2):\n",
    "            result = 'multiplication ambiguous'\n",
    "        else:\n",
    "            result = np.dot(m1, m2)\n",
    "    else:\n",
    "        if np.array_equal(size_m1, size_m2):\n",
    "            result = m1*m2\n",
    "        else:\n",
    "            result = 'no valid multiplication'\n",
    "\n",
    "    return result"
   ]
  },
  {
   "cell_type": "code",
   "execution_count": null,
   "metadata": {
    "collapsed": true
   },
   "outputs": [],
   "source": []
  },
  {
   "cell_type": "markdown",
   "metadata": {},
   "source": [
    "## Question 2: Subcritical vs. Supercritical Open Channel Flow\n",
    "\n",
    "In the field of open channel hydraulics, \n",
    "ow in a channel or a river can be classified using\n",
    "a dimensionless number called the Froude number. The Froude number represents the\n",
    "speed of the flow relative to the speed that a wave travels across the water's surface,\n",
    "and can be calculated as:\n",
    "\n",
    "$$ Fr = \\frac{u}{\\sqrt{gh}} $$\n",
    "\n",
    "where $u$ is the \n",
    "fluid velocity, $g$ is the gravitational constant, and $h$ is the depth of\n",
    "the flow. The Froude number then determines when a \n",
    "flow is supercritical, critical, or\n",
    "subcritical using the following criteria:\n",
    "\n",
    "$$\\begin{align} \n",
    "Fr &> 1, && \\text{supercritical} \\\\\n",
    "Fr &= 1, && \\text{crtical} \\\\\n",
    "Fr &< 1, && \\text{subcritical}\n",
    "\\end{align}$$"
   ]
  },
  {
   "cell_type": "markdown",
   "metadata": {},
   "source": [
    "Write a function that classifies a given \n",
    "flow as supercritical, critical, or subcritical.\n",
    "\n",
    "`unitsys` is an input that describes the unit system that is being used for the calculation,\n",
    "either metric or imperial. Note that you should use a gravitational constant of\n",
    "\n",
    "$g = 9.81  \\text{m}/s^2$ for metric units\n",
    "\n",
    "$g = 32.2 \\text{ft}/s^2$ for imperial units\n",
    "\n",
    "Computer calculations often generate small errors when making calculations, called\n",
    "floating point errors. These errors occur because many fractions cannot be exactly\n",
    "represented in the computer's native binary format. We will discuss this more later in the\n",
    "course. To account for this, your function should only consider the first 3 decimal\n",
    "places when comparing the Froude number values."
   ]
  },
  {
   "cell_type": "code",
   "execution_count": 3,
   "metadata": {
    "collapsed": true
   },
   "outputs": [],
   "source": [
    "def classifyFlow(u, h, unitsys):\n",
    "    \"\"\"\n",
    "    >>> classifyFlow(5, .5, 'metric')\n",
    "    'supercritical'\n",
    "    >>> classifyFlow(1, 10, 'imperial')\n",
    "    'subcritical'\n",
    "    >>> classifyFlow(15.01, 7, 'imperial')\n",
    "    'critical'\n",
    "    \"\"\"\n",
    "\n",
    "    if unitsys == 'metric':\n",
    "        g = 9.81\n",
    "    else:\n",
    "        g = 32.2\n",
    "\n",
    "    froude = u/math.sqrt(g*h)\n",
    "    froude = round(froude, 3)\n",
    "    # print(froude)\n",
    "    if math.isclose(froude, 1.0):\n",
    "        return 'critical'\n",
    "    elif froude < 1.0:\n",
    "        return 'subcritical'\n",
    "    else:\n",
    "        return 'supercritical'"
   ]
  },
  {
   "cell_type": "code",
   "execution_count": null,
   "metadata": {
    "collapsed": true
   },
   "outputs": [],
   "source": []
  },
  {
   "cell_type": "markdown",
   "metadata": {},
   "source": [
    "## Question 3: Sprite Collisions\n",
    "\n",
    "You have seen how Snap! can be used to make animations and computer games. Here\n",
    "you will consider the programming decisions made for collisions between sprites using\n",
    "Python. Pretend you are programming an arcade style video game and have already\n",
    "written code that checks for collisions between sprites during every step of the game.\n",
    "Now, all that remains is for you to program a function that tells your script how to\n",
    "handle collisions between different types of sprite during the game."
   ]
  },
  {
   "cell_type": "markdown",
   "metadata": {},
   "source": [
    "The function will take in two inputs, `sprite1` and `sprite2`\n",
    "where both `sprite1` and `sprite2` could be any of 'laser', 'rocket', 'player',\n",
    "'fighter', or 'mothership'. \n",
    "\n",
    "The function should return a triple with elements\n",
    "that represent the points tallied, whether sprite1 should be destroyed, and whether\n",
    "sprite2 should be destroyed, in that order. Note that the points tallied are a result of\n",
    "the type of collision, and not assigned to either sprite. Whether or not a sprite should\n",
    "be destroyed should be represented as a double with one representing that the sprite\n",
    "should be destroyed and zero representing that a sprite should not be destroyed."
   ]
  },
  {
   "cell_type": "markdown",
   "metadata": {},
   "source": [
    "Your function should represent the following behavior:\n",
    "1. Lasers destroy rockets, players, and fighters but are destroyed when colliding with\n",
    "the mothership.\n",
    "2. Rockets destroy both sprites when colliding with other rockets, players, fighters,\n",
    "or the mothership.\n",
    "3. The player destroys both sprites when colliding with fighters or the mothership.\n",
    "4. No other collisions have any effect.\n",
    "5. Each fighter destroyed is worth 1 point.\n",
    "6. Destroying the mothership is worth 20 points.\n",
    "\n",
    "Note that your function should be able to handle collisions no matter what order the\n",
    "sprites are entered. i.e. Both `collision('player','fighter')` and\n",
    "`collision('fighter','player')` are valid functions calls that should be handled\n",
    "appropriately."
   ]
  },
  {
   "cell_type": "code",
   "execution_count": 4,
   "metadata": {
    "collapsed": true
   },
   "outputs": [],
   "source": [
    "def collisions(sprite1, sprite2):\n",
    "    \"\"\"\n",
    "    >>> collisions('rocket', 'player')\n",
    "    [0, 1, 1]\n",
    "    >>> collisions('fighter', 'laser')\n",
    "    [1, 1, 0]\n",
    "    >>> collisions('mothership', 'fighter')\n",
    "    [0, 0, 0]\n",
    "    >>> collisions('rocket', 'mothership')\n",
    "    [20, 1, 1]\n",
    "    >>> collisions('laser', 'rocket')\n",
    "    [0, 0, 1]\n",
    "    >>> collisions('player', 'fighter')\n",
    "    [1, 1, 1]\n",
    "    \"\"\"\n",
    "    result = [0,0,0]\n",
    "    laser = 0\n",
    "    rocket = 0\n",
    "    player = 0\n",
    "    fighter = 0\n",
    "    mothership = 0\n",
    "    if sprite1 == 'laser':\n",
    "        laser += 1\n",
    "    elif sprite1 == 'rocket':\n",
    "        rocket += 1\n",
    "    elif sprite1 == 'player':\n",
    "        player += 1\n",
    "    elif sprite1 == 'fighter':\n",
    "        fighter += 1\n",
    "    else:\n",
    "        mothership += 1\n",
    "\n",
    "    if sprite2 == 'laser':\n",
    "        laser += 1\n",
    "    elif sprite2 == 'rocket':\n",
    "        rocket += 1\n",
    "    elif sprite2 == 'player':\n",
    "        player += 1\n",
    "    elif sprite2 == 'fighter':\n",
    "        fighter += 1\n",
    "    else:\n",
    "        mothership += 1\n",
    "\n",
    "    if (laser == 1) and (rocket == 1 or player == 1 or fighter == 1):\n",
    "        if sprite1 == 'laser':\n",
    "            result[2] = 1\n",
    "        else:\n",
    "            result[1] = 1\n",
    "\n",
    "        if fighter == 1:\n",
    "            result[0] = 1\n",
    "\n",
    "    if (laser == 1) and (mothership == 1):\n",
    "        if sprite1 == 'laser':\n",
    "            result[1] = 1\n",
    "        else:\n",
    "            result[2] = 1\n",
    "\n",
    "    if (rocket == 2) or (rocket == 1 and (player == 1 or fighter == 1 or mothership == 1)):\n",
    "        result[1] = 1\n",
    "        result[2] = 1\n",
    "\n",
    "        if fighter == 1:\n",
    "            result[0] = 1\n",
    "        elif mothership == 1:\n",
    "            result[0] = 20\n",
    "\n",
    "    if player == 1 and (fighter == 1 or mothership == 1):\n",
    "        result[1] = 1\n",
    "        result[2] = 1\n",
    "\n",
    "        if fighter == 1:\n",
    "            result[0] = 1\n",
    "        elif mothership == 1:\n",
    "            result[0] = 20\n",
    "\n",
    "    return result"
   ]
  },
  {
   "cell_type": "code",
   "execution_count": null,
   "metadata": {
    "collapsed": true
   },
   "outputs": [],
   "source": []
  },
  {
   "cell_type": "markdown",
   "metadata": {},
   "source": [
    "## Question 4: To EV or not to EV.\n",
    "\n",
    "Part I: Consumer Vehicle Recommendations\n",
    "\n",
    "The transportation industry accounts for nearly one third of greenhouse gas (GHG)\n",
    "emissions in the United States. As the United States aims to curb its emissions, it will\n",
    "be crucial to wean the transportation industry off of oil. Electric vehicles will play an\n",
    "ever important role in the electrification of transportation. Consumers now need to\n",
    "make smart economic decisions on whether or not investing in the higher capital costs\n",
    "of an electric vehicle (EV) is financially viable as compared to fuel efficient hybrids or\n",
    "standard internal combustion engine (ICE) cars."
   ]
  },
  {
   "cell_type": "markdown",
   "metadata": {},
   "source": [
    "Your task is to develop a function that will recommend both a low-emitting and\n",
    "a cost-conscious vehicle to a consumer given their location (state), annual kilome-\n",
    "ters traveled, and annual budget (USD 2015). \n",
    "\n",
    "The function will take in the inputs: `consumerName, state, annualkmTraveled, annualBudget`\n",
    "\n",
    "Note that `consumerName` and `state` are of type char, while `annualkmTraveled` and\n",
    "`annualBudget` are of type double."
   ]
  },
  {
   "cell_type": "markdown",
   "metadata": {},
   "source": [
    "This function will return a dictionary of the following form:\n",
    "\n",
    "`EDU >> consumer =\n",
    "Name: 'Janet'\n",
    "State: 'CA'\n",
    "GHG Recommendation: [dictionary]\n",
    "Cost Recommendation: [dictionary]`\n",
    "\n",
    "`consumer.GHGRecommendation\n",
    "ans = Vehicle: 'BMW i3'\n",
    "Cost: 2560\n",
    "GHG: 1370000`\n",
    "\n",
    "`consumer.CostRecommendation\n",
    "ans = Vehicle: 'Chevrolet Spark'\n",
    "Cost: 1410\n",
    "GHG: 2661000`"
   ]
  },
  {
   "cell_type": "markdown",
   "metadata": {},
   "source": [
    "The function should be able to:\n",
    "\n",
    "(a) Manipulate the vehicle data (in the file EV_Comparison.mat) and perform calculations using the given inputs. Values for California (CA), Kansas (KS), and Florida\n",
    "(FL) are provided for each vehicle. \n",
    "\n",
    "Notice that due to the different gas prices,\n",
    "electricity prices, and electricity generation emissions in each state, the carbon\n",
    "footprint and normalized cost values vary significantly. \n",
    "\n",
    "For example, Kansas has\n",
    "more coal generation than the other states, which means that the electricity used\n",
    "to power the EVs generates more GHG emissions. For this reason, GHG emissions for EVs are significantly higher in Kansas than the other states. Emissions attributed to the manufacturing of the vehicle (life-cycle carbon footprint) are\n",
    "captured in the carbon footprint values. \n",
    "\n",
    "Also note that the normalized cost represents the net present value of purchasing, maintaining, running, and salvaging\n",
    "the vehicle spread over a lifetime of 12 years. The societal cost of carbon, an externality in economic terms, is also captured in the normalized cost. \n",
    "\n",
    "For a given consumer, use the following equations to calculate the annual GHG emissions and\n",
    "annual Cost of each vehicle based on the consumer's state.\n",
    "\n",
    "- Annual GHG Emissions ($\\frac{gCO_{2,e}}{year}$) = Total Life-Cycle Carbon Footprint ($\\frac{gCO_{2,e}}{km}$) x Annual km Traveled ($\\frac{km}{year}$)\n",
    "- Annual Cost ($\\frac{\\$}{year}$) = Normalized Cost ($\\frac{\\$}{km}$) x Annual km Traveled ($\\frac{km}{year}$)\n"
   ]
  },
  {
   "cell_type": "markdown",
   "metadata": {},
   "source": [
    "(b) Use branching statements (if-statements) to determine the GHG recommendation\n",
    "and the Cost recommendation for the consumer.\n",
    "\n",
    "- The GHG recommendation should be the vehicle with the lowest annual GHG emissions for the consumer based on the consumer's state and annual km traveled.\n",
    "\n",
    "- The Cost recommendation should be the vehicle whose annual cost is closest to the consumer's budget. NOTE: this is not necessarily the cheapest car for the consumer, but rather the car that is closest to the consumer's budget without exceeding it. \n",
    "\n",
    "For example, consider a consumer with an annual budget of \\$5,000 per year wanting to purchase a higher-end car within his or her budget. If two cars have an annual cost of \\$3,000 and \\$4,500 respectively, your function should recommend the \\$4,500 car since it is closest to the consumer's budget without exceeding it."
   ]
  },
  {
   "cell_type": "markdown",
   "metadata": {},
   "source": [
    "(c) Output a dictionary including the consumer's name, the GHG recommendation\n",
    "(including the vehicles make and model, the annual cost of the\n",
    "vehicle, and the annual GHG emissions), and the Cost recommendation (including\n",
    "the vehicle's make and model, the annual cost of the vehicle, and the annual GHG\n",
    "emissions). Make sure your dictionary key names match exactly the format of the\n",
    "example given above."
   ]
  },
  {
   "cell_type": "markdown",
   "metadata": {},
   "source": [
    "NOTE: This function needs the information in the file EV_Comparison.mat in order to\n",
    "work properly. You can use the load command inside the function to access this data.\n",
    "When your function is being graded, this file will be available in the same directory\n",
    "that your function is in, so do not include a path in the call to load. In other words,\n",
    "load('resources/EV_Comparison.mat') is okay, but load('C:/Users/Aditya/E7/Lab03/resources/EV_Comparison.mat') is NOT okay."
   ]
  },
  {
   "cell_type": "code",
   "execution_count": 5,
   "metadata": {
    "collapsed": true
   },
   "outputs": [],
   "source": [
    "def vehicleRecommendation(consumerName, state, annualkmTraveled, annualBudget):\n",
    "    \"\"\"\n",
    "    >>> vehicleRecommendation('Brad', 'CA', 10000, 2000)\n",
    "    {'Name': 'Brad', 'State': 'CA', 'GHG_Recommendation': {'Vehicle': 'BMW i3', 'Cost': 2560.0, 'GHG': 1370000.0}, 'Cost_Recommendation': {'Vehicle': 'Toyota Tacoma', 'Cost': 1990.0, 'GHG': 3765000.0}}\n",
    "    >>> vehicleRecommendation('Janet', 'KS', 15000, 6090)\n",
    "    {'Name': 'Janet', 'State': 'KS', 'GHG_Recommendation': {'Vehicle': 'BMW i3', 'Cost': 3870.0, 'GHG': 3105000.0}, 'Cost_Recommendation': {'Vehicle': 'Tesla Model S', 'Cost': 6090.0, 'GHG': 3490500.0}}\n",
    "    >>> vehicleRecommendation('Stacy', 'FL', 18000, 7500)\n",
    "    {'Name': 'Stacy', 'State': 'FL', 'GHG_Recommendation': {'Vehicle': 'BMW i3', 'Cost': 4626.0, 'GHG': 3087000.0}, 'Cost_Recommendation': {'Vehicle': 'Tesla Model S', 'Cost': 7290.0000000000009, 'GHG': 3394800.0}}\n",
    "    >>> vehicleRecommendation('Tina', 'CA', 20000, 5000)\n",
    "    {'Name': 'Tina', 'State': 'CA', 'GHG_Recommendation': {'Vehicle': 'BMW i3', 'Cost': 5120.0, 'GHG': 2740000.0}, 'Cost_Recommendation': {'Vehicle': 'Honda Accord Hybrid', 'Cost': 4340.0, 'GHG': 4328000.0}}\n",
    "    \"\"\"\n",
    "\n",
    "    mat_contents = sio.loadmat('resources/EV_Comparison.mat')\n",
    "    # print(mat_contents)\n",
    "\n",
    "    annual_GHG_emisions_ca = annualkmTraveled * np.ndarray.flatten(mat_contents['total_life_cycle_carbon_footprint_ca'])\n",
    "    annual_GHG_emisions_ks = annualkmTraveled * np.ndarray.flatten(mat_contents['total_life_cycle_carbon_footprint_ks'])\n",
    "    annual_GHG_emisions_fl = annualkmTraveled * np.ndarray.flatten(mat_contents['total_life_cycle_carbon_footprint_fl'])\n",
    "\n",
    "    annual_cost_ca = annualkmTraveled * np.ndarray.flatten(mat_contents['normalized_cost_ca'])\n",
    "    annual_cost_ks = annualkmTraveled * np.ndarray.flatten(mat_contents['normalized_cost_ks'])\n",
    "    annual_cost_fl = annualkmTraveled * np.ndarray.flatten(mat_contents['normalized_cost_fl'])\n",
    "\n",
    "    min_GHG_index_ca = np.argmin(annual_GHG_emisions_ca)\n",
    "    min_GHG_index_ks = np.argmin(annual_GHG_emisions_ks)\n",
    "    min_GHG_index_fl = np.argmin(annual_GHG_emisions_fl)\n",
    "\n",
    "    cost_difference_ca = annualBudget - annual_cost_ca\n",
    "    current_winner_ca = 1e6\n",
    "    cost_index_ca = -1\n",
    "\n",
    "    for i in range(0, len(cost_difference_ca)):\n",
    "        if cost_difference_ca[i] >= 0 and cost_difference_ca[i] < current_winner_ca:\n",
    "            current_winner_ca, cost_index_ca = cost_difference_ca[i], i\n",
    "\n",
    "    cost_difference_ks = annualBudget - annual_cost_ks\n",
    "    current_winner_ks = 1e6\n",
    "    cost_index_ks = -1\n",
    "\n",
    "    for i in range(0, len(cost_difference_ks)):\n",
    "        if cost_difference_ks[i] >= 0 and cost_difference_ks[i] < current_winner_ks:\n",
    "            current_winner_ks, cost_index_ks = cost_difference_ks[i], i\n",
    "\n",
    "\n",
    "    cost_difference_fl = annualBudget - annual_cost_fl\n",
    "    current_winner_fl = 1e6\n",
    "    cost_index_fl = -1\n",
    "\n",
    "    for i in range(0, len(cost_difference_fl)):\n",
    "        if cost_difference_fl[i] >= 0 and cost_difference_fl[i] < current_winner_fl:\n",
    "            current_winner_fl, cost_index_fl = cost_difference_fl[i], i\n",
    "\n",
    "    car_make = mat_contents['car_make']\n",
    "    car_model = mat_contents['car_model']\n",
    "\n",
    "    GHG_index, Cost_index, annual_cost, annual_emmisions = \\\n",
    "        {'CA': (min_GHG_index_ca, cost_index_ca, annual_cost_ca, annual_GHG_emisions_ca),\n",
    "         'KS': (min_GHG_index_ks, cost_index_ks, annual_cost_ks, annual_GHG_emisions_ks),\n",
    "         'FL': (min_GHG_index_fl, cost_index_fl, annual_cost_fl, annual_GHG_emisions_fl)}[state]\n",
    "\n",
    "    GHG_vehicle = car_make[GHG_index][0][0]\n",
    "    GHG_model = car_model[GHG_index][0][0]\n",
    "    Cost_vehicle = car_make[Cost_index][0][0]\n",
    "    Cost_model = car_model[Cost_index][0][0]\n",
    "\n",
    "    GHG = {'Vehicle': GHG_vehicle+' '+GHG_model, 'Cost': annual_cost[GHG_index], 'GHG': annual_emmisions[GHG_index]}\n",
    "    Cost = {'Vehicle': Cost_vehicle+' '+Cost_model, 'Cost': annual_cost[Cost_index], 'GHG': annual_emmisions[Cost_index]}\n",
    "\n",
    "    return {'Name': consumerName, 'State': state, 'GHG_Recommendation': GHG, 'Cost_Recommendation': Cost}"
   ]
  },
  {
   "cell_type": "code",
   "execution_count": null,
   "metadata": {
    "collapsed": true
   },
   "outputs": [],
   "source": []
  },
  {
   "cell_type": "markdown",
   "metadata": {},
   "source": [
    "Part II: Consumer Vehicle Comparisons\n",
    "\n",
    "You've written a function that can make both low-emitting and cost-conscious vehicle\n",
    "recommendations; however, consumers may want to have a single recommendation\n",
    "made for them.\n",
    "\n",
    "Write a function that takes as input consumerStruct (same structure format as in Part I) and\n",
    "return a string that states the cheaper of the two recommendations and the diverence in\n",
    "GHG emissions. The output string has the following format\n",
    "where italics indicate words or values that change depending on the recommendation:\n",
    "\n",
    "- The $Vehicle1$ costs \\$xx.xx per year less but emits $xx$ g CO2e per year more than the $Vehicle2$.\n",
    "\n",
    "\n",
    "If a vehicle is cheaper and has lower GHG emissions, return the string:\n",
    "- The $Vehicle1$ is the best option for $consumerName$ because it costs $\\$xx.xx$ per year less and emits $xx$ g CO2e per year less than the $Vehicle2$.\n",
    "\n",
    "For example:\n",
    "- 'The Toyota Sienna costs \\$1000.00 per year less but emits 100 g CO2e per year more than the Toyota Sequoia.'\n",
    "- 'The Toyota Prius is the best option for Joe Schmoe because it costs $100.00 per year less and emits 100 g CO2e per year less than the Toyota Sienna.'"
   ]
  },
  {
   "cell_type": "code",
   "execution_count": 6,
   "metadata": {
    "collapsed": true
   },
   "outputs": [],
   "source": [
    "def vehicleComparison(rec):\n",
    "    \"\"\"\n",
    "    >>> vehicleComparison(vehicleRecommendation('Brad', 'CA', 10000, 2000))\n",
    "    'The Toyota Tacoma costs $570.00 per year less but emits 2395000 g CO2e per year more than the BMW i3.'\n",
    "    >>> vehicleComparison(vehicleRecommendation('Janet', 'KS', 15000, 6090))\n",
    "    'The BMW i3 is the best option for Janet because it costs $2220.00 per year less and emits 385500 g CO2e per year less than the Tesla Model S.'\n",
    "    >>> vehicleComparison(vehicleRecommendation('Stacy', 'FL', 18000, 7500))\n",
    "    'The BMW i3 is the best option for Stacy because it costs $2664.00 per year less and emits 307800 g CO2e per year less than the Tesla Model S.'\n",
    "    >>> vehicleComparison(vehicleRecommendation('Tina', 'CA', 20000, 5000))\n",
    "    'The Honda Accord Hybrid costs $780.00 per year less but emits 1588000 g CO2e per year more than the BMW i3.'\n",
    "    \"\"\"\n",
    "    name = rec['Name']\n",
    "    GHG_cost = rec['GHG_Recommendation']['Cost']\n",
    "    GHG_GHG = rec['GHG_Recommendation']['GHG']\n",
    "    GHG_vehicle = rec['GHG_Recommendation']['Vehicle']\n",
    "\n",
    "    cost_cost = rec['Cost_Recommendation']['Cost']\n",
    "    cost_GHG = rec['Cost_Recommendation']['GHG']\n",
    "    cost_vehicle = rec['Cost_Recommendation']['Vehicle']\n",
    "\n",
    "    v1, cost, ghg, v2 = '', '', '', ''\n",
    "    switch = False\n",
    "\n",
    "    if GHG_cost < cost_cost and GHG_GHG < cost_GHG:\n",
    "        v1, cost, ghg, v2 = GHG_vehicle, cost_cost-GHG_cost, cost_GHG-GHG_GHG, cost_vehicle\n",
    "        switch = True\n",
    "    elif GHG_cost > cost_cost and GHG_GHG > cost_GHG:\n",
    "        v1, cost, ghg, v2 = cost_vehicle, -cost_cost + GHG_cost, -cost_GHG + GHG_GHG, GHG_vehicle\n",
    "        switch = True\n",
    "    elif GHG_cost < cost_cost:\n",
    "        v1, cost, ghg, v2 = GHG_vehicle, cost_cost - GHG_cost, -cost_GHG + GHG_GHG, cost_vehicle\n",
    "    else:\n",
    "        v1, cost, ghg, v2 = cost_vehicle, -cost_cost + GHG_cost, cost_GHG - GHG_GHG, GHG_vehicle\n",
    "\n",
    "    ghg = int(ghg)\n",
    "\n",
    "    if not switch:\n",
    "        string = \"The {} costs ${:.2f} per year less but emits {} g CO2e per year more than the {}.\"\\\n",
    "            .format(v1, cost, ghg, v2)\n",
    "    else:\n",
    "        string = \"The {} is the best option for {} because it costs ${:.2f} per year less and emits {} g CO2e per year \" \\\n",
    "             \"less than the {}.\".format(v1, name, cost, ghg, v2)\n",
    "\n",
    "    return string"
   ]
  },
  {
   "cell_type": "code",
   "execution_count": null,
   "metadata": {
    "collapsed": true
   },
   "outputs": [],
   "source": []
  },
  {
   "cell_type": "code",
   "execution_count": null,
   "metadata": {
    "collapsed": true
   },
   "outputs": [],
   "source": []
  }
 ],
 "metadata": {
  "anaconda-cloud": {},
  "kernelspec": {
   "display_name": "Python [default]",
   "language": "python",
   "name": "python3"
  },
  "language_info": {
   "codemirror_mode": {
    "name": "ipython",
    "version": 3
   },
   "file_extension": ".py",
   "mimetype": "text/x-python",
   "name": "python",
   "nbconvert_exporter": "python",
   "pygments_lexer": "ipython3",
   "version": "3.5.3"
  }
 },
 "nbformat": 4,
 "nbformat_minor": 2
}
