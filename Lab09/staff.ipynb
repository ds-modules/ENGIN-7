{
 "cells": [
  {
   "cell_type": "markdown",
   "metadata": {
    "collapsed": true
   },
   "source": [
    "# E7: Introduction to Computer Programming for Scientists and Engineers"
   ]
  },
  {
   "cell_type": "markdown",
   "metadata": {},
   "source": [
    "## Lab Assignment 9"
   ]
  },
  {
   "cell_type": "markdown",
   "metadata": {},
   "source": [
    "For each question, you will have to fill in one or more Python functions. We provide an autograder with a number of test cases that you can use to test your function. Note that the fact that your function works for all test cases thus provided does necessarily guarantee\n",
    "that it will work for all possible test cases relevant to the question. It is your responsibility\n",
    "to test your function thoroughly, to ensure that it will also work in situations not covered\n",
    "by the test cases provided"
   ]
  },
  {
   "cell_type": "code",
   "execution_count": 1,
   "metadata": {
    "collapsed": true
   },
   "outputs": [],
   "source": [
    "# Please run this cell, and do not modify the contets\n",
    "import math\n",
    "import numpy as np\n",
    "import matplotlib.pyplot as plt\n",
    "import cmath\n",
    "np.seterr(all='ignore');\n",
    "# %run lab2_ag.py"
   ]
  },
  {
   "cell_type": "markdown",
   "metadata": {},
   "source": [
    "## Question 1: Systems of Linear Equations\n",
    "\n",
    "Write a function `mySols(A,b)` which returns `x`,\n",
    "to solve the system $Ax = b$, where $A$ is a $m \\times n$ matrix, $x$ is a $n \\times 1$ vector, and $b$ is a\n",
    "$m \\times 1$ vector.\n",
    "- If there is no solution, `x` should be empty (defined as `[]`) and the function should\n",
    "display: `\"There is no solution\"`.\n",
    "- If there is one solution, `x` should contain this solution and the function should display:\n",
    "`\"There is one solution\"`.\n",
    "- If there is an infinite number of solutions, x should contain one of the solutions and\n",
    "the function should display: `\"There is an infinite number of solutions\"`. Note that the\n",
    "solution you show can be different than the one shown below in the test case."
   ]
  },
  {
   "cell_type": "code",
   "execution_count": 4,
   "metadata": {
    "collapsed": true
   },
   "outputs": [],
   "source": [
    "def mySols(A, b):\n",
    "    \"\"\"\n",
    "    >>> mySols(np.array([[1,2,3],[0,3,1],[1,14,7]]), np.array([[1],[2],[3]]))\n",
    "    There is no solution\n",
    "    []\n",
    "\n",
    "    >>> mySols(np.array([[1,2,3],[0,3,1],[-1,14,7]]), np.array([[1],[2],[3]]))\n",
    "    There is one solution\n",
    "    array([[ 3.        ],\n",
    "           [ 1.14285714],\n",
    "           [-1.42857143]])\n",
    "\n",
    "    >>> mySols(np.array([[1,2,3,4,5,6],[2,3,4,5,6,7],[3,4,5,6,7,8]]), np.array([[21],[27],[33]]))\n",
    "    There is an infinite number of solutions\n",
    "    array([[ 1.],\n",
    "           [ 1.],\n",
    "           [ 1.],\n",
    "           [ 1.],\n",
    "           [ 1.],\n",
    "           [ 1.]])\n",
    "\n",
    "    \"\"\"\n",
    "    rank_ab = np.linalg.matrix_rank(np.concatenate((A, b), axis=1))\n",
    "    rank_a = np.linalg.matrix_rank(A)\n",
    "    if rank_ab > rank_a:\n",
    "        print(\"There is no solution\")\n",
    "        return []\n",
    "    elif rank_ab == rank_a and rank_a != A.shape[1]:\n",
    "        print(\"There is an infinite number of solutions\")\n",
    "        return np.dot(np.linalg.pinv(A), b)\n",
    "    else:\n",
    "        print(\"There is one solution\")\n",
    "        return np.linalg.solve(A,b)"
   ]
  },
  {
   "cell_type": "code",
   "execution_count": null,
   "metadata": {
    "collapsed": true
   },
   "outputs": [],
   "source": []
  },
  {
   "cell_type": "markdown",
   "metadata": {},
   "source": [
    "## Question 2: Polynomial derivatives\n",
    "\n",
    "Let $f(x) = a_0 +a_1x+a_2x^2 +a_3x^3$ be an arbitrary 3rd degree polynomial. If you think about\n",
    "it, the coefficients completely determine this polynomial, and so we can package all relevant\n",
    "information about $f(x)$ in a convenient column vector form $f = [a_0, a_1, a_2, a_3]^T$ . Why might\n",
    "this be convenient? Well, we can represent common operations like differentiation with a\n",
    "simple matrix multiplication, as you'll have a chance to show below."
   ]
  },
  {
   "cell_type": "markdown",
   "metadata": {},
   "source": [
    "### 2.1\n",
    "\n",
    "Write a Python function `cubicPolyDiff(f)` which returns the tuple `(cubicDf, cubicD)`\n",
    "which differentiates an arbitrary $3^{rd}$ degree polynomial $f(x) = a_0 +a_1x+a_2x^2 +a_3x^3$,\n",
    "as represented by the input argument `f = [[a0], [a1], [a2], [a3]]`. The output `cubicDf`\n",
    "should also be a length 4 column vector, and should be the coefficient vector of the\n",
    "polynomial $f'(x)$. The output `cubicD` should be the differentiation matrix, such that\n",
    "`isequal(cubicD*f, cubicDf)` evaluates to `true`."
   ]
  },
  {
   "cell_type": "code",
   "execution_count": 5,
   "metadata": {
    "collapsed": true
   },
   "outputs": [],
   "source": [
    "def cubicPolyDiff(f):\n",
    "    n = len(f)\n",
    "    D = np.concatenate((np.zeros((3, 1)), np.diag([x for x in range(1,4)])), axis=1)\n",
    "    D = np.concatenate((D, np.zeros((1, 4))), axis=0)\n",
    "    Df = np.dot(D,f)\n",
    "    return Df, D"
   ]
  },
  {
   "cell_type": "code",
   "execution_count": 6,
   "metadata": {},
   "outputs": [
    {
     "name": "stdout",
     "output_type": "stream",
     "text": [
      "(array([[  2.],\n",
      "       [  6.],\n",
      "       [ 12.],\n",
      "       [  0.]]), array([[ 0.,  1.,  0.,  0.],\n",
      "       [ 0.,  0.,  2.,  0.],\n",
      "       [ 0.,  0.,  0.,  3.],\n",
      "       [ 0.,  0.,  0.,  0.]]))\n"
     ]
    },
    {
     "data": {
      "text/plain": [
       "(array([[  4.],\n",
       "        [ 42.],\n",
       "        [  0.],\n",
       "        [  0.]]), array([[ 0.,  1.,  0.,  0.],\n",
       "        [ 0.,  0.,  2.,  0.],\n",
       "        [ 0.,  0.,  0.,  3.],\n",
       "        [ 0.,  0.,  0.,  0.]]))"
      ]
     },
     "execution_count": 6,
     "metadata": {},
     "output_type": "execute_result"
    }
   ],
   "source": [
    "print(cubicPolyDiff([[1],[2],[3],[4]]))\n",
    "cubicPolyDiff([[4],[4],[21],[0]])"
   ]
  },
  {
   "cell_type": "markdown",
   "metadata": {},
   "source": [
    "### 2.2\n",
    "\n",
    "Write a Python function `polyDiff(f)` which returns the tuple `(Df, D)`\n",
    "which differentiates an arbitrary $n^{th}$ degree polynomial $f(x) = a_0 +a_1x+a_2x^2+\\dots+a_nx^n$,\n",
    "as represented by the input argument `f = [[a_0], [a_1], [a_2], ..., [an]]` (the length of\n",
    "`f` will be $n + 1$). The output `Df`\n",
    "should also be a length $n+1$ column vector, and should be the coefficient vector of the\n",
    "polynomial $f'(x)$. The output `D` should be the differentiation matrix, such that\n",
    "`isequal(D*f, Df)` evaluates to `true`."
   ]
  },
  {
   "cell_type": "code",
   "execution_count": 28,
   "metadata": {
    "collapsed": true
   },
   "outputs": [],
   "source": [
    "def polyDiff(f):\n",
    "    n = len(f)\n",
    "    D = np.concatenate((np.zeros((n-1, 1)), np.diag([x for x in range(1,n)])), axis=1)\n",
    "    D = np.concatenate((D, np.zeros((1, n))), axis=0)\n",
    "    Df = np.dot(D,f).T\n",
    "    return Df, D"
   ]
  },
  {
   "cell_type": "code",
   "execution_count": 29,
   "metadata": {},
   "outputs": [
    {
     "data": {
      "text/plain": [
       "(array([  6.,   6.,   0.,  36.,  20.,   0.]),\n",
       " array([[ 0.,  1.,  0.,  0.,  0.,  0.],\n",
       "        [ 0.,  0.,  2.,  0.,  0.,  0.],\n",
       "        [ 0.,  0.,  0.,  3.,  0.,  0.],\n",
       "        [ 0.,  0.,  0.,  0.,  4.,  0.],\n",
       "        [ 0.,  0.,  0.,  0.,  0.,  5.],\n",
       "        [ 0.,  0.,  0.,  0.,  0.,  0.]]))"
      ]
     },
     "execution_count": 29,
     "metadata": {},
     "output_type": "execute_result"
    }
   ],
   "source": [
    "polyDiff(np.array([0,6,3,0,9,4]).T)"
   ]
  },
  {
   "cell_type": "markdown",
   "metadata": {},
   "source": [
    "### 2.3\n",
    "\n",
    "Write a Python function `polyDiffm(f, m)` which returns the tuple `(Dmf, Dm)`\n",
    "which finds the $m^{th}$ derivative of the arbitrary $n^{th}$ degree polynomial $f(x) = a_0 +a_1x+a_2x^2+\\dots+a_nx^n$, as represented by its coefficient vector, `f = [[a_0], [a_1], [a_2], ..., [an]]`\n",
    "(the length of\n",
    "`f` will be $n + 1$). The output, `Dmf` should also be a length $n + 1$, and\n",
    "should be the coefficient vector of the polynomial $f^m(x)$. The output, `Dm` should be\n",
    "the $m^{th}$ derivative matrix, such that `isequal(Dm*f, Dmf)` evaluates to `true`. \n",
    "\n",
    "[Hint: use your function `polyDiff` to solve this problem]."
   ]
  },
  {
   "cell_type": "code",
   "execution_count": 81,
   "metadata": {
    "collapsed": true
   },
   "outputs": [],
   "source": [
    "def polyDiffm(f, m):\n",
    "    D = polyDiff(f)[1]\n",
    "    Dm = np.linalg.matrix_power(D,m)\n",
    "    Dfm = np.dot(Dm,f)\n",
    "    return Dfm, Dm"
   ]
  },
  {
   "cell_type": "code",
   "execution_count": 84,
   "metadata": {},
   "outputs": [
    {
     "data": {
      "text/plain": [
       "(array([   6.,    0.,  108.,   80.,    0.,    0.]),\n",
       " array([[  0.,   0.,   2.,   0.,   0.,   0.],\n",
       "        [  0.,   0.,   0.,   6.,   0.,   0.],\n",
       "        [  0.,   0.,   0.,   0.,  12.,   0.],\n",
       "        [  0.,   0.,   0.,   0.,   0.,  20.],\n",
       "        [  0.,   0.,   0.,   0.,   0.,   0.],\n",
       "        [  0.,   0.,   0.,   0.,   0.,   0.]]))"
      ]
     },
     "execution_count": 84,
     "metadata": {},
     "output_type": "execute_result"
    }
   ],
   "source": [
    "polyDiffm(np.array([0,6,3,0,9,4]).T, 2)"
   ]
  },
  {
   "cell_type": "markdown",
   "metadata": {},
   "source": [
    "## Question 3: Regression and model selection\n",
    "\n",
    "In engineering, model selection is the task of selecting a model among a set of candidate\n",
    "models, given a data set. This is really useful for linking a series of observations to a\n",
    "mathematical model predicting these observations."
   ]
  },
  {
   "cell_type": "markdown",
   "metadata": {},
   "source": [
    "### 3.1: Linear law\n",
    "\n",
    "First, we will consider observations derived from a linear model:\n",
    "\n",
    "$$y = ax$$\n",
    "\n",
    "Where $x$ and $y$ are some observable input and output, respectively, and $a$ is a coefficient to\n",
    "be determined from the observations. "
   ]
  },
  {
   "cell_type": "markdown",
   "metadata": {},
   "source": [
    "Write a function with header\n",
    "function `myLinearRegression(x,y)` returning the tuple `(a, RMSE)`\n",
    "that performs linear regression with inputs `x` and `y`, each of which is a column vector of\n",
    "class double. The output `a` is a scalar double which represents the best estimate for the\n",
    "coefficient `a` in Equation 1. `RMSE` is a scalar double which represents the root mean square\n",
    "error (RMSE), which is a measure of how good the fit is (the lower the RMSE, the better)\n",
    "and is calculated as follows:\n",
    "\n",
    "$$RMSE = \\sqrt{\\frac{1}{m} \\sum_{i=1}^m (\\hat{y}_i - y_i)^2}$$\n",
    "\n",
    "where $m$ is the number of points in the data set, and $\\hat{y}_i$ is the estimation of $y_i$ (in this case,\n",
    "$ax_i$). To visualize the performance of your function, you can plot the data points and the\n",
    "estimation results your function outputs (see image below).\n",
    "\n",
    "You will test out your function with data related to Ohm's law, which is an example of\n",
    "such a linear law: $V = IR$, where $V$ is the voltage (in volts), $R$ the resistance (in ohms)\n",
    "and $I$ the current (in amperes). Using measurements of $I$ and $V$ contained in the `Ohm.mat`\n",
    "file, your function will find the conductance $G$ (the inverse of the resistance) using the data\n",
    "from this example electrical circuit. Your function should work on any set of data in the\n",
    "appropriate format."
   ]
  },
  {
   "cell_type": "code",
   "execution_count": 8,
   "metadata": {
    "collapsed": true
   },
   "outputs": [],
   "source": [
    "def myLinearRegression(x, y):\n",
    "    #print(x,y)\n",
    "    a = np.linalg.lstsq(x, y)\n",
    "    #print(a)\n",
    "    m = len(y)\n",
    "    yhat = a*x\n",
    "    #print(yhat[0])\n",
    "    tmp = (yhat-y)**2\n",
    "    print(tmp)\n",
    "    print(tmp[0][3])\n",
    "    RMSE = math.sqrt((1/m)*np.sum(tmp))\n",
    "    return yhat, RMSE"
   ]
  },
  {
   "cell_type": "code",
   "execution_count": 9,
   "metadata": {},
   "outputs": [
    {
     "name": "stdout",
     "output_type": "stream",
     "text": [
      "[[array([[ 0.85207101]]) array([ 0.21301775]) 0 array([ 27.1555898])]\n",
      " [array([[ 0.37869822]]) array([ 1.71005917]) 4 array([ 33.83346174])]]\n",
      "[ 27.1555898]\n"
     ]
    },
    {
     "data": {
      "text/plain": [
       "(array([[array([[ 2.92307692]]), array([ 2.46153846]), 2,\n",
       "         array([ 7.21110255])],\n",
       "        [array([[ 4.38461538]]), array([ 3.69230769]), 3,\n",
       "         array([ 10.81665383])]], dtype=object), 5.837075367262897)"
      ]
     },
     "execution_count": 9,
     "metadata": {},
     "output_type": "execute_result"
    }
   ],
   "source": [
    "myLinearRegression(np.array([[2], [3]]), np.array([[2], [5]]))"
   ]
  },
  {
   "cell_type": "markdown",
   "metadata": {},
   "source": [
    "### 3.2 General Model\n",
    "\n",
    "In this problem, we will consider observations to be derived from a general model:\n",
    "\n",
    "$$y = af_1(x) + bf_2(x) + c$$\n",
    "\n",
    "where the possible models are one of three options:\n",
    "1. $f_1(x) = sin(x), f_2(x) = cos(x)$\n",
    "2. $f_1(x) = x^2, f_2(x) = x$\n",
    "3. $f_1(x) = \\exp(x), f_2(x) = 0$"
   ]
  },
  {
   "cell_type": "markdown",
   "metadata": {},
   "source": [
    "Write a function `myBestRegression(x,y)` which returns the tuple `(a, b, c, modelNum)`\n",
    "where inputs `x` and `y` are column vectors of class double of observed data pairs. Your function should estimate `a`, `b`, and `c` from the general model equation for all three models listed above. Your\n",
    "function should also compute RMSE for the best fit from each of the three models. Finally,\n",
    "your function should select the best model (the one with the lowest RMSE), and return\n",
    "the three coefficients for that model, as well as identifying the best model with the output\n",
    "`modelNum`. `modelNum` is a scalar double with a value of 1, 2, or 3 corresponding to the best model from the list above. Note that for model 3, there is no coefficient $b$. If model 3 is the\n",
    "best model, the output `b` should be a scalar double whose value is zero.\n",
    "\n",
    "<img src=\"resources/E7_Lab9_1.jpg\" style=\"width: 500px;\"/>\n",
    "<center>*Figure 1: Ohm's law and linear regression*</center>"
   ]
  },
  {
   "cell_type": "markdown",
   "metadata": {},
   "source": [
    "Your function should work for any dataset involving two column vectors (`x` and `y`). Two\n",
    "example datasets can be found in the files `Projectile.mat` and `Pendulum.mat` found on\n",
    "bCourses.\n",
    "\n",
    "`Projectile.mat` contains observations of the position $(y)$ of a projectile along with the\n",
    "time of each observation $(t)$. We know projectile motion is governed by the equation $y(t) = -\\frac{1}{2}gt^2 +v_0t+y_0$, and hence your function should be able to determine that model 2 is best,\n",
    "and provide estimates of $-\\frac{g}{2}$, $v_0$, and $y_0$ (outputs `a`, `b`, `c`).\n",
    "2 , v0, and y0 (outputs a, b, and c). Note that notation $y = f(x)$\n",
    "is used to describe the general relationship between model inputs and outputs, even though\n",
    "the variables can have different names (in this example we have $y = f(t)$).\n",
    "\n",
    "`Pendulum.mat` contains observations of the angle of a pendulum as observed at different\n",
    "points in time ($\\theta = f(t)$). We know pendulum motion is governed by the equation $\\theta(t) = a \\sin(t) + b \\sin(t) + \\theta_0$, and hence your function should be able to determine that model\n",
    "number 1 is best, as well as provide estimates for $a$, $b$, and $\\theta_0$.\n",
    "\n",
    "One example of the third model listed above is the calculation of compound interest.\n",
    "Compound interest at a constant interest rate $r$ provides exponential growth from the initial\n",
    "capital $x_0$: at a time $t$, the current value $x(t)$ is given by $x(t) = x_0(1 + r)^t = x_0 * e^{t \\ln(1+r)}$.\n",
    "\n",
    "You are not provided with a dataset for this example. You are encouraged to create your\n",
    "own dataset and use it to test your function's ability to fit model 3 above."
   ]
  },
  {
   "cell_type": "code",
   "execution_count": null,
   "metadata": {
    "collapsed": true
   },
   "outputs": [],
   "source": [
    "def myBestRegression(x, y):\n",
    "    "
   ]
  },
  {
   "cell_type": "code",
   "execution_count": null,
   "metadata": {
    "collapsed": true
   },
   "outputs": [],
   "source": [
    "myBestRegression()"
   ]
  },
  {
   "cell_type": "markdown",
   "metadata": {},
   "source": [
    "## Question 4: Stream flow recession analysis and over-determined systems\n",
    "\n",
    "Perhaps the most convenient feature in Python is the backslash operator, '\\'. In this\n",
    "problem, we will use the backslash operator to solve an over-determined system and fit a\n",
    "well known model to some stream\n",
    "flow data.\n",
    "\n",
    "When rain falls on a watershed, water storage in the landscape increases and stream flow\n",
    "levels generally increase. Soon after rain stops falling, the discharge levels in streams will decline in a process known as the stream\n",
    "flow recession. Below is a plot of the volumetric flowrate (discharge) during and after a single rainfall event, from the Middle Fork of the Eel\n",
    "River in northern California. Notice that the discharge starts off rather slowly, peaks, then\n",
    "recedes gradually.\n",
    "\n",
    "<img src=\"resources/E7_Lab9_2.jpg\" style=\"width: 600px;\"/>\n",
    "<center>*Figure 2: Recession event from the Middle Fork of the Eel River, CA in 2011*</center>\n"
   ]
  },
  {
   "cell_type": "markdown",
   "metadata": {},
   "source": [
    "One of the most popular mathematical models for the stream\n",
    "flow recession is the so-called\n",
    "'power-law' recession model, which defines the **rate of decline of stream\n",
    "flow** (i.e. the derivative of stream flow) as:\n",
    "\n",
    "$$-\\frac{dQ}{dt} = aQ^b \\;\\;(3)$$"
   ]
  },
  {
   "cell_type": "markdown",
   "metadata": {},
   "source": [
    "Although you will not be required to obtain the solution of such an equation yourself, it can be solved to yield a highly nonlinear function for the form of the stream flow recession:\n",
    "\n",
    "$$Q(t) = \\Bigg[(b-1)\\Big( \\frac{Q^{1-b}_0}{b-1} + at \\Big)\\Bigg]^{\\frac{1}{1-b}} \\;\\; (4) $$\n",
    "\n",
    "where $Q_0$ is the initial stream\n",
    "flow value on the first day of the recession. Instead of attempting\n",
    "to fit this nonlinear model to stream\n",
    "ow data, many researchers will instead go back to\n",
    "Equation 3 and log transform the relationship:\n",
    "\n",
    "$$-\\frac{dQ}{dt}=aQ^b \\implies \\log\\big(-\\frac{dQ}{dt}\\big)=\\log a+b\\log Q \\;\\;(5)$$"
   ]
  },
  {
   "cell_type": "markdown",
   "metadata": {},
   "source": [
    "As you can see, if you were to plot $\\log(-\\frac{dQ}{dt})$ vs. $\\log Q$, the result would be a linear function\n",
    "with a slope of $b$ and a y-intercept of $\\log a$.\n",
    "\n",
    "To find $a$ and $b$ using Python we will perform four steps: \n",
    "\n",
    "1. Compute a collection of\n",
    "values of the derivative, or time rate of change, of the discharge\n",
    "2. Construct and solve an\n",
    "over-determined system of equations, which will tell us the best fit values for $a$ and $b$\n",
    "3. Determine how good the fit is by calculating $R^2$\n",
    "4. Plot the best fit equation on top of\n",
    "the stream flow recession data."
   ]
  },
  {
   "cell_type": "markdown",
   "metadata": {},
   "source": [
    "### 4.1\n",
    "\n",
    "For this problem, assume you are given $N$ daily stream\n",
    "flow recession values, $Q(0), Q(1), Q(2),\\dots, Q(N - 1)$, represented in Python as a column vector discharge\n",
    "with $N$ entries. You can find a sample stream\n",
    "ow recession time series in the file\n",
    "`discharge.mat`, located in the assignment directory (this recession is the decreasing\n",
    "segment in the figure above). \n",
    "\n",
    "The first entry of discharge, $Q(0)$, represents \n",
    "flow on\n",
    "the first day, when $t = 0$, $Q(1)$ on the second day when $t = 1$, and so on. "
   ]
  },
  {
   "cell_type": "markdown",
   "metadata": {},
   "source": [
    "Write a function `getDerivative(discharge)` returning the tuple `(dQdt avgQ)`, a vector of values of the derivative, or the time rate of change, of discharge,\n",
    "and the discharge values corresponding to each computed value of the derivative. \n",
    "\n",
    "As an approximation for the derivative on day $t = \\tau$ , your function should compute the\n",
    "following:\n",
    "\n",
    "$$\\frac{dQ(\\tau)}{dt} = \\frac{Q(\\tau + 1) - Q(\\tau)}{(\\tau + 1) - (\\tau)} = Q(\\tau + 1) - Q(\\tau) \\;\\;(6)$$\n",
    "\n",
    "where the simplification in the denominator can be made because $t$ is in given in one day intervals. You should note that the length of the vector $\\frac{dQ}{dt}$ will be $N - 1$, instead\n",
    "of $N$. Your function will also return the two day average of discharge (`avgQ`) for each\n",
    "computed value of $\\frac{dQ}{dt}$ , that is:\n",
    "\n",
    "$$Q_{avg}(\\tau) = \\frac{Q(\\tau+1)+Q(\\tau)}{2}\\;\\; (7)$$\n",
    "\n",
    "which is also of length $N-1$. (Doing this simply stores the discharge at the temporal midpoint where the derivative is calculated so that $Q$ and $\\frac{dQ}{dt}$ are computed at the\n",
    "same point in time.)"
   ]
  },
  {
   "cell_type": "code",
   "execution_count": 72,
   "metadata": {
    "collapsed": true
   },
   "outputs": [],
   "source": [
    "def getDerivative(discharge):\n",
    "    dQdt = discharge[1:] - discharge[0:-1]\n",
    "    avgQ = (discharge[1:] + discharge[0:-1]) / 2.\n",
    "    return dQdt, avgQ"
   ]
  },
  {
   "cell_type": "code",
   "execution_count": 73,
   "metadata": {},
   "outputs": [
    {
     "ename": "TypeError",
     "evalue": "getDerivative() missing 1 required positional argument: 'discharge'",
     "output_type": "error",
     "traceback": [
      "\u001b[1;31m---------------------------------------------------------------------------\u001b[0m",
      "\u001b[1;31mTypeError\u001b[0m                                 Traceback (most recent call last)",
      "\u001b[1;32m<ipython-input-73-e32fbdc5273e>\u001b[0m in \u001b[0;36m<module>\u001b[1;34m()\u001b[0m\n\u001b[1;32m----> 1\u001b[1;33m \u001b[0mgetDerivative\u001b[0m\u001b[1;33m(\u001b[0m\u001b[1;33m)\u001b[0m\u001b[1;33m\u001b[0m\u001b[0m\n\u001b[0m",
      "\u001b[1;31mTypeError\u001b[0m: getDerivative() missing 1 required positional argument: 'discharge'"
     ]
    }
   ],
   "source": [
    "getDerivative()"
   ]
  },
  {
   "cell_type": "markdown",
   "metadata": {},
   "source": [
    "### 4.2\n",
    "\n",
    "Now, let's set up the over-determined system of equations that we will solve to get the parameters of our recession model, $a$ and $b$.\n",
    "\n",
    "For each day, $t = \\tau$ , we will have a single equation\n",
    "\n",
    "$\\log a + b \\log (Q_{avg}(\\tau)) = \\log \\Big( -\\frac{dQ(\\tau)}{dt} \\Big) \\;\\; (8)$\n",
    "\n",
    "Yielding a total of $N - 1$ equations for only two unknowns, $a$ and $b$. "
   ]
  },
  {
   "cell_type": "markdown",
   "metadata": {},
   "source": [
    "How can we\n",
    "convert the above system of equations into a single matrix equation? Well, the two\n",
    "unknowns we are looking to find are $b$ and $\\log a$, and so we can call our vector of\n",
    "unknowns $x = \\begin{bmatrix} \\log a \\\\ b \\end{bmatrix}$.\n",
    "\n",
    "Next, we need the right hand side (RHS) of the equation in vector form, which will be\n",
    "\n",
    "$$y = \\begin{bmatrix} \\log \\big( -\\frac{dQ(0)}{dt} \\big) \\\\\n",
    "                      \\log \\big( -\\frac{dQ(1)}{dt} \\big) \\\\\n",
    "                      \\vdots \\\\\n",
    "                      \\log \\big( -\\frac{dQ(N-2)}{dt} \\big) \\end{bmatrix}$$\n",
    "                        \n",
    "Finally, to connect the left and right hand sides, we set up the full equation:\n",
    "\n",
    "$$\\mathbf{Ax} = \\begin{bmatrix} 1 & \\log(Q_{avg}(0)) \\\\\n",
    "                       1 & \\log(Q_{avg}(1)) \\\\\n",
    "                       \\vdots & \\vdots \\\\\n",
    "                       1 & \\log(Q_{avg}(N-2)) \\big) \\end{bmatrix}\\mathbf{x} = \\mathbf{y}$$"
   ]
  },
  {
   "cell_type": "markdown",
   "metadata": {},
   "source": [
    "Clearly such a system will generally be over-determined; there are more equations than\n",
    "unknowns. However, Matlab's backslash operator is smart! It automatically knows how\n",
    "to solve over-determined systems using least squares methods. \n",
    "\n",
    "In Matlab, the solution (in a least squares sense) to an equation like\n",
    "the system above is simply `x = A \\ y`.\n",
    "\n",
    "For this second part, write `getRecessionParams(discharge)` returning the tuple `(a b)`, the power law recession parameters $a$ and $b$. You should use the function\n",
    "`getDerivative` from the previous question (make sure to carefully double check that it\n",
    "works before using it for this function). \n",
    "\n",
    "Inside the function `getRecessionParams`, you\n",
    "should set up the matrix equations demonstrated above and use the backslash operator\n",
    "to find the solutions, $\\log a$ and $b$. Note that your function should return the values $a$\n",
    "and $b$, and so you will need to transform $\\log a$ into a using the identity, $a = e^{\\log a}$."
   ]
  },
  {
   "cell_type": "code",
   "execution_count": 10,
   "metadata": {
    "collapsed": true
   },
   "outputs": [],
   "source": [
    "def getRecessionParams(discharge):\n",
    "    dQdt, avgQ = getDerivative(discharge)\n",
    "    y = np.log(-dQdt)\n",
    "    A = np.concatenate((np.ones(len(discharge)-1, 1), math.log(avgQ)), axis=0)\n",
    "    x = np.solve(A, y)\n",
    "    \n",
    "    a = math.exp(x[0])\n",
    "    b = x[1]\n",
    "    return a, b"
   ]
  },
  {
   "cell_type": "code",
   "execution_count": 11,
   "metadata": {},
   "outputs": [
    {
     "ename": "TypeError",
     "evalue": "getRecessionParams() missing 1 required positional argument: 'discharge'",
     "output_type": "error",
     "traceback": [
      "\u001b[0;31m---------------------------------------------------------------------------\u001b[0m",
      "\u001b[0;31mTypeError\u001b[0m                                 Traceback (most recent call last)",
      "\u001b[0;32m<ipython-input-11-67ee358d40f2>\u001b[0m in \u001b[0;36m<module>\u001b[0;34m()\u001b[0m\n\u001b[0;32m----> 1\u001b[0;31m \u001b[0mgetRecessionParams\u001b[0m\u001b[0;34m(\u001b[0m\u001b[0;34m)\u001b[0m\u001b[0;34m\u001b[0m\u001b[0m\n\u001b[0m",
      "\u001b[0;31mTypeError\u001b[0m: getRecessionParams() missing 1 required positional argument: 'discharge'"
     ]
    }
   ],
   "source": [
    "getRecessionParams()"
   ]
  },
  {
   "cell_type": "markdown",
   "metadata": {},
   "source": [
    "If you read section 13.2 in your textbook closely, you'll see that solving the over-determined system in the previous part is exactly the equivalent of performing a linear regression. Essentially, you fit the data with a best fit linear function of the form:\n",
    "\n",
    "$$\\log\\Big(-\\frac{dQ}{dt}\\Big)=\\log a + b \\log Q \\;\\;(11)$$"
   ]
  },
  {
   "cell_type": "markdown",
   "metadata": {},
   "source": [
    "You can think of $\\log(-\\frac{dQ}{dt})$\n",
    "as the dependent variable ($y$), $\\log Q$ as the independent\n",
    "variable ($x$), $\\log a$ as the y-intercept of the best fit line, and $b$ as the slope.\n",
    "\n",
    "For any modeling exercise, it's good practice to report some measure of 'goodness of fit', that is, how well your model performs. There are a number of different measures\n",
    "of goodness of fit, but one of the most popular for linear regression is the coefficient of\n",
    "determination, commonly referred to as $R^2$."
   ]
  },
  {
   "cell_type": "markdown",
   "metadata": {},
   "source": [
    "In practical terms, $R^2$ is simply a measure of how much better your best fit linear\n",
    "function is than a best fit constant function, or mean model, $y = \\text{mean}(y_{data})$. $R^2$ is\n",
    "computed with the following equation:\n",
    "\n",
    "$$R^2=1-\\frac{SSE_{linear\\;model}}{SSE_{mean\\;model}}\\;\\;(12)$$\n",
    "\n",
    "where $SSE_linear\\;model$ is the sum of squared errors of the linear model, and $SSE_{mean\\;model}$\n",
    "is the sum of squared errors of the mean model. Sum of squared errors is simply the\n",
    "sum of the squares of the differences between the model and the data. Looking at the\n",
    "equation for $R^2$, you can see that the smaller the errors of the linear model relative to\n",
    "the mean model, the closer $R^2$ will get to 1. So, the perfect linear fit has an $R^2 = 1$."
   ]
  },
  {
   "cell_type": "markdown",
   "metadata": {},
   "source": [
    "To illustrate, consider the very simple dataset,\n",
    "`xdata = [1, 2, 3, 3.5]; ydata = [1.2, 3, 2.8, 3.9]` (blue points below).\n",
    "\n",
    "Also plotted below are both the best fit linear model (using linear regression) and the\n",
    "best fit mean model to the data:\n",
    "\n",
    "<img src=\"resources/E7_Lab9_3.jpg\" style=\"width: 600px;\"/>\n",
    "<center>*Figure 3: Linear model fit vs. constant (mean) model fit*</center>"
   ]
  },
  {
   "cell_type": "markdown",
   "metadata": {},
   "source": [
    "The individual errors are simply the vertical lengths of the fine black lines, representing\n",
    "the distance from the data to each model. In this case, the sum of squared errors can\n",
    "be computed as:\n",
    "\n",
    "$$ \\begin{align} SSE_{linear\\;model} &= e_{L1}^2 + e_{L2}^2 + e_{L3}^2 + e_{L4}^2 & (13) \\\\ \n",
    "SSE_{mean\\;model} &= e_{M1}^2 + e_{M2}^2 + e_{M3}^2 + e_{M4}^2 & (14) \\end{align} $$\n",
    "\n",
    "Therefore, $R^2 = 1 - \\frac{SSE_{linear\\;model}}{SSE_{mean\\;model}} = 0.8095$. Give it a try and see if you get the same\n",
    "numbers.\n",
    "\n",
    "For this part, you will write a function `rsquaredRecessionModel(discharge)`\n",
    "to compute the $R^2$ goodness of fit of your stream\n",
    "flow recession model. Note, for\n",
    "the data points in your $R^2$ calculation, you should use the variables `dQdt` and `avgQ`\n",
    "outputted from the function `getDerivative(discharge)`. Also, you should find\n",
    "the $R^2$ value for the *linear* fit in log-log space, that is, find $R^2$ for the fitted line $\\log (-\\frac{dQ}{dt}) = \\log a + b \\log Q$; while it is possible to compute an $R^2$ value for the non-linear form of the model (Equation 4), we will not do that here."
   ]
  },
  {
   "cell_type": "code",
   "execution_count": 75,
   "metadata": {
    "collapsed": true
   },
   "outputs": [],
   "source": [
    "def rsquaredRecessionModel(discharge):\n",
    "    a, b = getRecessionParams(discharge)\n",
    "    dQdt, avgQ = getDerivative(discharge)\n",
    "    \n",
    "    yhat = math.log(a) + b*math.log(avgQ)\n",
    "    y_mean = mean(math.log(-dQdt))\n",
    "    \n",
    "    SSE_lin = sum((yhat-math.log(-dQdt))**2)\n",
    "    SSE_mean = sum((math.log(-dQdt) - y_mean)**2)\n",
    "    \n",
    "    rsq = 1-(SSE_lin/SSE_mean)\n",
    "    \n",
    "    return rsq"
   ]
  },
  {
   "cell_type": "code",
   "execution_count": null,
   "metadata": {
    "collapsed": true
   },
   "outputs": [],
   "source": [
    "rsquaredRecessionModel()"
   ]
  },
  {
   "cell_type": "markdown",
   "metadata": {},
   "source": [
    "### Question 4.4\n",
    "\n",
    "For the final part of this problem, you will write the function `plotRecessionModel(a, b, discharge)`\n",
    "which will take a pair of recession parameters (`a` and `b`), a discharge time series\n",
    "(`discharge`), and plot the recession model on top of the discharge data. You should\n",
    "pair Equation 4 with the recession parameter values to plot the model. The function\n",
    "should also include the values of the recession parameters in the plot title. Note that\n",
    "$Q_0$ in Equation 4 will simply be the first element in the vector discharge, and the\n",
    "independent variable $t$ will be a simple length $N$ vector, $time = 0:(N-1)$. \n",
    "\n",
    "For the\n",
    "test case above, your `plotRecessionModel` function should generate a plot similar\n",
    "to the one below. Although it does not need to look exactly the same (you can choose\n",
    "different colors, markers, etc), you should properly label your axes, the legend, and the\n",
    "title.\n",
    "\n",
    "<img src=\"resources/E7_Lab9_4.jpg\" style=\"width: 400px;\"/>\n",
    "<center>*Figure 4: Power law recession model fitted to discharge data.*</center>"
   ]
  },
  {
   "cell_type": "code",
   "execution_count": null,
   "metadata": {
    "collapsed": true
   },
   "outputs": [],
   "source": [
    "def plotRecessionModel(a, b, discharge):\n",
    "    N = len(discharge)\n",
    "    Q = ((b-1)*(discharge[0]**(1-b))/(b-1) + a*t)**(1/(1-b))\n",
    "    \n",
    "    "
   ]
  },
  {
   "cell_type": "code",
   "execution_count": null,
   "metadata": {
    "collapsed": true
   },
   "outputs": [],
   "source": [
    "plotRecessionModel(a, b, discharge)"
   ]
  }
 ],
 "metadata": {
  "anaconda-cloud": {},
  "kernelspec": {
   "display_name": "Python 3",
   "language": "python",
   "name": "python3"
  },
  "language_info": {
   "codemirror_mode": {
    "name": "ipython",
    "version": 3
   },
   "file_extension": ".py",
   "mimetype": "text/x-python",
   "name": "python",
   "nbconvert_exporter": "python",
   "pygments_lexer": "ipython3",
   "version": "3.5.4"
  }
 },
 "nbformat": 4,
 "nbformat_minor": 2
}
