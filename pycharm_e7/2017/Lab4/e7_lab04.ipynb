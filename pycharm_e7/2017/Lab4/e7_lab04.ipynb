{
 "cells": [
  {
   "cell_type": "markdown",
   "metadata": {},
   "source": [
    "# E7: Introduction to Computer Programming for Scientists and Engineers"
   ]
  },
  {
   "cell_type": "markdown",
   "metadata": {},
   "source": [
    "### Lab Assignment 4: Iteration and Recursion"
   ]
  },
  {
   "cell_type": "markdown",
   "metadata": {},
   "source": [
    "For each question, you will have to fill in one or more Python functions. We provide an autograder with a number of test cases that you can use to test your function. Note that the fact that your function works for all test cases thus provided does necessarily guarantee\n",
    "that it will work for all possible test cases relevant to the question. It is your responsibility\n",
    "to test your function thoroughly, to ensure that it will also work in situations not covered\n",
    "by the test cases provided"
   ]
  },
  {
   "cell_type": "markdown",
   "metadata": {
    "collapsed": true
   },
   "source": [
    "Throughout this notebook, we will guide you through solving Physics (kinematics) and 2D Geometry problems using Python and numpy."
   ]
  },
  {
   "cell_type": "markdown",
   "metadata": {},
   "source": [
    "For this assignment, we will complete the functions below:\n",
    "1. Sine Approximation\n",
    "    1. my_sin_approx_fixed.m\n",
    "    2. my_sin_approx_tolerance.m\n",
    "2. my_minimum_index.m\n",
    "3. my_sort.m\n",
    "4. Reversing a list\n",
    "    1. my_reverse_without_recursion.m\n",
    "    2. my_reverse_with_recursion.m\n",
    "5. my_parser.m\n",
    "6. Calculator\n",
    "    1. my_calculator_inverse_precedence.m\n",
    "    2. my_calculator_with_undo.m"
   ]
  },
  {
   "cell_type": "markdown",
   "metadata": {},
   "source": [
    "#### Dependencies"
   ]
  },
  {
   "cell_type": "code",
   "execution_count": null,
   "metadata": {
    "collapsed": false
   },
   "outputs": [],
   "source": [
    "# Please run this cell, and do not modify the contets\n",
    "from math import *\n",
    "import numpy as np\n",
    "np.seterr(all='ignore');\n",
    "%run lab2_ag.py"
   ]
  },
  {
   "cell_type": "markdown",
   "metadata": {},
   "source": [
    "## 1. Approximation of the Sine Function\n",
    "\n",
    "In `my_sin_approx(x)`, Calculate the following:\n",
    "\n",
    "**exact**: the \"exact\" value of `sin(x)` calculated by Python's built in math.sin function. Note that in this problem we describe this value as \"exact\" even though it may not be rigorously exact, as we will see later in the semester, when discussing binary representations of numbers.\n",
    "\n",
    "**approx**: the approxation of `sin(x)` calculated using the following Taylor Series approximation:\n",
    "\n",
    "$$sin(x) \\approx x - \\frac{x^3}{3!} + \\frac{x^5}{5!} - \\frac{x^7}{7!}$$\n",
    "\n",
    "**actual_error**: the error made on `sin(x)` when using the approxmaiton isntead of the exact value (i.e. `approx-exact`)\n",
    "\n",
    "**relative_error**: the relative error made on `sin(x)` when using the approximation instead of the exact value (i.e. `(approx-exact)/exact)`)"
   ]
  },
  {
   "cell_type": "markdown",
   "metadata": {},
   "source": [
    "Note that if exact is zero, then the calculation of `relative_error` involves a division by zero. Do not handle these cases any differently than the other cases. We will use numpy floats, which use the values Inf, -Inf, and NaN where appropriate. "
   ]
  },
  {
   "cell_type": "markdown",
   "metadata": {},
   "source": [
    "You can test if a `np.float` is `inf` with the command `np.isinf(some_float)`, and if it's `NaN` with the command `np.isnan(some_float)`.\n",
    "\n",
    "Also, you can create a `NaN` value as `np.nan`, an `inf` value  as `np.inf`, and an `-inf` value as `np.NINF` or `-np.inf`"
   ]
  },
  {
   "cell_type": "code",
   "execution_count": null,
   "metadata": {
    "collapsed": false
   },
   "outputs": [],
   "source": [
    "def my_sin_approx(x):\n",
    "    x = np.float64(x)\n",
    "    \n",
    "    exact = sin(x)\n",
    "    approx = x - (x**3)/factorial(3) + (x**5)/factorial(5) - (x**7)/factorial(7)\n",
    "    actual_error = approx - exact\n",
    "    relative_error = (actual_error/exact)\n",
    "    \n",
    "    return (exact, approx, actual_error, relative_error)"
   ]
  },
  {
   "cell_type": "code",
   "execution_count": null,
   "metadata": {
    "collapsed": false,
    "scrolled": false
   },
   "outputs": [],
   "source": [
    "# Run Cell to test\n",
    "run_q1(my_sin_approx)"
   ]
  },
  {
   "cell_type": "code",
   "execution_count": null,
   "metadata": {
    "collapsed": true
   },
   "outputs": [],
   "source": []
  }
 ],
 "metadata": {
  "anaconda-cloud": {},
  "kernelspec": {
   "display_name": "Python 3",
   "language": "python",
   "name": "python3"
  },
  "language_info": {
   "codemirror_mode": {
    "name": "ipython",
    "version": 3
   },
   "file_extension": ".py",
   "mimetype": "text/x-python",
   "name": "python",
   "nbconvert_exporter": "python",
   "pygments_lexer": "ipython3",
   "version": "3.6.1"
  }
 },
 "nbformat": 4,
 "nbformat_minor": 0
}
