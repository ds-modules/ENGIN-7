{
 "cells": [
  {
   "cell_type": "markdown",
   "metadata": {
    "collapsed": true
   },
   "source": [
    "# E7: Introduction to Computer Programming for Scientists and Engineers"
   ]
  },
  {
   "cell_type": "markdown",
   "metadata": {},
   "source": [
    "## Lab Assignment 10"
   ]
  },
  {
   "cell_type": "markdown",
   "metadata": {},
   "source": [
    "For each question, you will have to fill in one or more Python functions. We provide an autograder with a number of test cases that you can use to test your function. Note that the fact that your function works for all test cases thus provided does necessarily guarantee\n",
    "that it will work for all possible test cases relevant to the question. It is your responsibility\n",
    "to test your function thoroughly, to ensure that it will also work in situations not covered\n",
    "by the test cases provided"
   ]
  },
  {
   "cell_type": "code",
   "execution_count": 97,
   "metadata": {
    "collapsed": true
   },
   "outputs": [],
   "source": [
    "# Please run this cell, and do not modify the contets\n",
    "import math\n",
    "import numpy as np\n",
    "import matplotlib.pyplot as plt\n",
    "import scipy.optimize\n",
    "from scipy.interpolate import interpld\n",
    "np.seterr(all='ignore');\n",
    "# %run lab2_ag.py"
   ]
  },
  {
   "cell_type": "markdown",
   "metadata": {},
   "source": [
    "## Question 1: Writing your own trigonometric function\n",
    "\n",
    "There is no direct way to calculate trigonometric functions generically, even on a computer. In order to find the solution to a given trigonometric function, the computer uses a high\n",
    "accuracy estimate. For this problem, you will code your own trigonometric function using a\n",
    "Taylor series and an old school table look-up. Computers actually use the CORDIC method\n",
    "to implement trigonometric functions, which is pretty cool. You can look into this more\n",
    "[here](https://en.wikipedia.org/wiki/CORDIC), but you will not have to code it for this assignment. You can watch [this video](https://www.khanacademy.org/math/integral-calculus/sequences-series-approx-calc/maclaurin_taylor/v/maclauren-and-taylor-series-intuition) for more\n",
    "information on how Taylor series are derived."
   ]
  },
  {
   "cell_type": "markdown",
   "metadata": {
    "collapsed": true
   },
   "source": [
    "### 1.1: Taylor series for sine\n",
    "\n",
    "The Taylor series expansion about zero for sine (with input in radians) is:\n",
    "\n",
    "$$\\sin(x) \\approx x - x^3/3! + x^5/5! - x^7/7! + \\dots + (-1)^{(n-1)}\\frac{x^{(2n-1)}}{(2n-1)!}$$\n",
    "\n",
    "Or, in summation notation:\n",
    "\n",
    "$$\\sin(x) \\approx \\sum_{n=1}^N (-1)^{(n-1)}\\frac{x^{(2n-1)}}{(2n-1)!}$$\n",
    "\n",
    "For this problem, we will consider the $N^{th}$ Taylor expansion of sine to be the sum of the\n",
    "first $N$ terms of this series. The approximation above becomes exact as $N$ approaches infinity.\n",
    "\n",
    "Write a function `mySin(X,N)`\n",
    "which computes sine at every radian value given in the 2D array `X` (class double) using the\n",
    "$N^{th}$ Taylor expansion for sine. The input `N` is a scalar double which is an integer greater\n",
    "than 0. The output sinSeries should be a double with the same size as `X`."
   ]
  },
  {
   "cell_type": "code",
   "execution_count": 62,
   "metadata": {
    "collapsed": true
   },
   "outputs": [],
   "source": [
    "def mySin(X, N):\n",
    "    \"\"\"\n",
    "    Computes the Nth Taylor expansion of sine for a given 2D matrix of X Inputs\n",
    "    X: 2D array (doubles), radians\n",
    "    N: Nth degree of a sine Taylor Series expansion\n",
    "    Output: Double same size as X\n",
    "    \"\"\"\n",
    "    X = np.array(X)\n",
    "    sinSeries = np.zeros(X.shape)\n",
    "    \n",
    "    for i in range(1, N+1):\n",
    "        #print(sinSeries)\n",
    "        sinSeries = sinSeries + ((-1)**(i-1) * (np.power(X,(2*i-1)))) / math.factorial(2*i-1)\n",
    "    \n",
    "    return sinSeries"
   ]
  },
  {
   "cell_type": "code",
   "execution_count": 63,
   "metadata": {},
   "outputs": [
    {
     "name": "stdout",
     "output_type": "stream",
     "text": [
      "[[ 0.759552]]\n",
      "[[ 0.          0.84147098]\n",
      " [ 0.90929743  0.14111965]]\n",
      "[[  -0.83333333   -6.66666667]\n",
      " [ -50.16666667  112.5       ]]\n"
     ]
    }
   ],
   "source": [
    "print(mySin(np.array([[2.4]]), 3))\n",
    "\n",
    "mtx = np.matrix([[0, 1], [2, 3]])\n",
    "#print(mtx.shape)\n",
    "print(mySin(mtx, 8))\n",
    "\n",
    "mtx = np.matrix([[-1, 4], [7, -9]])\n",
    "print(mySin(mtx, 2))"
   ]
  },
  {
   "cell_type": "markdown",
   "metadata": {},
   "source": [
    "### 1.2: Order of convergence for the Taylor series\n",
    "For a finite number of terms, the error of the Taylor series estimate for sine (expanded about\n",
    "the origin) increases the further you get from the origin. This error is often approximated\n",
    "based on the next term of the Taylor series, since that term is the largest that is being\n",
    "neglected. Thus, the $2^{nd}$ Taylor approximation for sine would have error that is of the order\n",
    "of $x^5/5!$ (the constant coefficient is often dropped and the expression written in shorthand\n",
    "as $O(x^5)$). For this problem, you will write a function that finds the error between your\n",
    "approximation for sine and the Python `math.sin` function. You will also compute the value of the\n",
    "next term in the Taylor series expansion for sine, so that we can compare the two to see if\n",
    "they actually do produce similar results.\n",
    "\n",
    "Write a function with header: `CompareTaylorConvergence(N)`\n",
    "which finds the error in the $N^{th}$ Taylor approximation for sine, along with the absolute value\n",
    "of the $(N+1)^{th}$ term of the Taylor expansion. Your function should evaluate each of these\n",
    "for $x$ data ranging from $[-\\frac{N\\pi}{2}, \\frac{N\\pi}{2}]$ in increments of $\\frac{\\pi}{8}$. As an output, your function should\n",
    "return a $1 \\times (8N + 1)$ row vector `[x, err, next_term]` for each variable, where `x` is the $x$ values where the errors\n",
    "were evaluated, err is the actual (absolute value) error between your Taylor approximation\n",
    "and the Python `math.sin` function, and `next_term` is the absolute value of the next term in the\n",
    "Taylor series."
   ]
  },
  {
   "cell_type": "markdown",
   "metadata": {},
   "source": [
    "Test Case (produces Figure 1):\n",
    "    \n",
    "```MATLAB\n",
    "[ x , e r r , next term ] = CompareTaylorConvergence ( 2 ) ;\n",
    "f igure ;\n",
    "plot (x , [ e r r ; next term ] , ' Linewidth ' , 2 ) ;\n",
    "axis ([􀀀pi /2\u0003N pi /2\u0003N 0 2 ] ) ;\n",
    "t i t l e ( 'Order o f Convergence Plot ' , ' FontSize ' , 1 6 ) ;\n",
    "xlabel ( ' x ' ) ;\n",
    "ylabel ( ' Er ror s ' ) ;\n",
    "legend ( ' Actual Er ror ' , 'Next Term ' , ' Locat ion ' , ' Best ' ) ;\n",
    "```\n",
    "\n",
    "<img src=\"E7_Lab10_1.jpg\" style=\"width: 500px;\"/>\n",
    "<center>*Figure 1*</center>"
   ]
  },
  {
   "cell_type": "code",
   "execution_count": 64,
   "metadata": {
    "collapsed": true
   },
   "outputs": [],
   "source": [
    "def CompareTaylorConvergence(N):\n",
    "    \"\"\"\n",
    "    Finds the error in the Nth Taylor approximation for sine, along with\n",
    "    absolute value of the (N+1)th term of the Taylor expansion\n",
    "    \n",
    "    Input\n",
    "    N: number of iterations of Taylor approximation\n",
    "\n",
    "    Outputs\n",
    "    x: x values that you evaluated the errors at\n",
    "    error: actual error between your Taylor approximation and the Python sin() function\n",
    "    next_term: absolute value of the next term in the Taylor series\n",
    "    \"\"\"\n",
    "    eval_pts = np.arange(-N*math.pi/2., N*math.pi/2.+0.01, math.pi/8.)\n",
    "    tot_err = []\n",
    "    all_term = []\n",
    "    for x in eval_pts:\n",
    "        err = abs(mySin([[x]], N) - math.sin(x))\n",
    "        next_term = abs((-1)**N * (x**(2*N+1)) / math.factorial(2*N+1))\n",
    "        tot_err.append(err)\n",
    "        all_term.append(next_term)\n",
    "    \n",
    "    return eval_pts, tot_err, all_term"
   ]
  },
  {
   "cell_type": "code",
   "execution_count": 65,
   "metadata": {},
   "outputs": [
    {
     "data": {
      "text/plain": [
       "(array([-3.14159265, -2.74889357, -2.35619449, -1.96349541, -1.57079633,\n",
       "        -1.17809725, -0.78539816, -0.39269908,  0.        ,  0.39269908,\n",
       "         0.78539816,  1.17809725,  1.57079633,  1.96349541,  2.35619449,\n",
       "         2.74889357,  3.14159265]),\n",
       " [array([[ 2.02612013]]),\n",
       "  array([[ 1.0957537]]),\n",
       "  array([[ 0.53104112]]),\n",
       "  array([[ 0.22203275]]),\n",
       "  array([[ 0.07516777]]),\n",
       "  array([[ 0.01829839]]),\n",
       "  array([[ 0.00245413]]),\n",
       "  array([[  7.75396899e-05]]),\n",
       "  array([[ 0.]]),\n",
       "  array([[  7.75396899e-05]]),\n",
       "  array([[ 0.00245413]]),\n",
       "  array([[ 0.01829839]]),\n",
       "  array([[ 0.07516777]]),\n",
       "  array([[ 0.22203275]]),\n",
       "  array([[ 0.53104112]]),\n",
       "  array([[ 1.0957537]]),\n",
       "  array([[ 2.02612013]])],\n",
       " [2.5501640398773451,\n",
       "  1.3080019231634075,\n",
       "  0.60516588055683085,\n",
       "  0.24320259474538278,\n",
       "  0.079692626246167034,\n",
       "  0.018911433767400964,\n",
       "  0.0024903945701927198,\n",
       "  7.7824830318522494e-05,\n",
       "  0.0,\n",
       "  7.7824830318522494e-05,\n",
       "  0.0024903945701927198,\n",
       "  0.018911433767400929,\n",
       "  0.079692626246167034,\n",
       "  0.24320259474538305,\n",
       "  0.60516588055683085,\n",
       "  1.3080019231634064,\n",
       "  2.5501640398773451])"
      ]
     },
     "execution_count": 65,
     "metadata": {},
     "output_type": "execute_result"
    }
   ],
   "source": [
    "CompareTaylorConvergence(2)"
   ]
  },
  {
   "cell_type": "markdown",
   "metadata": {},
   "source": [
    "### 1.3: Using the periodicity of sine\n",
    "\n",
    "From the last problem, you can see that, far enough away from the origin, a finite Taylor\n",
    "expansion always diverges from the actual solution for sine. One way to improve our accuracy\n",
    "from inputs far from the origin is to use the periodicity of sine. i.e.\n",
    "\n",
    "$$\\sin(x \\pm 2\\pi) = \\sin(x)$$\n",
    "\n",
    "Write a function `mySinPeriodic(X,N)` which converts every radian value in the 2D matrix `X` to the range $[-\\pi, \\pi]$ using the periodicity of sine and then calculates sine at each point using the Nth Taylor expansion for sine.\n",
    "The output should be the same size as the input `X`.\n",
    "\n",
    "Hint: You may wish to use the Python function mod, `%`, for this problem; you will have to be a bit clever about it."
   ]
  },
  {
   "cell_type": "code",
   "execution_count": 85,
   "metadata": {
    "collapsed": true
   },
   "outputs": [],
   "source": [
    "def mySinPeriodic(X, N):\n",
    "    \"\"\"\n",
    "    function [approxs] = mySinPeriodic(X,N)\n",
    "    converts every radian value in the 2D matrix X to the range [-pi,pi] using\n",
    "    the periodicity of sine and then calculates sine at each point using the\n",
    "    Nth Taylor expansion for sine\n",
    "    \"\"\"\n",
    "    X = np.array(X)\n",
    "    xr, xc = X.shape\n",
    "    for i in range(xr*xc):\n",
    "        while X[i] < -math.pi:\n",
    "            X[i] += 2*math.pi\n",
    "        while X[i] > math.pi:\n",
    "            X[i] -= 2*math.pi\n",
    "            \n",
    "    approxs = mySin(X, N)\n",
    "    return approxs"
   ]
  },
  {
   "cell_type": "code",
   "execution_count": 86,
   "metadata": {},
   "outputs": [
    {
     "data": {
      "text/plain": [
       "array([[-0.27941553],\n",
       "       [-0.93333333]])"
      ]
     },
     "execution_count": 86,
     "metadata": {},
     "output_type": "execute_result"
    }
   ],
   "source": [
    "mySinPeriodic([[6.], [-2.]], 3)"
   ]
  },
  {
   "cell_type": "markdown",
   "metadata": {},
   "source": [
    "### 1.4: Accurate range of the Taylor series\n",
    "Now, we will examine how well our new and improved approximation for sine works by finding the range of values for which its accuracy is acceptable.\n",
    "\n",
    "Write a function `TaylorAccRange(N, tol)` that finds the range of angles for which the error in the $N^{th}$ Taylor expansion is less than\n",
    "the given tolerance, `tol`. The range should be returned as a $1 \\times 2$ array containing the\n",
    "minimum and maximum angle in radians for which every angle in between can be found to\n",
    "within the given tolerance. You should consider the periodicity of sine in the function, such\n",
    "that angles outside of the range $[-\\pi, pi]$ are taken as their corresponding angle within that\n",
    "range. (i.e. What does this imply if your tolerance range is greater than or equal to $[-\\pi, pi]$\n",
    "without considering periodicity?). If your Taylor approximation is within the tolerance for\n",
    "all angles, your function should return the vector $[-\\inf, \\inf]$.\n",
    "\n",
    "**Hint**: You may wish to rewrite this problem as a root solving problem; you are free to use\n",
    "Python predefined functions (or your own functions from a previous problem set!) to solve\n",
    "for the root."
   ]
  },
  {
   "cell_type": "code",
   "execution_count": 140,
   "metadata": {
    "collapsed": true
   },
   "outputs": [],
   "source": [
    "def TaylorAccRange(N, tol):\n",
    "    \"\"\"\n",
    "    function [range] = TaylorAccRange(N, tol)\n",
    "    finds the range of angles for which the error in the Nth taylor expansion is less than the given tolerance, tol\n",
    "    \n",
    "    Output\n",
    "    range: 1x2 array containing minimum and maximum angle in radians for which \n",
    "    every angle in between can be found within the given tolerance\n",
    "    \"\"\"\n",
    "    f = lambda x: tol - abs(((-1)**(N) * x**(2*N+1)) / math.factorial(2*N+1))\n",
    "    \n",
    "    angle = scipy.optimize.fsolve(f, 0.)\n",
    "    print(angle)\n",
    "    \n",
    "    range = [-abs(angle), abs(angle)]\n",
    "    \n",
    "    if abs(angle) >= math.pi:\n",
    "        range = [-np.inf, np.inf]\n",
    "        \n",
    "    return range"
   ]
  },
  {
   "cell_type": "code",
   "execution_count": 141,
   "metadata": {},
   "outputs": [
    {
     "name": "stdout",
     "output_type": "stream",
     "text": [
      "[ 0.]\n",
      "[array([-0.]), array([ 0.])]\n",
      "[ 0.]\n",
      "[array([-0.]), array([ 0.])]\n"
     ]
    },
    {
     "name": "stderr",
     "output_type": "stream",
     "text": [
      "C:\\Users\\danny\\Anaconda3\\lib\\site-packages\\scipy\\optimize\\minpack.py:161: RuntimeWarning: The iteration is not making good progress, as measured by the \n",
      "  improvement from the last ten iterations.\n",
      "  warnings.warn(msg, RuntimeWarning)\n"
     ]
    }
   ],
   "source": [
    "print(TaylorAccRange(1., 0.001))\n",
    "print(TaylorAccRange(5., 0.1))"
   ]
  },
  {
   "cell_type": "markdown",
   "metadata": {},
   "source": [
    "### 1.5 Table Lookup\n",
    "\n",
    "Before the widespread use of handheld calculators, it was common practice to look up the\n",
    "values of trigonometric functions from tables (many older math textbooks have such tables).\n",
    "Even today, engineers use such lookup tables for more complex functions. Engineers will typically use linear interpolation to find values between entries in such tables. In this problem,\n",
    "we will apply this same methodology to make a new version of the trigonometric function\n",
    "we have been developing.\n",
    "\n",
    "Write a function `sinLookup (X, table)`\n",
    "which finds sine at each angle (given in radians) in the 2D matrix `X` using linear interpolation\n",
    "of a table of sine values, given in the input argument table. This table can be loaded from\n",
    "the file `SineLookup.csv` (see test case below), which includes two columns of data. The first\n",
    "column contains the angle in degrees and the second column contains the value of sine at\n",
    "that angle (calculated out to 5 decimal places). This data table only goes from -180 to 180\n",
    "degrees, so you will have to take the periodicity of sine into account in order to calculate\n",
    "values outside of that range. The output should be the same size as the input `X`.\n",
    "Note: Your function should not make use of any predefined Python interpolation functions.\n"
   ]
  },
  {
   "cell_type": "code",
   "execution_count": 142,
   "metadata": {
    "collapsed": true
   },
   "outputs": [],
   "source": [
    "def sinLookup(X, table):\n",
    "    tab_ang = table[:,1]*math.pi/180\n",
    "    tab_val = table[:,2]\n",
    "    X = (X + math.pi) % (2 * math.pi) - math.pi\n",
    "    out = []\n",
    "    \n",
    "    for i in range(len(X[0])):\n",
    "        for j in range(len(X[1])):\n",
    "            low_ang, loc = max(tab_ang[tab_ang <= X[i][j]])\n",
    "            low_val = tab_val(loc)\n",
    "            high_ang = tab_ang(loc+1)\n",
    "            high_val = tab_val(loc+1)\n",
    "            \n",
    "            out[i][j] = low_val + (high_val - low_val) / (high_ang-low_ang) * (X[i][j] - low_ang)\n",
    "            \n",
    "    return out"
   ]
  },
  {
   "cell_type": "code",
   "execution_count": 143,
   "metadata": {},
   "outputs": [
    {
     "ename": "TypeError",
     "evalue": "sinLookup() missing 1 required positional argument: 'table'",
     "output_type": "error",
     "traceback": [
      "\u001b[1;31m---------------------------------------------------------------------------\u001b[0m",
      "\u001b[1;31mTypeError\u001b[0m                                 Traceback (most recent call last)",
      "\u001b[1;32m<ipython-input-143-41a684f97a0f>\u001b[0m in \u001b[0;36m<module>\u001b[1;34m()\u001b[0m\n\u001b[1;32m----> 1\u001b[1;33m \u001b[0msinLookup\u001b[0m\u001b[1;33m(\u001b[0m\u001b[1;33m[\u001b[0m\u001b[1;33m-\u001b[0m\u001b[1;36m5.4\u001b[0m\u001b[1;33m,\u001b[0m \u001b[1;36m2.3\u001b[0m\u001b[1;33m,\u001b[0m \u001b[1;36m8.4\u001b[0m\u001b[1;33m]\u001b[0m\u001b[1;33m)\u001b[0m\u001b[1;33m\u001b[0m\u001b[0m\n\u001b[0m",
      "\u001b[1;31mTypeError\u001b[0m: sinLookup() missing 1 required positional argument: 'table'"
     ]
    }
   ],
   "source": [
    "sinLookup([-5.4, 2.3, 8.4])"
   ]
  },
  {
   "cell_type": "markdown",
   "metadata": {},
   "source": [
    "## Question 2: Interpolation: Biomechanics\n",
    "\n",
    "In the field of biomechanics, data interpolation is often used to define anatomical joint angles\n",
    "as a function of the walking cycle (clinically, this is known as the gait cycle). For example, engineers designing a prosthetic leg may be interested in analyzing the hip angle of an\n",
    "able-bodied individual in order to design a prosthetic leg that mimics natural leg motions.\n",
    "\n",
    "For clarity, illustrations defining hip angle (Figure 2) as well as the gait cycle (Figure 3) are\n",
    "provided. As shown in Figure 3, the gait cycle goes from 0 to 100% for each foot and is\n",
    "periodic in nature. For a given leg, an entire period of the gait cycle begins with the heel\n",
    "striking the \n",
    "oor and ends when the same heel strikes the \n",
    "oor again. Additionally, when\n",
    "the thigh and torso are completely vertical (i.e. standing perfectly vertical), the hip angle\n",
    "is zero degrees. Assuming a perfectly vertical torso, moving the thigh forward signifies hip flexion (positive angle) whereas moving the thigh backward signifies hip extension (negative angle)."
   ]
  },
  {
   "cell_type": "markdown",
   "metadata": {},
   "source": [
    "<img src=\"E7_Lab10_2.jpg\" style=\"width: 200px;\"/>\n",
    "<center>*Figure 2: Definition of Hip Angle*</center>\n",
    "\n",
    "<img src=\"E7_Lab10_3.jpg\" style=\"width: 500px;\"/>\n",
    "<center>*Figure 3: Definition of Gait Cycle*</center>"
   ]
  },
  {
   "cell_type": "markdown",
   "metadata": {},
   "source": [
    "To plot the hip angle as a function of the gait cycle, some researchers make use of state-of-the-art gait laboratories equipped with infrared cameras to get very accurate estimates\n",
    "of the hip angle at all instances of the gait cycle. However, most researchers do not have\n",
    "access to these gait labs (they cost hundreds of thousands of dollars) and instead resort to\n",
    "less costly methods of calculating hip angles. For instance, a graduate student researcher may simply take pictures of a human subject at specific instances of the gait cycle and use\n",
    "a protractor on each image to estimate the hip angle at each specific moment. Once the\n",
    "researcher has obtained a few data points, they may then use software such as Python to\n",
    "interpolate between these points. That way, the hip angle is now known across the entire\n",
    "gait cycle and not just at a few discrete points.\n",
    "\n",
    "In this problem, you are asked to write a function that performs the interpolation men-\n",
    "tioned in the previous paragraph. You are provided with a data file `GaitLabData.mat` which\n",
    "contains four double arrays: `crude_gait_cycle`, `crude_hip_angles`, `ideal_gait_cycle`,\n",
    "and `gait_lab_hip_angles`. The arrays `crude_gait_cycle` and `crude_hip_angles` correspond to the gait cycle instances and hip angles calculated using a protractor and a traditional camera. The array `ideal_gait_cycle` corresponds to the values of the gait cycle\n",
    "in which it is desired to have interpolated hip angle values. Thus, the number of elements\n",
    "in `ideal_gait_cycle` is much larger than the number of elements in `crude_gait_cycle`.\n",
    "The array `gait_lab_hip_angles` contains data from an actual gait laboratory, which we\n",
    "can use to evaluate the effectiveness of different interpolation methods (the more closely the\n",
    "interpolation matches the gait lab data, the better it is).\n",
    "\n",
    "Write a function `gait_data_interp(crude_gait_cycle, crude_angles, ideal_gait_cycle, interp_method)`. Your function will take inputs of the crude gait cycle points, the crude hip angles, the\n",
    "ideal gait cycle points, and finally a character array specifying the interpolation method.\n",
    "Your function should be able to perform linear, cubic, or spline interpolations, which will\n",
    "correspond to values of `interp_method`: `linear`, `cubic`, and `spline`. Using the Python function `interp1`, the output of interpolated hip angles should be produced. If an interpolation method is called that is not linear, cubic, or spline, the function should output an empty\n",
    "array `[]` and display `\"Please input either linear, cubic, or spline\"`. Note that the spline\n",
    "option for the Python `interp1` function performs a traditional cubic spline, as discussed\n",
    "in lecture and the textbook, while the cubic option performs a more sophisticated method\n",
    "that never locally overshoots its target. You do not need to worry about the details of this\n",
    "method for this class, but you are free to look into it more if you are interested."
   ]
  },
  {
   "cell_type": "markdown",
   "metadata": {},
   "source": [
    "Once you have created your function, the following test case should result in a figure that is identical to Figure 4:\n",
    "\n",
    "Test Case:\n",
    "```MATLAB\n",
    "load ( 'GaitLabData .mat ' )\n",
    "a n g l e l i n e a r = g a i t d a t a i n t e r p ( c r u d e g a i t c y c l e , c rude hip ang l e s , . . .\n",
    "i d e a l g a i t c y c l e , ' l i n e a r ' ) ;\n",
    "a n g l e c u b i c = g a i t d a t a i n t e r p ( c r u d e g a i t c y c l e , c rude hip ang l e s , . . .\n",
    "i d e a l g a i t c y c l e , ' cubi c ' ) ;\n",
    "a n g l e s p l i n e = g a i t d a t a i n t e r p ( c r u d e g a i t c y c l e , c rude hip ang l e s , . . .\n",
    "i d e a l g a i t c y c l e , ' s p l i n e ' ) ;\n",
    "f igure\n",
    "%Plot crude data p o int s\n",
    "plot ( c r u d e g a i t c y c l e , c rude hip ang l e s , ' k . ' , 'MarkerSize ' , 3 0 ) ;\n",
    "hold on ;\n",
    "grid on ;\n",
    "%Plot l i n e a r i n t e r p o l a t i o n\n",
    "plot ( i d e a l g a i t c y c l e , a n g l e l i n e a r , ' g ' , ' LineWidth ' , 2 ) ;\n",
    "%Plot cub i c i n t e r p o l a t i o n\n",
    "plot ( i d e a l g a i t c y c l e , ang l e cubi c , ' r ' , ' LineWidth ' , 2 ) ;\n",
    "%Plot s p l i n e i n t e r p o l a t i o n\n",
    "plot ( i d e a l g a i t c y c l e , a n g l e s p l i n e , 'b ' , ' LineWidth ' , 2 ) ;\n",
    "%Plot the a c t u a l g a i t l a b data\n",
    "plot ( i d e a l g a i t c y c l e , g a i t l a b h i p a n g l e s , ' k ' , ' LineWidth ' , 2 ) ;\n",
    "xlabel ( ' Percent Gait Cycle ' , ' FontSize ' , 1 6 ) ;\n",
    "ylabel ( 'Hip Angle ( Degrees ) ' , ' FontSize ' , 1 6 ) ;\n",
    "t i t l e ( ' I n t e r p o l a t i o n Methods f o r Hip Angle Analys i s ' , ' FontSize ' , 2 0 ) ;\n",
    "legend ( 'Crude Data ' , ' Linear I n t e r p o l a t i o n ' , ' Cubic I n t e r p o l a t i o n ' , . . .\n",
    "' Spl ine I n t e r p o l a t i o n ' , ' Gait Lab Data ' , ' Locat ion ' , ' SouthEast ' ) ;\n",
    "```\n",
    "\n",
    "You should be able to see the ability of each interpolation method and how it compares to\n",
    "the extremely accurate data that can be obtained from a gait laboratory. Can you make\n",
    "sense of the data based on the definition of the gait cycle and the definition of hip \n",
    "exion\n",
    "and hip extension?\n",
    "\n",
    "<img src=\"E7_Lab10_4.jpg\" style=\"width: 1000px;\"/>\n",
    "<center>*Figure 4: Problem 2 Interpolation Results*</center>"
   ]
  },
  {
   "cell_type": "code",
   "execution_count": null,
   "metadata": {
    "collapsed": true
   },
   "outputs": [],
   "source": [
    "def gait_data_interp(crude_gait_cycle, crude_angles, ideal_gait_cycle, interp_method):\n",
    "    if interp_method not in ('linear', 'cubic', 'spline'):\n",
    "        print('Please input either \"linear\", \"cubic\", or \"spline\"')\n",
    "        return\n",
    "    \n",
    "    return interp(crude_gait_cycle, crude_angles, ideal_gait_cycle, interp_method)\n",
    "    \n",
    "def interp(crude_gait_cycle, crude_angles, ideal_gait_cycle, interp_method):\n",
    "    return"
   ]
  },
  {
   "cell_type": "code",
   "execution_count": null,
   "metadata": {
    "collapsed": true
   },
   "outputs": [],
   "source": [
    "gait_data_interp()"
   ]
  },
  {
   "cell_type": "markdown",
   "metadata": {},
   "source": [
    "## Question 3: Interpolation: Soil Layers\n",
    "Civil engineers often collect and analyze soil samples to better understand the properties of\n",
    "the soil and groundwater at a site before beginning a construction project. This data is often\n",
    "collected by drilling vertical boreholes. This allows engineers to bring soil samples back to\n",
    "the lab for testing of various properties and also to distinguish layers of different soil types\n",
    "as well as the depth to the water table. One of the key challenges remaining is that soil and\n",
    "groundwater properties can only be collected at a limited number of points on the site, while\n",
    "the properties across the entire site are extremely relevant to the design process. For this\n",
    "problem, you will implement a cubic spline that will interpolate the soil layering geometry\n",
    "across a cross-section of the site. In other words, you will be interpolating the vertical ($y$)\n",
    "coordinate of the top and bottom of each layer at horizontal ($x$) coordinates where there is\n",
    "no data (the top of a given layer is also the bottom of the layer above it).\n",
    "\n",
    "Your function should take a matrix of data that matches the format in the file `Borings.csv`.\n",
    "Before you attempt to write this function, open up the file and look at how the data is\n",
    "formatted. Note that the water table and soil layers are measured in terms of depth from\n",
    "the surface. This means that you will have to subtract these values from the surface eleva-\n",
    "tion to convert them to elevations within a consistent reference frame. Once you've done\n",
    "this, you should perform 1D cubic spline interpolation to get new values for the surface,\n",
    "water table, and soil layer elevations. Lastly, you should convert these new values for the\n",
    "water table and soil layers back into depths and format them in a matrix similar to the input.\n",
    "\n",
    "You should also notice that the depth to the clay layer is missing in the data for two of the\n",
    "boreholes. This means that the clay layer is absent in the locations of those boreholes. If a\n",
    "layer is present in one borehole and absent in the next, your function should use extrapolation\n",
    "to map that layer until it ceases to exist. When two layer interfaces intersect (i.e. the\n",
    "thickness of a layer becomes zero), this indicates that the layer no longer exists (see Figure\n",
    "5). In other words, your function should find the horizontal end point(s) of a layer which\n",
    "does not span the entire cross-section. Past this point, your function should return NaN for\n",
    "that layer. Your function should be able to handle missing data in any layer, not just the\n",
    "clay layer in the given example. However, you may assume that the data will only be missing\n",
    "at the beginning and/or end of the data series (to program a function that would accomplish\n",
    "this generically, you would have to parse out the data, which is beyond the scope of this\n",
    "problem). You may also assume that any soil layer with missing data is sandwiched between\n",
    "two soil layers with no missing data.\n"
   ]
  },
  {
   "cell_type": "markdown",
   "metadata": {},
   "source": [
    "### 3.1: Interpolating the data\n",
    "\n",
    "Write the function `mySoilSpline (borehole_data, site_locations)`\n",
    "where site_locations is a $1 \\times N$ matrix of horizontal ($x$) locations along the cross section\n",
    "(in meters) where you will interpolate the borehole data, `borehole_data` is an $M \\times B$ matrix of soil data at the boreholes, and `site_data` is an $M \\times N$ matrix of the soil data at\n",
    "the interpolated locations, where $M$ is the number of rows of data within `Borings.csv`, $N$\n",
    "is the number of site locations, and $B$ is the number of boreholes drilled (i.e. columns in\n",
    "`Borings.csv`). Each row of site_data should refer to the same type of information as the\n",
    "corresponding row of the data in `Borings.csv`.\n",
    "\n",
    "**Hint**: You are free to use Python predefined functions to do the cubic spline interpolation.\n",
    "\n",
    "Note that in reality, it is very difficult to accurately predict the soil layering geometry in\n",
    "between data points (boreholes). Without any further information, straight lines are usually\n",
    "drawn, along with \"question marks\" indicating high levels of uncertainty. In cases where\n",
    "additional accuracy is necessary, the judgment of a geologist or geotechnical engineer with\n",
    "experience mapping the local geology is utilized. Sometimes more sophisticated geostatistical\n",
    "interpolation techniques are used. For this problem, we use cubic spline interpolation due\n",
    "to its simplicity and to arrive at smooth pictures like the one shown in Figure 5.\n",
    "\n",
    "<img src=\"E7_Lab10_5.jpg\" style=\"width: 600px;\"/>\n",
    "<center>*Figure 5: Example output from the soil viewer*</center>"
   ]
  },
  {
   "cell_type": "code",
   "execution_count": 1,
   "metadata": {
    "collapsed": true
   },
   "outputs": [],
   "source": [
    "def mySoilSpline(bd, site_locations):\n",
    "    result = np.matrix(site_locations)\n",
    "    for row in bd[2, :]:\n",
    "        adjustment = row\n",
    "        row = bd[1, :] - row\n",
    "        spline = interpld(bd[0:,:], row, kind='cubic')\n",
    "        np.concatenate((result, spline(row)), axis=0)\n",
    "        for n in result[-1, :]:\n",
    "            if n==0:\n",
    "                n = 'NaN'\n",
    "        result[-1, :] = result[-1, :] + adjustment\n",
    "    return result"
   ]
  },
  {
   "cell_type": "code",
   "execution_count": null,
   "metadata": {
    "collapsed": true
   },
   "outputs": [],
   "source": [
    "mySoilSpline()"
   ]
  },
  {
   "cell_type": "markdown",
   "metadata": {},
   "source": [
    "### 3.2: Visualizing the interpolated data\n",
    "\n",
    "A function has been provided on bCourses that uses a working soil spline function to generate\n",
    "a soil profile. These profiles are commonly made to visualize the soil layer geometry along\n",
    "an entire cross section. To run successfully, both your spline function and the `Borings.csv`\n",
    "data file must be in the same folder. It may be helpful to look at (or modify) this code, but\n",
    "it is only there to help you develop your function and will not be used for grading."
   ]
  },
  {
   "cell_type": "code",
   "execution_count": null,
   "metadata": {
    "collapsed": true
   },
   "outputs": [],
   "source": []
  },
  {
   "cell_type": "code",
   "execution_count": null,
   "metadata": {
    "collapsed": true
   },
   "outputs": [],
   "source": []
  },
  {
   "cell_type": "code",
   "execution_count": null,
   "metadata": {
    "collapsed": true
   },
   "outputs": [],
   "source": []
  }
 ],
 "metadata": {
  "kernelspec": {
   "display_name": "Python 3",
   "language": "python",
   "name": "python3"
  },
  "language_info": {
   "codemirror_mode": {
    "name": "ipython",
    "version": 3
   },
   "file_extension": ".py",
   "mimetype": "text/x-python",
   "name": "python",
   "nbconvert_exporter": "python",
   "pygments_lexer": "ipython3",
   "version": "3.6.1"
  }
 },
 "nbformat": 4,
 "nbformat_minor": 2
}
