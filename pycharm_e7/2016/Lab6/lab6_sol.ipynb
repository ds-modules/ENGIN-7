{
 "cells": [
  {
   "cell_type": "markdown",
   "metadata": {
    "collapsed": true
   },
   "source": [
    "# E7: Introduction to Computer Programming for Scientists and Engineers"
   ]
  },
  {
   "cell_type": "markdown",
   "metadata": {},
   "source": [
    "## Lab Assignment 6"
   ]
  },
  {
   "cell_type": "markdown",
   "metadata": {},
   "source": [
    "For each question, you will have to fill in one or more Python functions. We provide an autograder with a number of test cases that you can use to test your function. Note that the fact that your function works for all test cases thus provided does necessarily guarantee\n",
    "that it will work for all possible test cases relevant to the question. It is your responsibility\n",
    "to test your function thoroughly, to ensure that it will also work in situations not covered\n",
    "by the test cases provided"
   ]
  },
  {
   "cell_type": "markdown",
   "metadata": {},
   "source": [
    "This E7 assignment focuses on graphical representations. You are encouraged to use the\n",
    "Python documentation to get details on some of the plotting functions you will need. This\n",
    "assignment will be checked for proper functions and figures and comments in your\n",
    "code. For this assignment you will write one function and one script which you will \"publish\"\n",
    "to create a pdf. More detailed instructions for submitting your assignment are included at\n",
    "the end of this document."
   ]
  },
  {
   "cell_type": "code",
   "execution_count": 1,
   "metadata": {
    "collapsed": true
   },
   "outputs": [],
   "source": [
    "# Please run this cell, and do not modify the contets\n",
    "import math\n",
    "import numpy as np\n",
    "import matplotlib.pyplot as plt\n",
    "np.seterr(all='ignore');\n",
    "# %run lab2_ag.py"
   ]
  },
  {
   "cell_type": "markdown",
   "metadata": {},
   "source": [
    "## Question 1: X-Y Plots: Bay Area Sports Teams\n",
    "\n",
    "In the Bay Area, there are two professional football teams (San Francisco 49ers and Oakland\n",
    "Raiders), two professional baseball teams (San Francisco Giants and Oakland Athletics), one\n",
    "professional hockey team (San Jose Sharks), and one professional basketball team (Golden\n",
    "State Warriors). In this problem, you will be asked to write a function, `BayAreaTeams(varargin)`,\n",
    "which creates a plot showing the winning percentages of some combination of the six aforementioned sports teams throughout the years. The winning percentage of a sports team for\n",
    "any given year is calculated as:\n",
    "\n",
    "$$ \\text{Winning Percentage} = (\\frac{\\text{Games Won}}{\\text{Games Played}}) \\times 100 $$\n",
    "\n",
    "The winning percentage is calculated based on games for a single year. Thus, a new winning\n",
    "percentage is calculated for each year.\n",
    "\n",
    "This function does not return any output variables to the workspace when called. The\n",
    "sole intention of this function is to produce a plot - not to output any variables. Note that\n",
    "there is one input argument in the function declaration line: `varargin`. `varargin` stands for\n",
    "\"variable arguments in\" and is used when the number of input arguments to a function is not\n",
    "always the same. In other words, `varargin` is used when there are several acceptable inputs\n",
    "(arguments) to a function, but the function does not require every input to be present for any\n",
    "given call to the function itself. \n",
    "\n",
    "(For example, the Numpy function `np.zeros` which generates\n",
    "an array filled with zeros, can either be used with one argument as `zeros(N)`, or with two\n",
    "arguments as `zeros(M,N)`, or with even more arguments)\n",
    "\n",
    "In this case, the function can take up to 6 arguments. Acceptable inputs for the function\n",
    "BayAreaTeams are the following character arrays:\n",
    "'Raiders', 'Niners', 'Warriors', 'Giants', 'Athletics','Sharks'.\n",
    "\n",
    "You should design your function so that these inputs are case insensitive (see the function\n",
    "strcmpi to do this). For instance, let's say you want to plot the winning percentages of only\n",
    "the Oakland Raiders and the San Francisco 49ers on the same figure. To do this, you would\n",
    "call the function as follows: `BayAreaTeams('Raiders', 'Niners')` Note that we did not\n",
    "use the other four acceptable arguments. This is the functionality that varargin provides."
   ]
  },
  {
   "cell_type": "markdown",
   "metadata": {},
   "source": [
    "The data file `BayAreaSports.mat` has been provided. Inside this `.mat` file is a struct\n",
    "array called `BayAreaSports`, which contains several fields. Load the `.mat` file into your\n",
    "workspace and explore the struct to become familiar with the field names and the data\n",
    "that exists there. You'll notice that for each team, data exists for the years played as well\n",
    "as the number of wins per year. However, while some teams have data for the number of\n",
    "games played (which is necessary for calculating the winning percentage), some teams do\n",
    "not provide the number of games played and instead provide the number of losses per year.\n",
    "Make sure to think critically about how you can obtain the number of games played per year\n",
    "for the teams that do not directly provide this data.\n",
    "A good regular season record is important, but what ultimately matters is if you win\n",
    "a championship! Thus, the file `BayAreaSports.mat` also includes the years each team won\n",
    "championships in their respective sport.\n",
    "Your function should perform the following tasks:\n",
    "1. Load the file `BayAreaSports.mat`\n",
    "2. Plot the winning percentage as a function of years for as many of the six teams as\n",
    "requested by the function call on a single figure. Hint: Recall structs from Lab 3.\n",
    "3. For each team requested, circular markers should be used with lines connecting the\n",
    "circular markers. The line thickness should be set to 2.\n",
    "4. Grid lines should be shown on the figure (see help grid to learn about this command).\n",
    "5. If no input is provided, the function should not return a figure and instead display the\n",
    "output: `Please enter at least one professional Bay Area sports team.`\n",
    "6. If an input is provided that is not one of the acceptable six inputs mentioned above,\n",
    "the function should not return a figure and instead display the text:\n",
    "`Please enter either 'Raiders', 'Niners', 'Warriors', 'Giants', 'Athletics',\n",
    "or 'Sharks'.`\n",
    "7. The x-axis of the figure should be labeled `Years` with a font size of 20.\n",
    "8. The y-axis of the figure should be labeled `Winning Percentage` with a font size of 20\n",
    "and should be limited to values from 0 to 100.\n",
    "9. The figure should be given a title `Comparison of Bay Area Professional Sports Teams`\n",
    "with a font size of 20.\n",
    "10. A legend should be provided that contains an entry for each team requested. The\n",
    "legend should be in the upper right-hand corner of the figure and not overlap any of\n",
    "the data.\n",
    "11. Use team-specific colors for your plots. Python allows you to plot lines with very\n",
    "specific line/marker colors by using RGB values. To make your figure more festive,\n",
    "refer to the table below when assigning line/marker colors for the six teams.\n",
    "12. Plot the championship-year winning percentages on top of the data already plotted\n",
    "on your figure for each team requested. This championship data should be plotted as\n",
    "gold pentagrams (5-point stars) with a marker size of 20. The RGB array for gold is\n",
    "`[1, .843, 0]`. These \"gold stars\" should not be connected with lines - plot only the\n",
    "markers on top of the pre-existing data.\n",
    "\n",
    "\n",
    "| Team Line Color Marker Color                          | Wins | Losses |\n",
    "|-------------------------------------------------------|------|--------|\n",
    "| Raiders [0, 0, 0] [0.737, 0.769, 0.788]               | 7    | 6      |\n",
    "| Niners [0.784, 0, 0.126] [0.753, 0.6, 0.302]          | 9    | 4      |\n",
    "| Giants [0, 0, 0] [1, 0.302, 0]                        | 8    | 2      |\n",
    "| Athletics [0.016, 0.290, 0.235] [0.988, 0.729, 0.204] | 5    | 7      |\n",
    "| Warriors [0.004, 0.275, 0.678] [0.973, 0.773, 0.212]  | 7    | 6      |\n",
    "| Sharks [0.075, 0, 0.028] [0.04, 0.467, 0.541]         | 3    | 9      |\n",
    "\n",
    "\n",
    "Test case: if you want to compare the Oakland Raiders and the San Francisco 49ers\n",
    "(using the function declaration above), your figure should look like Figure 1 below. After\n",
    "completing the function, include the following code in your script file:\n",
    "\n",
    "```\n",
    "type BayAreaTeams % di spl a y func t i on t ext\n",
    "BayAreaTeams ( ' Raider s ' , ' Niner s ' ) % show Raide r s /49 e r s comparison\n",
    "BayAreaTeams ( ' Athl e t i c s ' , 'Giants ' ) % show A' s /Giant s comparison\n",
    "BayAreaTeams ( 'Warriors ' , ' Sharks ' ) % show War r ior s / Sharks comparison\n",
    "```"
   ]
  },
  {
   "cell_type": "markdown",
   "metadata": {},
   "source": [
    "![](E7_lab6_1.jpg)\n",
    "Figure 1: Plot comparing the win percentages over the years of the Raiders and Niners"
   ]
  },
  {
   "cell_type": "code",
   "execution_count": null,
   "metadata": {
    "collapsed": true
   },
   "outputs": [],
   "source": []
  },
  {
   "cell_type": "code",
   "execution_count": null,
   "metadata": {
    "collapsed": true
   },
   "outputs": [],
   "source": []
  },
  {
   "cell_type": "markdown",
   "metadata": {},
   "source": [
    "## Question 2: 3D Surface Plots and Subplots\n",
    "\n",
    "The purpose of this problem is to introduce you to three dimensional plots and subplots.\n",
    "Imagine we have a function as follows:\n",
    "\n",
    "$$ z(x,y) = \\frac{-y\\cos(x)}{\\exp(\\cos(x)^2 + \\sin(y)^2)} $$\n",
    "\n",
    "First, you will plot the mathematical function above in three dimensions across the\n",
    "following domain for the independent variables $x$ and $y$:\n",
    "\n",
    "$$ x,y \\in [-5, 5]$$\n",
    "\n",
    "You will need to create a discrete set of values for x and y at which MATLAB will\n",
    "evaluate the function z(x; y). For this problem, you should assume a step size of 0.1 between\n",
    "these discrete values. Look into the built-in MATLAB functions meshgrid to create the\n",
    "underlying x; y grid. Compute z, then use surf to make your three dimensional \f",
    "gure.\n",
    "(Type doc meshgrid and doc surf into your command window).\n",
    "You do not need to write a function for this problem. Instead, type all of your code for this\n",
    "question in the same script \f",
    "le as the code for the other questions (except for the function{see\n",
    "the end of the document for details). For your figure, define the axes and title as follows:\n",
    "\n",
    "1. Set the x-axis to the text `X Axis` with a font size of 16\n",
    "2. Set the y-axis to the text `Y Axis` with a font size of 16\n",
    "3. Set the z-axis to the text `Z Axis` with a font size of 16\n",
    "4. Set the title to the text `E7 - Lab 6 - Question 2` with a font size of 20\n",
    "5. Add a colorbar to your figure."
   ]
  },
  {
   "cell_type": "markdown",
   "metadata": {},
   "source": [
    "When you are finished, your figure should look like Figure 2. You can experiment with the\n",
    "shading command and change your colormap if you like.\n",
    "Next, you will look at two dimensional \\slices\" of the function. The slices we are interested\n",
    "in analyzing are the following:\n",
    "\n",
    "1. The slice on the `x = 0` plane\n",
    "2. The slice on the `y = 0.5` plane\n",
    "    \n",
    "Keep in mind that these slices are two dimensional, not three dimensional. For example,\n",
    "a slice at $x = 0$ means that the equation above is evaluated at $z(0, y)$. Similar observations\n",
    "can be made about the slice $y = 0.5$. Note that you do not need to do additional calculations.\n",
    "\n",
    "Since you are just going to be plotting a slice across the existing data that you have already\n",
    "computed in creating z, you can create this \"slice\" by properly indexing the array `z`.\n",
    "\n",
    "You should plot both two dimensional slices on the same figure. To do this, make use of subplots - a feature in Python that allows you to break a figure down into smaller, individual axes that can contain different plots. Type doc subplot into your command window to learn more about how subplots work. You will be making a $1 \\times 2$ subplot.\n",
    "\n",
    "The left-hand-side subplot should contain the two dimensional plot of the $x = 0$ slice and contain the following axis/title labels:\n",
    "\n",
    "1. Set the x-axis to the text Y Axis with a font size of 16\n",
    "2. Set the y-axis to the text Z Axis with a font size of 16\n",
    "3. Set the title to the text Slice at X = 0 with a font size of 20\n",
    "\n",
    "The right-hand-side subplot should contain the two dimensional plot of the $y = 0.5$ slice and contain the following axis/title labels:\n",
    "\n",
    "1. Set the x-axis to the text X Axis with a font size of 16\n",
    "2. Set the y-axis to the text Z Axis with a font size of 16\n",
    "3. Set the title to the text Slice at Y = 0.5 with a font size of 20\n",
    "\n",
    "Turn on the background grid for both subplots so your figure looks like Figure 3. Note that both of plots shown are on a single Python figure window. This is the functionality that subplot provides. Visually compare the subplots to the 3D plot you plotted earlier and try to find where these slices exist within the 3D figure."
   ]
  },
  {
   "cell_type": "markdown",
   "metadata": {},
   "source": [
    "![](E7_lab6_2.jpg)\n",
    "Figure 2: 3-D Surface plot\n",
    "![](E7_lab6_3.jpg)\n",
    "Figure 3: 2-D line plots of (1) Z axis versus the Y Axis, Slice at X = 0; (2) Z Axis versus the X Axis, Slice at Y = 0.5"
   ]
  },
  {
   "cell_type": "code",
   "execution_count": 7,
   "metadata": {
    "collapsed": true
   },
   "outputs": [],
   "source": []
  },
  {
   "cell_type": "code",
   "execution_count": null,
   "metadata": {
    "collapsed": true
   },
   "outputs": [],
   "source": []
  },
  {
   "cell_type": "markdown",
   "metadata": {},
   "source": [
    "## Question 3: Contour & Vector Plotting: Aquifer Simulation\n",
    "\n",
    "Groundwater is an important resource which provides water for municipal, agricultural, and industrial needs. Contamination from a variety of sources can diminish the quality of groundwater supplies, causing health problems for people who drink it or other problems,\n",
    "depending on the use. Modeling the motion of contaminants can allow us to use groundwater\n",
    "resources while preventing exposure to toxic contaminants. Modeling contaminant migration\n",
    "in groundwater requires computing groundwater velocity, which can be controlled by various\n",
    "soil properties, such as permeability. Permeability is a measure of how conducive a soil\n",
    "is to flow, and can vary by orders of magnitude over relatively short distances. (You can\n",
    "imagine that the permeability of sand will be much greater than that of clay, allowing water\n",
    "to flow through sand with significantly greater velocity.) In this question you will visually\n",
    "demonstrate the relationship between soil permeability and groundwater velocity.\n",
    "\n",
    "The file `K.csv` contains values of permeability for an aquifer, which was simulated using\n",
    "geostatistical methods. The files `vx.csv` and `vy.csv` contain $x$ components and $y$ components of velocity, respectively, throughout the same aquifer, obtained using numerical\n",
    "methods. All of the files contain data on a 50 x 50 grid, with each grid cell representing a\n",
    "10m x 10m area. \n",
    "\n",
    "These datasets were generated by your head GSI, Brad Harken, who works\n",
    "on problems of this nature for his PhD research!"
   ]
  },
  {
   "cell_type": "markdown",
   "metadata": {},
   "source": [
    "In this question you will add to your function from problem 2 where you:\n",
    "\n",
    "1. Load the three data files named above using `csvread` (be careful with the headers).\n",
    "Hint: Adjust csvread to start at appropriate point in data file.\n",
    "2. Show the spatial distribution of permeability using a filled contour plot (use the command contourf).\n",
    "3. Display the spatial variability of groundwater velocity by plotting velocity vectors on\n",
    "the same plot as the filled contour plot. Use `quiver` to help you with the velocity plot.\n",
    "4. Often when analyzing data, transformations of the data can be a helpful tool for seeing\n",
    "the data in a new perspective and visualizing different trends. For instance, taking the\n",
    "logarithm of a dataset can take emphasis away from extreme values and more simply\n",
    "show overall variability. On a new figure, show a filled contour plot of the natural\n",
    "logarithm of permeability.\n",
    "5. Ensure that your plots are presentable (adjust the colorbar, shape and colors of the\n",
    "arrows, legend, title, axis as needed). Create a title and axis labels that make the\n",
    "content of your plots easy to understand on their own (without needed accompanying\n",
    "text). Note the axis values and ensure they match the appropriate field measurements.\n",
    "Hint: You need to convert your axis to adequately match the field scale measurements."
   ]
  },
  {
   "cell_type": "code",
   "execution_count": null,
   "metadata": {
    "collapsed": true
   },
   "outputs": [],
   "source": []
  },
  {
   "cell_type": "code",
   "execution_count": null,
   "metadata": {
    "collapsed": true
   },
   "outputs": [],
   "source": []
  }
 ],
 "metadata": {
  "kernelspec": {
   "display_name": "Python 3",
   "language": "python",
   "name": "python3"
  },
  "language_info": {
   "codemirror_mode": {
    "name": "ipython",
    "version": 3
   },
   "file_extension": ".py",
   "mimetype": "text/x-python",
   "name": "python",
   "nbconvert_exporter": "python",
   "pygments_lexer": "ipython3",
   "version": "3.6.1"
  }
 },
 "nbformat": 4,
 "nbformat_minor": 2
}
