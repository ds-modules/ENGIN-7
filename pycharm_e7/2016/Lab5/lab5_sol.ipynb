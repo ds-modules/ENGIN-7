{
 "cells": [
  {
   "cell_type": "markdown",
   "metadata": {
    "collapsed": true
   },
   "source": [
    "# E7: Introduction to Computer Programming for Scientists and Engineers"
   ]
  },
  {
   "cell_type": "markdown",
   "metadata": {},
   "source": [
    "## Lab Assignment 5"
   ]
  },
  {
   "cell_type": "markdown",
   "metadata": {},
   "source": [
    "For each question, you will have to fill in one or more Python functions. We provide an autograder with a number of test cases that you can use to test your function. Note that the fact that your function works for all test cases thus provided does necessarily guarantee\n",
    "that it will work for all possible test cases relevant to the question. It is your responsibility\n",
    "to test your function thoroughly, to ensure that it will also work in situations not covered\n",
    "by the test cases provided"
   ]
  },
  {
   "cell_type": "code",
   "execution_count": 1,
   "metadata": {
    "collapsed": true
   },
   "outputs": [],
   "source": [
    "# Please run this cell, and do not modify the contets\n",
    "import numpy as np\n",
    "import math\n",
    "import heapq\n",
    "import time\n",
    "import matplotlib.pyplot as plt\n",
    "import random\n",
    "from timeit import default_timer as timer\n",
    "np.seterr(all='ignore');\n",
    "# %run lab5_ag.py"
   ]
  },
  {
   "cell_type": "markdown",
   "metadata": {},
   "source": [
    "## Question 1: Algorithm Complexity and Big-O Notation\n",
    "\n",
    "In this problem, you are presented with three sample Python functions, `f(x)`, `g(x)`, and\n",
    "`myRecFactorial(n)`, shown below. Your job is to determine the complexity of each from\n",
    "the options below, expressed in \"Big-O\" notation. First examine the three functions below\n",
    "and select from options A-E. Then write a function that returns a triple of the three choices you selected.\n",
    "\n",
    "Choices (same list of choices for the three functions):\n",
    "\n",
    "(A) $O(n2)$\n",
    "\n",
    "(B) $O(n)$\n",
    "\n",
    "(C) $O(Cn)$, where C is a constant.\n",
    "\n",
    "(D) $O(log(n))$\n",
    "\n",
    "(E) $O(n3)$"
   ]
  },
  {
   "cell_type": "code",
   "execution_count": null,
   "metadata": {
    "collapsed": true
   },
   "outputs": [],
   "source": [
    "# Three example functions below\n",
    "\n",
    "def f(x):\n",
    "    output = []\n",
    "    for i in range(x):\n",
    "        for j in range(x):\n",
    "            for k in range(x):\n",
    "                output.append(i*j*k)\n",
    "    return output\n",
    "\n",
    "def g(x):\n",
    "    output = 0\n",
    "    while x > 1:\n",
    "        x /= 4\n",
    "        output += 1\n",
    "    return output\n",
    "\n",
    "def myRecFactorial(n):\n",
    "    if n == 1:\n",
    "        out = 1\n",
    "    else:\n",
    "        out = n * myRecFactorial(n-1)\n",
    "    return out"
   ]
  },
  {
   "cell_type": "code",
   "execution_count": null,
   "metadata": {
    "collapsed": true
   },
   "outputs": [],
   "source": [
    "def myBigONotation():\n",
    "    return 'E', 'D', 'B'"
   ]
  },
  {
   "cell_type": "markdown",
   "metadata": {},
   "source": [
    "## Question 2: Braille\n",
    "\n",
    "English Braille is a writing system that uses binary encoding. In grade 1 English Braille, each\n",
    "letter of the alphabet and each number are represented by a cell that contains raised dots at\n",
    "one or more of six locations, arranged as an array with 3 rows and 2 columns. Figure 1 shows\n",
    "the English Braille representation of the 10 digits of the decimal system. We will represent\n",
    "a Braille cell in Python as a 3 x 2 array where raised dots are represented by ones, and\n",
    "zeros are used elsewhere. We will represent a sequence of n Braille cells in Python as a\n",
    "3 x 2n array where individual cells have been concatenated horizontally. For example, the\n",
    "integer 2 is represented as the 3 x 2 array: [[1, 0], [1, 0], [0, 0]] and 24 is represented as\n",
    "the 3 x 4 array: [[1, 0, 1, 1], [1, 0, 0, 1], [0, 0, 0, 0]]. Note that in English Braille,\n",
    "numbers are preceded by a \"numeral sign\" character, which we omit in this assignment.\n",
    "\n",
    "![](lab5_1.PNG)"
   ]
  },
  {
   "cell_type": "markdown",
   "metadata": {},
   "source": [
    "In this problem, you will write two Python functions that convert numbers from their\n",
    "Braille representations into other representations.\n",
    "\n",
    "### 2.1 Braille conversion to double\n",
    "\n",
    "Write a function `myBraille2Double(braille)` which returns `result`, the number represented by `braille`. `braille` is a 3 x 2n array which represents an integer as a sequence of Braille cells as described above."
   ]
  },
  {
   "cell_type": "code",
   "execution_count": null,
   "metadata": {
    "collapsed": true
   },
   "outputs": [],
   "source": [
    "def myBraille2Double(braille):\n",
    "    \"\"\"\n",
    "    >>> myBraille2Double([[1,0,1,1],[1,0,0,1],[0,0,0,0]])\n",
    "    24\n",
    "    >>> myBraille2Double([[1,0,1,1,1,0],[1,0,0,1,0,0],[0,0,0,0,0,0]])\n",
    "    241\n",
    "    >>> myBraille2Double([[[1,0],[0,0],[0,0]],[[1,0],[0,1],[0,0]],[[1,1],[0,0],[0,0]],[[1,1],[1,0],[0,0]]])\n",
    "    1536\n",
    "    \"\"\"\n",
    "    braille = np.array(braille)\n",
    "    one = [[1,0],[0,0],[0,0]]\n",
    "    two = [[1,0],[1,0],[0,0]]\n",
    "    three = [[1,1],[0,0],[0,0]]\n",
    "    four = [[1,1],[0,1],[0,0]]\n",
    "    five = [[1,0],[0,1],[0,0]]\n",
    "    six = [[1,1],[1,0],[0,0]]\n",
    "    seven = [[1,1],[1,1],[0,0]]\n",
    "    eight = [[1,0],[1,1],[0,0]]\n",
    "    nine = [[0,1],[1,0],[0,0]]\n",
    "    zero = [[0,1],[1,1],[0,0]]\n",
    "\n",
    "    if len(braille.shape)==2:\n",
    "        n_digits = int(len(braille[2])/2)\n",
    "        result = 0\n",
    "        digit = -1\n",
    "        for i in range(n_digits):\n",
    "            sub_braille = braille[:,[i*2,i*2+1]]\n",
    "            if np.array_equal(sub_braille, one):\n",
    "                digit = 1\n",
    "            elif np.array_equal(sub_braille, two):\n",
    "                digit = 2\n",
    "            elif np.array_equal(sub_braille, three):\n",
    "                digit = 3\n",
    "            elif np.array_equal(sub_braille, four):\n",
    "                digit = 4\n",
    "            elif np.array_equal(sub_braille, five):\n",
    "                digit = 5\n",
    "            elif np.array_equal(sub_braille, six):\n",
    "                digit = 6\n",
    "            elif np.array_equal(sub_braille, seven):\n",
    "                digit = 7\n",
    "            elif np.array_equal(sub_braille, eight):\n",
    "                digit = 8\n",
    "            elif np.array_equal(sub_braille, nine):\n",
    "                digit = 9\n",
    "            elif np.array_equal(sub_braille, zero):\n",
    "                digit = 0\n",
    "            else:\n",
    "                raise ValueError(\"unrecognized braille\")\n",
    "            result = result + digit*(10**(n_digits-i-1))\n",
    "    else:\n",
    "        n_digits = len(braille)\n",
    "        result = 0\n",
    "        digit = -1\n",
    "        for i in range(n_digits):\n",
    "            sub_braille = braille[i]\n",
    "            if np.array_equal(sub_braille, one):\n",
    "                digit = 1\n",
    "            elif np.array_equal(sub_braille, two):\n",
    "                digit = 2\n",
    "            elif np.array_equal(sub_braille, three):\n",
    "                digit = 3\n",
    "            elif np.array_equal(sub_braille, four):\n",
    "                digit = 4\n",
    "            elif np.array_equal(sub_braille, five):\n",
    "                digit = 5\n",
    "            elif np.array_equal(sub_braille, six):\n",
    "                digit = 6\n",
    "            elif np.array_equal(sub_braille, seven):\n",
    "                digit = 7\n",
    "            elif np.array_equal(sub_braille, eight):\n",
    "                digit = 8\n",
    "            elif np.array_equal(sub_braille, nine):\n",
    "                digit = 9\n",
    "            elif np.array_equal(sub_braille, zero):\n",
    "                digit = 0\n",
    "            else:\n",
    "                raise ValueError(\"unrecognized braille\")\n",
    "            result = result + digit*(10**(n_digits-i-1))\n",
    "\n",
    "    return result"
   ]
  },
  {
   "cell_type": "markdown",
   "metadata": {},
   "source": [
    "### 2.2 Braille conversion to ASCII code\n",
    "\n",
    "Write a function `myBraille2ASCII(braille)` \n",
    "where `braille` is a 3 x 2n array that represents an integer as a sequence of Braille cells as\n",
    "described above, and `ASCII` is a 1 x n row vector, where each element is the ASCII code of the corresponding cell in braille. Table 2 shows the ASCII codes of the ten digits of the decimal system.\n",
    "\n",
    "![](lab5_2.PNG)"
   ]
  },
  {
   "cell_type": "markdown",
   "metadata": {},
   "source": [
    "In Python, you can obtain the ASCII code of a character by using the following (for\n",
    "example with the char '5') `ord('5')`. You can also check what character\n",
    "is generated by an ASCII code by using `chr(53)` which will in this case return 5. See\n",
    "http://www.asciitable.com/ for more information on ASCII tables."
   ]
  },
  {
   "cell_type": "code",
   "execution_count": 7,
   "metadata": {
    "collapsed": true
   },
   "outputs": [],
   "source": [
    "def myBraille2ASCII(braille):\n",
    "    \"\"\"\n",
    "    >>> myBraille2ASCII([[[1,0],[0,0],[0,0]],[[1,0],[0,1],[0,0]],[[1,1],[0,0],[0,0]],[[1,1],[1,0],[0,0]]])\n",
    "    [49, 53, 51, 54]\n",
    "\n",
    "    :param braille: braille encoding\n",
    "    :return: ascii\n",
    "    \"\"\"\n",
    "    number = myBraille2Double(braille)\n",
    "    numberstr = str(number)\n",
    "\n",
    "    n_digits = len(numberstr)\n",
    "    ASCII = []\n",
    "\n",
    "    for i in range(n_digits):\n",
    "        ASCII.append(ord(numberstr[i]))\n",
    "\n",
    "    return ASCII"
   ]
  },
  {
   "cell_type": "code",
   "execution_count": null,
   "metadata": {
    "collapsed": true
   },
   "outputs": [],
   "source": []
  },
  {
   "cell_type": "markdown",
   "metadata": {},
   "source": [
    "## Question 3: Binary representations of integers\n",
    "\n",
    "There are many ways to represent integers in binary format (i.e. with only zeros and ones).\n",
    "In this problem, we only consider 8-bit representations: each integer will be represented in\n",
    "binary format by a sequence of 8 zeros and/or ones. You will learn and use three different\n",
    "binary representations for integers: \"unsigned representation\", \"sign-magnitude representation\", and \"two's complement representation\". Each of these representations is detailed\n",
    "below.\n",
    "\n",
    "In the unsigned representation, each bit represents a power of 2, from $2^0$ (right-\n",
    "most bit) to $2^7$ (left-most bit). For example, the binary representation 00100100 represents\n",
    "the integer $2^2 + 2^5 = 36$, and the binary representation 11101000 represents the integer\n",
    "$2^7+2^6+2^5+2^3 = 232$. Note that negative integers cannot be represented with the unsigned\n",
    "representation.\n",
    "\n",
    "In the signed-magnitude representation, the left-most bit represents the sign of the\n",
    "integer. If the left-most bit is 0, then the integer is positive. If the left-most bit is 1,\n",
    "then the integer is negative. The other bits represent the magnitude of the integer, each\n",
    "bit representing a power of 2, from $2^0$ (right-most bit) to $2^6$ (seventh bit from the right).\n",
    "For example, the binary representation 00100100 still represents the number $2^2 + 2^5 = 36$,\n",
    "while the binary representation 11101000 now represents the number $-(2^6 + 2^5 + 2^3) =\n",
    "-104$. Note that there are two possible binary representations of zero in the sign-magnitude\n",
    "representation (00000000 and 10000000).\n",
    "\n",
    "In the two's complement representation, the left-most bit represents -27 if it is 1,\n",
    "and 0 if it is 0. The other seven bits are used in the same way as in the unsigned and\n",
    "signed-magnitude representations. For example, the binary representation 00100100 still\n",
    "represents the number 36, while the binary representation 11101000 now represents the\n",
    "number $-2^7 + 2^6 + 2^5 + 2^3 = -24$.\n",
    "\n",
    "Write a function `myBinary2Num(binary, representation)` that outputs `result`,\n",
    "where `binary` is a character string of length 8 made of only zeros and ones, and `representation`\n",
    "is the name of the representation used for binary, given as a character string that can take\n",
    "one of the three following values: 'unsigned', 'sign-magnitude' and 'twos complement'.\n",
    "Your function should return in its output argument `result`, the number (in base 10, class double) that is represented by binary using the binary representation specified\n",
    "by `representation`."
   ]
  },
  {
   "cell_type": "code",
   "execution_count": null,
   "metadata": {
    "collapsed": true
   },
   "outputs": [],
   "source": [
    "def myBinary2Num(binary, representation):\n",
    "    \"\"\"\n",
    "    >>> myBinary2Num('11001000', 'unsigned')\n",
    "    200\n",
    "    >>> myBinary2Num('11001000', 'sign-magnitude')\n",
    "    -72\n",
    "    >>> myBinary2Num('11001000', 'twos complement')\n",
    "    -56\n",
    "    >>> myBinary2Num('01001110', 'unsigned')\n",
    "    78\n",
    "    >>> myBinary2Num('11001110', 'sign-magnitude')\n",
    "    -78\n",
    "    >>> myBinary2Num('11001110', 'twos complement')\n",
    "    -50\n",
    "\n",
    "    :param binary: character string of length 8, binary\n",
    "    :param representation: name of representation for binary\n",
    "    :return: output argument result in base 10\n",
    "    \"\"\"\n",
    "    num = str(binary)\n",
    "    result = 0\n",
    "\n",
    "    if representation == 'unsigned':\n",
    "        for i in range(0, len(num)):\n",
    "            if num[i] == '1':\n",
    "                result += 2**(7-i)\n",
    "\n",
    "    elif representation == 'sign-magnitude':\n",
    "        sign = 1\n",
    "        if num[0] == '1':\n",
    "            sign = -1\n",
    "        for i in range(1, len(num)):\n",
    "            if num[i] == '1':\n",
    "                result += 2**(7-i)\n",
    "        result *= sign\n",
    "\n",
    "    elif representation == 'twos complement':\n",
    "        if num[0] == '1':\n",
    "            result = result - 2**7\n",
    "        for i in range(1, len(num)):\n",
    "            if num[i] == '1':\n",
    "                result += 2**(7-i)\n",
    "\n",
    "    return result"
   ]
  },
  {
   "cell_type": "code",
   "execution_count": null,
   "metadata": {
    "collapsed": true
   },
   "outputs": [],
   "source": []
  },
  {
   "cell_type": "markdown",
   "metadata": {},
   "source": [
    "## Question 4: Floating Point Numbers\n",
    "\n",
    "### 4.1: Comparing Floating Point Numbers\n",
    "\n",
    "Write a function `myCompareFloats(x, y, tolerance)` that returns a tuple `exact, approx`, where `x`, `y`, and `tolerance` are scalars of class double, and `exact` and `approx` are scalars\n",
    "of class boolean. `exact` should be true (logical 1) if and only if `x == y` evaluates to true in\n",
    "Python. `approx` should be true if and only if the difference between `x` and `y` (in absolute\n",
    "value) is less than or equal to tolerance. In other words, the function's output argument\n",
    "approx indicates whether `x` and `y` are \"approximately equal\", where \"approximately equal\"\n",
    "is quantified by the input argument tolerance."
   ]
  },
  {
   "cell_type": "code",
   "execution_count": null,
   "metadata": {
    "collapsed": true
   },
   "outputs": [],
   "source": [
    "def myCompareFloats(x, y, tolerance=1e-9):\n",
    "    \"\"\"\n",
    "    >>> myCompareFloats(2+3, 5, 0)\n",
    "    (True, True)\n",
    "    >>> myCompareFloats(0, 0.001, 1e-2)\n",
    "    (False, True)\n",
    "\n",
    "    :param x: scalar, float\n",
    "    :param y: scalar, float\n",
    "    :param tolerance: absolute\n",
    "    :return: if the floats are about equal\n",
    "    \"\"\"\n",
    "    exact = (x==y)\n",
    "    approx = (abs(x-y)<=tolerance)\n",
    "    return exact, approx"
   ]
  },
  {
   "cell_type": "markdown",
   "metadata": {},
   "source": [
    "You do not have to submit any answer to the following questions to complete this assign-\n",
    "ment, but you should think about the answers to improve your understanding of the use of\n",
    "floating point numbers.\n",
    "\n",
    "- Why is exact equal to 0 in the last test case, while the following equality is mathemat-\n",
    "ically true: 0.1 + 0.2 = 0.3? Try displaying 0.3 and then 0.1+0.2 with 25 digits.\n",
    "\n",
    "- Given two numbers $x$ and $y$, how would you decide what value to use for the function's\n",
    "input argument tolerance?"
   ]
  },
  {
   "cell_type": "markdown",
   "metadata": {},
   "source": [
    "### Binary representation of floating point numbers (IEEE-754)\n",
    "\n",
    "There are multiple ways to represent floating point numbers in binary format (i.e. with\n",
    "only zeros and ones). The Institute of Electrical and Electronics Engineers (IEEE) defined a\n",
    "standard (called IEEE-754) for representing floating point numbers in binary format. IEEE-754 specifies diferent formats, depending on how many bits (e.g. 16 bits, 32 bits, 64 bits, 128 bits) are used to represent each \n",
    "floating point number. The formats that use 32 bits and\n",
    "64 bits to represent each number are commonly known as \"single precision\" and \"double\n",
    "precision\", respectively. \n",
    "\n",
    "In Python, you can experiment by defining a variable a that\n",
    "contains the value 1 (`a = 1`) in the command window and then using the function ???\n",
    "to inspect the variables currently defined in the workspace. \n",
    "\n",
    "You should see that the class\n",
    "of variable `a` is \"double\" (short for double precision) and that it occupies 8 bytes = 64 bits\n",
    "of memory. \n",
    "\n",
    "In this problem, we only consider single precision representations, where each\n",
    "number is represented using 32 bits (i.e. a sequence of 32 zeros and/or ones). We index the\n",
    "bits from left to right: the left-most bit is the 1st bit and the right-most bit is the 32nd bit. In\n",
    "the IEEE-754 standard, the number represented by a sequence of 32 bits can be calculated\n",
    "using the following formulae:\n",
    "\n",
    "$$\\begin{align}\n",
    "(-1)^s \\times 2^{e-d} \\times (1+f) && \\text{if} \\; e \\ne 0 \\; \\text{and} \\; e \\ne 255 \\\\\n",
    "(-1)^s \\times 2^{1-d} \\times f && \\text{if} \\; e = 0 \\; \\text{and} \\; f \\ne 255 \\\\\n",
    "0 && \\text{if} \\; e = 0 \\; \\text{and} \\; f = 255 \\\\\n",
    "(-1)^s \\times \\infty && \\text{if} \\; e = 255 \\; \\text{and} \\; f = 0 \\\\\n",
    "NaN \\;(\\text{Not a Number}) && \\text{if} \\; e = 255 \\; \\text{and} \\; f \\ne 0\n",
    "\\end{align}$$\n",
    "\n",
    "- $s$ is the value of the first bit\n",
    "- $d = 127$\n",
    "- $e$ is given by the integer represented by bits 2 through 9, using the unsigned 8-bit\n",
    "integer representation (see Problem 3); and\n",
    "- The value of $f$ is calculated using bits 10 through 32, each bit representing a $negative$\n",
    "power of 2, from $2^{-1}$ (10th bit) to $2^{-23}$ (32nd bit).\n",
    "\n",
    "Write a function `mySingle2Decimal(binary)` that outputs `result`, where `binary` is a character string of length 32 made of only zeros and ones, and `result` is the floating point number (in base 10, Python class \"double\") that is represented by\n",
    "binary using the IEEE-754 32-bit single precision binary representation. \n",
    "\n",
    "In Python, use `np.inf` as the infinite value and `np.nan` for quantities which are \"not a number\"."
   ]
  },
  {
   "cell_type": "code",
   "execution_count": null,
   "metadata": {
    "collapsed": true
   },
   "outputs": [],
   "source": [
    "def mySingle2Decimal(binary):\n",
    "    \"\"\"\n",
    "    >>> mySingle2Decimal ('00111111111100000000000000000000')\n",
    "    1.875\n",
    "    >>> mySingle2Decimal ('10111111000000000000000000000000')\n",
    "    -0.5\n",
    "    >>> mySingle2Decimal ('00100000100000000000000000000001')\n",
    "    2.1684046034649503e-19\n",
    "    >>> mySingle2Decimal ('11111111100000000000000000000000')\n",
    "    -inf\n",
    "    >>> mySingle2Decimal ('11111111100000000000000000000001')\n",
    "    nan\n",
    "    >>> mySingle2Decimal ('10111111010000000000000000000000')\n",
    "    -0.75\n",
    "    >>> mySingle2Decimal ('00100000100000000000111000000001')\n",
    "    2.1693310457510097e-19\n",
    "\n",
    "    :param binary:\n",
    "    :return:\n",
    "    \"\"\"\n",
    "    num = str(binary)\n",
    "    value_s = int(num[0])\n",
    "    value_d = 127\n",
    "    value_e = myBinary2Num(num[1:9], 'unsigned')\n",
    "\n",
    "    value_f = 0\n",
    "    for i in range(9,32):\n",
    "        if num[i] == '1':\n",
    "            value_f = value_f + 2**(8-i)\n",
    "\n",
    "    if not math.isclose(value_e, 0) and not math.isclose(value_e, 255):\n",
    "        result = ((-1)**value_s)*(2**(value_e-value_d))*(1+value_f)\n",
    "    elif math.isclose(value_e, 0) and not math.isclose(value_f, 0):\n",
    "        result = ((-1)**value_s)*(2**(1-value_d))*value_f\n",
    "    elif math.isclose(value_e, 0) and math.isclose(value_f, 0):\n",
    "        result = 0\n",
    "    elif math.isclose(value_e, 255) and math.isclose(value_f, 0):\n",
    "        result = ((-1)**value_s)*np.Inf\n",
    "    else:\n",
    "        result = np.NaN\n",
    "\n",
    "    return result"
   ]
  },
  {
   "cell_type": "markdown",
   "metadata": {
    "collapsed": true
   },
   "source": [
    "You do not have to submit any answer to the following questions to complete this as-\n",
    "signment, but you should think about the answers to improve your understanding of the\n",
    "representation of floating point numbers in computers.\n",
    "\n",
    "- What is the \"precision\" of the IEEE-754 representations when representing a number\n",
    "close to 0? What about for a number close to 1020? In Python use the function `np.spacing`\n",
    "to investigate the precision of the IEEE-754 representation for a given number.\n",
    "\n",
    "- What is the trade-off for using either the IEEE-754 32-bit or the 64-bit representation?"
   ]
  },
  {
   "cell_type": "code",
   "execution_count": null,
   "metadata": {
    "collapsed": true
   },
   "outputs": [],
   "source": []
  },
  {
   "cell_type": "markdown",
   "metadata": {},
   "source": [
    "## Question 5: Sorting and effciency of sorting algorithms\n",
    "\n",
    "In this problem, you will write Python functions to sort elements of the periodic table\n",
    "in alphabetical order (in parts a and b) and then compare (in part c) the efficiency of your\n",
    "sorting function against the efficiency of another sorting function that is given to you on\n",
    "bCourses. Note that the grading will not depend on the efficiency of your sorting algorithm,\n",
    "but your function does need to sort the elements properly."
   ]
  },
  {
   "cell_type": "markdown",
   "metadata": {},
   "source": [
    "### 5.1: Compare two elements\n",
    "\n",
    "Write a function `myCompareElements(element1, element2)` that returns `result`,\n",
    "where `element1` and `element2` are the names (as character strings) of two elements of the\n",
    "periodic table (for example: 'Hydrogen', 'Carbon'). The full list of the elements of the\n",
    "periodic table can be found in Figure 5, and in a separate text file on bcourses.\n",
    "\n",
    "Your function should return one of the following numbers (Python class \"double\"):\n",
    "- 0 if `element1` and `element2` are the same element.\n",
    "- 1 if the name of `element1` comes before the name of `element2` in alphabetical order.\n",
    "- -1 if the name of `element1` comes after the name of `element2` in alphabetical order.\n",
    "\n",
    "In this assignment, alphabetical ordering is determined by the ASCII codes of the letters\n",
    "making up the names of the elements. A letter with a small ASCII code comes before a\n",
    "letter with a larger ASCII code. Note that in this assignment, the names of the elements\n",
    "will always be given to you with the first letter in upper case and all the other letters in lower\n",
    "case. \n",
    "\n",
    "**Your function `myCompareElements` must not use Python's built-in sorting functions nor the function `GSISortElements`.**\n",
    "\n",
    "Hint: you can compare the alphabetical ordering of two single characters in Python\n",
    "with the logical operators `<`, `>`, and `==`. For example, `'b' < 'a'` will evaluate to `false` (0)."
   ]
  },
  {
   "cell_type": "code",
   "execution_count": null,
   "metadata": {
    "collapsed": true
   },
   "outputs": [],
   "source": [
    "def myCompareElements(element1, element2):\n",
    "    \"\"\"\n",
    "    >>> element1, element2 = 'Hydrogen', 'Carbon'\n",
    "    >>> myCompareElements (element1 , element2)\n",
    "    -1\n",
    "    >>> myCompareElements (element2 , element1)\n",
    "    1\n",
    "    >>> myCompareElements (element1 , element1)\n",
    "    0\n",
    "    >>> element1, element2 = 'Uranium', 'Boron'\n",
    "    >>> myCompareElements (element1 , element2)\n",
    "    -1\n",
    "    >>> myCompareElements (element2 , element1)\n",
    "    1\n",
    "    >>> myCompareElements (element1 , element1)\n",
    "    0\n",
    "    >>> element1, element2 = 'Plutonium', 'Hydrogen'\n",
    "    >>> myCompareElements (element1 , element2)\n",
    "    -1\n",
    "    >>> myCompareElements (element2 , element1)\n",
    "    1\n",
    "    >>> myCompareElements (element1 , element1)\n",
    "    0\n",
    "\n",
    "    :param element1: name of element of periodic table\n",
    "    :param element2: different element\n",
    "    :return: comparison\n",
    "    \"\"\"\n",
    "    if element1 < element2:\n",
    "        return 1\n",
    "    elif element1 == element2:\n",
    "        return 0\n",
    "    else:\n",
    "        return -1"
   ]
  },
  {
   "cell_type": "markdown",
   "metadata": {},
   "source": [
    "### 5.2: Sort a list of elements\n",
    "\n",
    "Write a function `mySortElements(elements)`,\n",
    "where `elements` is a $1 \\times n$ cell array that represents a list of n elements of the periodic\n",
    "table. Each cell of the cell array contains the name of an element of the periodic table as a\n",
    "character string. Multiple cells of elements can represent the same element (i.e. there can\n",
    "be duplicate elements in the list).\n",
    "\n",
    "The function should return a $1 \\times n$ cell array that represents the same list of elements as\n",
    "the one represented by elements but sorted in alphabetical order. If `elements` is an empty\n",
    "cell array, then sorted should be an empty cell array. \n",
    "\n",
    "**Your function mySortElements\n",
    "must not use Python's built-in sort sort or the function GSISortElements**"
   ]
  },
  {
   "cell_type": "markdown",
   "metadata": {},
   "source": [
    "Hints:\n",
    "\n",
    "- You may want to use the function myCompareElements which you wrote in part 1 of\n",
    "this problem.\n",
    "- You can find below the description of a sorting algorithm that you can use (it is more\n",
    "simple to implement but less efficient than many other sorting algorithms):\n",
    "\n",
    "1. Create an empty cell array (e.g. `sorted=[]`) that will eventually contain the\n",
    "sorted elements;\n",
    "2. Find the element in the unsorted cell array that has the lowest rank in alphabetical\n",
    "order. (Hint: your function `myCompareElements` may be useful to achieve this\n",
    "goal);\n",
    "3. Add that element at the end of the sorted cell array;\n",
    "4. Remove that element from the unsorted cell array (Use `del elements[i]` to\n",
    "remove the cell with index i from cell array elements);\n",
    "5. Repeat steps 2 through 5 until the unsorted array is empty.\n",
    "\n",
    "- You can use Python's built-in function sort or the function `GSISortElements` (see\n",
    "next part) to check that your function is working properly. However, you cannot call\n",
    "these functions from within your function `mySortElements`."
   ]
  },
  {
   "cell_type": "code",
   "execution_count": 35,
   "metadata": {
    "collapsed": true
   },
   "outputs": [],
   "source": [
    "def mySortElements(elements):\n",
    "    \"\"\"\n",
    "    >>> elements=['Hydrogen' , 'Carbon' , 'Magnesium' , 'Calcium' , 'Carbon']\n",
    "    >>> mySortElements(elements)\n",
    "    ['Calcium', 'Carbon', 'Carbon', 'Hydrogen', 'Magnesium']\n",
    "    >>> elements=['Dubnium','Bohrium','Copernicium','Meitnerium','Roentgenium']\n",
    "    >>> mySortElements(elements)\n",
    "    ['Bohrium', 'Copernicium', 'Dubnium', 'Meitnerium', 'Roentgenium']\n",
    "    >>> elements=['Argon','Argon']\n",
    "    >>> mySortElements(elements)\n",
    "    ['Argon', 'Argon']\n",
    "\n",
    "    :param elements: 1xn cell array representing list of n elements of periodic table\n",
    "    :return: 1xn cell array that represents the sorted list\n",
    "    \"\"\"\n",
    "    sorted = []\n",
    "    heapq.heapify(elements)\n",
    "    while len(elements) > 0:\n",
    "        sorted.append(heapq.heappop(elements))\n",
    "    return sorted"
   ]
  },
  {
   "cell_type": "markdown",
   "metadata": {},
   "source": [
    "### 5.3: Efficiency of sorting algorithms\n",
    "\n",
    "You must complete part 2 of this problem before you can do this part. Write a function\n",
    "that compares the effciency of the `mySortElements` function you wrote in part 2 of this\n",
    "problem to the efficiency of the sorting function `GSISortElements` that is available as a `.pyc`\n",
    "file on bCourses. Here, we define efficiency as the time taken by the sorting function to sort\n",
    "a given list of elements. Note that there are many other criteria that should be considered\n",
    "for a more exhaustive characterization of the efficiency of an algorithm (for example RAM\n",
    "usage), but we ignore these in this assignment. Write the function `myCompareSorting(n)`\n",
    "\n",
    "The function's input argument `n` is an integer, strictly greater\n",
    "than zero. Your function must create a plot of the time taken by your function `mySortElements`\n",
    "(as well as the time taken by the function `GSISortElements`) to sort an array of elements\n",
    "versus the size of the array. More precisely, your function must do the following:"
   ]
  },
  {
   "cell_type": "markdown",
   "metadata": {},
   "source": [
    "- For each integer m between 1 and n (1 and n included):\n",
    " - Generate a $1 \\times m$ cell array of randomly chosen elements of the periodic ta-\n",
    "    ble. Use the function GSIRandomElements available as a .pyc file on bCourses to\n",
    "    generate such a cell array. The header of the `GSIRandomElements` function is\n",
    "    function [elements] = GSIRandomElements(m), where m is an integer larger than or equal to zero, and elements is a $1 \\times m$ cell\n",
    "    array of randomly chosen elements of the periodic table.\n",
    " - Sort the same list of elements twice, once using the `mySortElements` function you\n",
    "    wrote in part 2 and once more using the function `GSISortElements`. The input\n",
    "    and output arguments of `GSISortElements` are the same as for `mySortElements`.\n",
    "    Measure the amount of time taken by these two functions (separately) to sort the\n",
    "    list of elements using the Python function `time.time()`.\n",
    " - During execution of the function `myCompareSorting` the function\n",
    "    `GSIRandomElements` should only be called once to create a $1 \\times n$ cell array.\n",
    "    To sort a smaller ($1 \\times m$) array, use the first m elements of the output of\n",
    "    `GSIRandomElements`.\n",
    "\n",
    "- On a single figure, plot the execution times corresponding to your mySortElements\n",
    "function versus the number of elements being sorted. On the same plot, use another\n",
    "color to plot the execution times corresponding to `GSISortElements` function versus\n",
    "the number of elements being sorted. Format the plot appropriately (i.e. label x- and\n",
    "y-axes, add a legend box or line labels, etc.). Figure 4 shows an example obtained with\n",
    "two different sorting algorithms and n = 200. You can use a legend box instead of line\n",
    "labels on your plot."
   ]
  },
  {
   "cell_type": "markdown",
   "metadata": {},
   "source": [
    "Hint: You can find below an example of the use of the Python functions tic and toc\n",
    "to measure the execution time of a piece of code:\n",
    "\n",
    "```Python\n",
    "t = time.time()\n",
    "FibRec(25)\n",
    "t = time.time() - t\n",
    "```\n",
    "\n",
    "After executing this code, the variable time will contain the execution time (in seconds) of\n",
    "the piece of code located between the calls to tic and toc, which in this case is a call to the\n",
    "function FibRec.\n",
    "\n",
    "![](E7_Lab5_1.jpg)\n",
    "\n",
    "Note that the grading will not depend on the efficiency of your sorting algorithm (but\n",
    "your function `mySortElements` must sort the elements properly). For this problem, it does\n",
    "not matter whether your function `mySortElements` runs slower or faster than the sample\n",
    "function `GSISortElements`. One goal of this problem is to confront you with the fact that\n",
    "there might be multiple ways to achieve the same goals (e.g. sort in alphabetical order) using\n",
    "computer programming. Some algorithms are more efficient than others, some algorithms\n",
    "are easier to implement than others, etc. Note that the efficiency of a given algorithm can\n",
    "vary under di\u000b",
    "erent conditions (e.g. is the list of elements already a little bit or completely\n",
    "sorted?). Also note that execution time depends on other criteria such as computer hardware,\n",
    "amount of RAM used by other applications, etc. You do not need to submit the plot for\n",
    "this problem, just the function file."
   ]
  },
  {
   "cell_type": "code",
   "execution_count": 3,
   "metadata": {
    "collapsed": true
   },
   "outputs": [],
   "source": [
    "def myCompareSorting(n):\n",
    "    \"\"\"\n",
    "\n",
    "    :param n: integer greater than 0\n",
    "    :return: chart of time comparison\n",
    "    \"\"\"\n",
    "    time_student = []\n",
    "    time_gsi = []\n",
    "    elems = [random.random() for _ in range(int(n))]\n",
    "    # x_ax = [2**i for i in range(int(math.ceil(math.log(n, 2))))]\n",
    "    x_ax = []\n",
    "    i = n//10\n",
    "    while i < n:\n",
    "        t = time.time()\n",
    "        mySortElements(elems[:i])\n",
    "        time_student.append((time.time() - t)*1000)\n",
    "\n",
    "        t = time.time()\n",
    "        sorted(elems[:i])\n",
    "        time_gsi.append((time.time() - t)*1000)\n",
    "\n",
    "        x_ax.append(i)\n",
    "\n",
    "        i += n//10\n",
    "\n",
    "    fig, ax = plt.subplots()\n",
    "    plt.xlabel('Size of list to sort')\n",
    "    plt.ylabel('Wall time taken by sorted alg (ms)')\n",
    "    plt.title('Comparision of sorting algs')\n",
    "    print(time_student)\n",
    "    print(time_gsi)\n",
    "    ax.plot(x_ax, time_student, label='student')\n",
    "    ax.plot(x_ax, time_gsi, label='gsi')\n",
    "    handles, labels = ax.get_legend_handles_labels()\n",
    "    ax.legend(handles, labels)\n",
    "    plt.show()"
   ]
  },
  {
   "cell_type": "code",
   "execution_count": 2,
   "metadata": {},
   "outputs": [
    {
     "ename": "NameError",
     "evalue": "name 'myCompareSorting' is not defined",
     "output_type": "error",
     "traceback": [
      "\u001b[1;31m---------------------------------------------------------------------------\u001b[0m",
      "\u001b[1;31mNameError\u001b[0m                                 Traceback (most recent call last)",
      "\u001b[1;32m<ipython-input-2-8f953e5c25d5>\u001b[0m in \u001b[0;36m<module>\u001b[1;34m()\u001b[0m\n\u001b[1;32m----> 1\u001b[1;33m \u001b[0mmyCompareSorting\u001b[0m\u001b[1;33m(\u001b[0m\u001b[0mint\u001b[0m\u001b[1;33m(\u001b[0m\u001b[1;36m1e6\u001b[0m\u001b[1;33m)\u001b[0m\u001b[1;33m)\u001b[0m\u001b[1;33m\u001b[0m\u001b[0m\n\u001b[0m",
      "\u001b[1;31mNameError\u001b[0m: name 'myCompareSorting' is not defined"
     ]
    }
   ],
   "source": [
    "myCompareSorting(int(1e6))"
   ]
  }
 ],
 "metadata": {
  "kernelspec": {
   "display_name": "Python 3",
   "language": "python",
   "name": "python3"
  },
  "language_info": {
   "codemirror_mode": {
    "name": "ipython",
    "version": 3
   },
   "file_extension": ".py",
   "mimetype": "text/x-python",
   "name": "python",
   "nbconvert_exporter": "python",
   "pygments_lexer": "ipython3",
   "version": "3.6.1"
  }
 },
 "nbformat": 4,
 "nbformat_minor": 2
}
